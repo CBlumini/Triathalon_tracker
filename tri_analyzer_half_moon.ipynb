{
 "cells": [
  {
   "cell_type": "markdown",
   "id": "bdf15cbf-ab0b-40e5-8275-10e39a418134",
   "metadata": {},
   "source": [
    "## Core Functions\n",
    "- Report the range of times for each event for the given data set (done)\n",
    "- Report the median time for each for the selected data set (done)\n",
    "- Report fastest for each event along with that person and the rest of their time (EX \"Christina Hepper has the fastest Swim at _____ and had the following other times...., Jamie Fend had the fastest T1 at _____ and had teh following other times....\" (done, but need to improve formatting of result)\n",
    "- Create functions\n",
    "-- function to convert to integer minutes (done)\n",
    "-- function for performance standardizing (done)\n",
    "- Compute the fastest theoretical time (done)\n",
    "- Compute the median theoretical time\n",
    "- Report how selected Bib Number did relative to lead (EX \"989 was 0.9x at swimming, 1.1x at T1....\")\n",
    "- Create a line plot with each event on the X, the Standardized Time on the Y (standardize to fastest?) and each line being an athlete, highlight the user and the median line\n",
    "- Need to cumsum the colums\n",
    "\n",
    "## Future\n",
    "- Use mongo db to store data\n",
    "- Automatically scrape the results\n",
    "- Compute a \"competitiveness\" score for each race (like FSAE world: https://fs-world.org/)\n",
    "- Calculate the percentile for eahc event for the user"
   ]
  },
  {
   "cell_type": "code",
   "execution_count": 103,
   "id": "fa5d5a9c-37f8-4cc1-b3ee-0e09fac52558",
   "metadata": {},
   "outputs": [],
   "source": [
    "import pandas as pd\n",
    "import plotly.express as px\n",
    "import plotly.graph_objects as go\n",
    "import time\n",
    "#from bokeh.plotting import figure, show\n",
    "#from sqlalchemy import create_engine\n",
    "#pd.set_option(\"precision\", 2)\n",
    "pd.set_option('display.float_format', '{:.2f}'.format)\n",
    "pd.set_option('display.max_columns', None)"
   ]
  },
  {
   "cell_type": "markdown",
   "id": "639485b8",
   "metadata": {},
   "source": [
    "Read in the data from the spreadsheet"
   ]
  },
  {
   "cell_type": "code",
   "execution_count": 37,
   "id": "3385b8ae-c16c-4269-a84d-877808016dfd",
   "metadata": {},
   "outputs": [
    {
     "data": {
      "text/html": [
       "<div>\n",
       "<style scoped>\n",
       "    .dataframe tbody tr th:only-of-type {\n",
       "        vertical-align: middle;\n",
       "    }\n",
       "\n",
       "    .dataframe tbody tr th {\n",
       "        vertical-align: top;\n",
       "    }\n",
       "\n",
       "    .dataframe thead th {\n",
       "        text-align: right;\n",
       "    }\n",
       "</style>\n",
       "<table border=\"1\" class=\"dataframe\">\n",
       "  <thead>\n",
       "    <tr style=\"text-align: right;\">\n",
       "      <th></th>\n",
       "      <th>Unnamed: 0</th>\n",
       "      <th>Bib</th>\n",
       "      <th>Name</th>\n",
       "      <th>Team Name</th>\n",
       "      <th>Start Time</th>\n",
       "      <th>Swim</th>\n",
       "      <th>T1</th>\n",
       "      <th>Bike</th>\n",
       "      <th>T2</th>\n",
       "      <th>Run</th>\n",
       "      <th>Chip Elapsed</th>\n",
       "      <th>Division</th>\n",
       "      <th>Div Place</th>\n",
       "      <th>Age</th>\n",
       "      <th>Age Place</th>\n",
       "      <th>Gender</th>\n",
       "      <th>Gender Place</th>\n",
       "    </tr>\n",
       "  </thead>\n",
       "  <tbody>\n",
       "    <tr>\n",
       "      <th>0</th>\n",
       "      <td>0</td>\n",
       "      <td>327</td>\n",
       "      <td>BEN HOSKINS</td>\n",
       "      <td>STANFORD TRI CLUB</td>\n",
       "      <td>07:00:00</td>\n",
       "      <td>00:14:34</td>\n",
       "      <td>00:01:27</td>\n",
       "      <td>00:59:22</td>\n",
       "      <td>00:00:56</td>\n",
       "      <td>00:31:14</td>\n",
       "      <td>01:47:35</td>\n",
       "      <td>OLYMPIC TRIATHLON</td>\n",
       "      <td>1</td>\n",
       "      <td>23</td>\n",
       "      <td>1</td>\n",
       "      <td>M</td>\n",
       "      <td>1</td>\n",
       "    </tr>\n",
       "    <tr>\n",
       "      <th>1</th>\n",
       "      <td>1</td>\n",
       "      <td>312</td>\n",
       "      <td>ALEKSEI AVERCHENKO</td>\n",
       "      <td>TEAM SHEEPER</td>\n",
       "      <td>07:00:00</td>\n",
       "      <td>00:12:59</td>\n",
       "      <td>00:01:03</td>\n",
       "      <td>01:02:03</td>\n",
       "      <td>00:00:43</td>\n",
       "      <td>00:30:55</td>\n",
       "      <td>01:47:46</td>\n",
       "      <td>OLYMPIC TRIATHLON</td>\n",
       "      <td>2</td>\n",
       "      <td>29</td>\n",
       "      <td>1</td>\n",
       "      <td>M</td>\n",
       "      <td>2</td>\n",
       "    </tr>\n",
       "    <tr>\n",
       "      <th>2</th>\n",
       "      <td>2</td>\n",
       "      <td>30</td>\n",
       "      <td>KYLE WILLIAMS</td>\n",
       "      <td>THE OLYMPIC CLUB</td>\n",
       "      <td>07:05:00</td>\n",
       "      <td>00:14:14</td>\n",
       "      <td>00:02:09</td>\n",
       "      <td>00:59:03</td>\n",
       "      <td>00:01:01</td>\n",
       "      <td>00:35:43</td>\n",
       "      <td>01:52:12</td>\n",
       "      <td>OLYMPIC TRIATHLON</td>\n",
       "      <td>3</td>\n",
       "      <td>32</td>\n",
       "      <td>1</td>\n",
       "      <td>M</td>\n",
       "      <td>3</td>\n",
       "    </tr>\n",
       "    <tr>\n",
       "      <th>3</th>\n",
       "      <td>3</td>\n",
       "      <td>279</td>\n",
       "      <td>ERIC LAURICELLA</td>\n",
       "      <td>NaN</td>\n",
       "      <td>07:00:00</td>\n",
       "      <td>00:17:05</td>\n",
       "      <td>00:01:04</td>\n",
       "      <td>01:00:56</td>\n",
       "      <td>00:01:12</td>\n",
       "      <td>00:32:44</td>\n",
       "      <td>01:53:03</td>\n",
       "      <td>OLYMPIC TRIATHLON</td>\n",
       "      <td>4</td>\n",
       "      <td>26</td>\n",
       "      <td>2</td>\n",
       "      <td>M</td>\n",
       "      <td>4</td>\n",
       "    </tr>\n",
       "    <tr>\n",
       "      <th>4</th>\n",
       "      <td>4</td>\n",
       "      <td>101</td>\n",
       "      <td>PATRICK TALBOTT</td>\n",
       "      <td>NaN</td>\n",
       "      <td>07:05:00</td>\n",
       "      <td>00:15:00</td>\n",
       "      <td>00:02:14</td>\n",
       "      <td>01:01:40</td>\n",
       "      <td>00:01:17</td>\n",
       "      <td>00:34:04</td>\n",
       "      <td>01:54:17</td>\n",
       "      <td>OLYMPIC TRIATHLON</td>\n",
       "      <td>5</td>\n",
       "      <td>33</td>\n",
       "      <td>2</td>\n",
       "      <td>M</td>\n",
       "      <td>5</td>\n",
       "    </tr>\n",
       "  </tbody>\n",
       "</table>\n",
       "</div>"
      ],
      "text/plain": [
       "   Unnamed: 0  Bib                Name          Team Name Start Time  \\\n",
       "0           0  327         BEN HOSKINS  STANFORD TRI CLUB   07:00:00   \n",
       "1           1  312  ALEKSEI AVERCHENKO       TEAM SHEEPER   07:00:00   \n",
       "2           2   30       KYLE WILLIAMS   THE OLYMPIC CLUB   07:05:00   \n",
       "3           3  279     ERIC LAURICELLA                NaN   07:00:00   \n",
       "4           4  101     PATRICK TALBOTT                NaN   07:05:00   \n",
       "\n",
       "       Swim        T1      Bike        T2       Run Chip Elapsed  \\\n",
       "0  00:14:34  00:01:27  00:59:22  00:00:56  00:31:14     01:47:35   \n",
       "1  00:12:59  00:01:03  01:02:03  00:00:43  00:30:55     01:47:46   \n",
       "2  00:14:14  00:02:09  00:59:03  00:01:01  00:35:43     01:52:12   \n",
       "3  00:17:05  00:01:04  01:00:56  00:01:12  00:32:44     01:53:03   \n",
       "4  00:15:00  00:02:14  01:01:40  00:01:17  00:34:04     01:54:17   \n",
       "\n",
       "            Division  Div Place  Age  Age Place Gender  Gender Place  \n",
       "0  OLYMPIC TRIATHLON          1   23          1      M             1  \n",
       "1  OLYMPIC TRIATHLON          2   29          1      M             2  \n",
       "2  OLYMPIC TRIATHLON          3   32          1      M             3  \n",
       "3  OLYMPIC TRIATHLON          4   26          2      M             4  \n",
       "4  OLYMPIC TRIATHLON          5   33          2      M             5  "
      ]
     },
     "execution_count": 37,
     "metadata": {},
     "output_type": "execute_result"
    }
   ],
   "source": [
    "data = pd.read_excel('half-moon-bay-olympic.xlsx', header = 0, index_col=None)\n",
    "data.head()\n",
    "#\n",
    "#testdf = pd.read_html(\"https://results.svetiming.com/Santa-Cruz-Triathlon/events/2021/Santa-Cruz-Triathlon/results\", attrs={'class': 'table table-condensed table-bordered table-striped table-hover'})"
   ]
  },
  {
   "cell_type": "markdown",
   "id": "da16105c",
   "metadata": {},
   "source": [
    "Clean up the columns"
   ]
  },
  {
   "cell_type": "code",
   "execution_count": 38,
   "id": "30516aed",
   "metadata": {},
   "outputs": [],
   "source": [
    "data.drop(data.columns[[0]], axis=1, inplace=True)\n"
   ]
  },
  {
   "cell_type": "code",
   "execution_count": 39,
   "id": "3518ce66",
   "metadata": {},
   "outputs": [
    {
     "data": {
      "text/html": [
       "<div>\n",
       "<style scoped>\n",
       "    .dataframe tbody tr th:only-of-type {\n",
       "        vertical-align: middle;\n",
       "    }\n",
       "\n",
       "    .dataframe tbody tr th {\n",
       "        vertical-align: top;\n",
       "    }\n",
       "\n",
       "    .dataframe thead th {\n",
       "        text-align: right;\n",
       "    }\n",
       "</style>\n",
       "<table border=\"1\" class=\"dataframe\">\n",
       "  <thead>\n",
       "    <tr style=\"text-align: right;\">\n",
       "      <th></th>\n",
       "      <th>Bib</th>\n",
       "      <th>Name</th>\n",
       "      <th>Team Name</th>\n",
       "      <th>Start Time</th>\n",
       "      <th>Swim</th>\n",
       "      <th>T1</th>\n",
       "      <th>Bike</th>\n",
       "      <th>T2</th>\n",
       "      <th>Run</th>\n",
       "      <th>Chip Elapsed</th>\n",
       "      <th>Division</th>\n",
       "      <th>Div Place</th>\n",
       "      <th>Age</th>\n",
       "      <th>Age Place</th>\n",
       "      <th>Gender</th>\n",
       "      <th>Gender Place</th>\n",
       "    </tr>\n",
       "  </thead>\n",
       "  <tbody>\n",
       "    <tr>\n",
       "      <th>0</th>\n",
       "      <td>327</td>\n",
       "      <td>BEN HOSKINS</td>\n",
       "      <td>STANFORD TRI CLUB</td>\n",
       "      <td>07:00:00</td>\n",
       "      <td>00:14:34</td>\n",
       "      <td>00:01:27</td>\n",
       "      <td>00:59:22</td>\n",
       "      <td>00:00:56</td>\n",
       "      <td>00:31:14</td>\n",
       "      <td>01:47:35</td>\n",
       "      <td>OLYMPIC TRIATHLON</td>\n",
       "      <td>1</td>\n",
       "      <td>23</td>\n",
       "      <td>1</td>\n",
       "      <td>M</td>\n",
       "      <td>1</td>\n",
       "    </tr>\n",
       "    <tr>\n",
       "      <th>1</th>\n",
       "      <td>312</td>\n",
       "      <td>ALEKSEI AVERCHENKO</td>\n",
       "      <td>TEAM SHEEPER</td>\n",
       "      <td>07:00:00</td>\n",
       "      <td>00:12:59</td>\n",
       "      <td>00:01:03</td>\n",
       "      <td>01:02:03</td>\n",
       "      <td>00:00:43</td>\n",
       "      <td>00:30:55</td>\n",
       "      <td>01:47:46</td>\n",
       "      <td>OLYMPIC TRIATHLON</td>\n",
       "      <td>2</td>\n",
       "      <td>29</td>\n",
       "      <td>1</td>\n",
       "      <td>M</td>\n",
       "      <td>2</td>\n",
       "    </tr>\n",
       "    <tr>\n",
       "      <th>2</th>\n",
       "      <td>30</td>\n",
       "      <td>KYLE WILLIAMS</td>\n",
       "      <td>THE OLYMPIC CLUB</td>\n",
       "      <td>07:05:00</td>\n",
       "      <td>00:14:14</td>\n",
       "      <td>00:02:09</td>\n",
       "      <td>00:59:03</td>\n",
       "      <td>00:01:01</td>\n",
       "      <td>00:35:43</td>\n",
       "      <td>01:52:12</td>\n",
       "      <td>OLYMPIC TRIATHLON</td>\n",
       "      <td>3</td>\n",
       "      <td>32</td>\n",
       "      <td>1</td>\n",
       "      <td>M</td>\n",
       "      <td>3</td>\n",
       "    </tr>\n",
       "    <tr>\n",
       "      <th>3</th>\n",
       "      <td>279</td>\n",
       "      <td>ERIC LAURICELLA</td>\n",
       "      <td>NaN</td>\n",
       "      <td>07:00:00</td>\n",
       "      <td>00:17:05</td>\n",
       "      <td>00:01:04</td>\n",
       "      <td>01:00:56</td>\n",
       "      <td>00:01:12</td>\n",
       "      <td>00:32:44</td>\n",
       "      <td>01:53:03</td>\n",
       "      <td>OLYMPIC TRIATHLON</td>\n",
       "      <td>4</td>\n",
       "      <td>26</td>\n",
       "      <td>2</td>\n",
       "      <td>M</td>\n",
       "      <td>4</td>\n",
       "    </tr>\n",
       "    <tr>\n",
       "      <th>4</th>\n",
       "      <td>101</td>\n",
       "      <td>PATRICK TALBOTT</td>\n",
       "      <td>NaN</td>\n",
       "      <td>07:05:00</td>\n",
       "      <td>00:15:00</td>\n",
       "      <td>00:02:14</td>\n",
       "      <td>01:01:40</td>\n",
       "      <td>00:01:17</td>\n",
       "      <td>00:34:04</td>\n",
       "      <td>01:54:17</td>\n",
       "      <td>OLYMPIC TRIATHLON</td>\n",
       "      <td>5</td>\n",
       "      <td>33</td>\n",
       "      <td>2</td>\n",
       "      <td>M</td>\n",
       "      <td>5</td>\n",
       "    </tr>\n",
       "  </tbody>\n",
       "</table>\n",
       "</div>"
      ],
      "text/plain": [
       "   Bib                Name          Team Name Start Time      Swim        T1  \\\n",
       "0  327         BEN HOSKINS  STANFORD TRI CLUB   07:00:00  00:14:34  00:01:27   \n",
       "1  312  ALEKSEI AVERCHENKO       TEAM SHEEPER   07:00:00  00:12:59  00:01:03   \n",
       "2   30       KYLE WILLIAMS   THE OLYMPIC CLUB   07:05:00  00:14:14  00:02:09   \n",
       "3  279     ERIC LAURICELLA                NaN   07:00:00  00:17:05  00:01:04   \n",
       "4  101     PATRICK TALBOTT                NaN   07:05:00  00:15:00  00:02:14   \n",
       "\n",
       "       Bike        T2       Run Chip Elapsed           Division  Div Place  \\\n",
       "0  00:59:22  00:00:56  00:31:14     01:47:35  OLYMPIC TRIATHLON          1   \n",
       "1  01:02:03  00:00:43  00:30:55     01:47:46  OLYMPIC TRIATHLON          2   \n",
       "2  00:59:03  00:01:01  00:35:43     01:52:12  OLYMPIC TRIATHLON          3   \n",
       "3  01:00:56  00:01:12  00:32:44     01:53:03  OLYMPIC TRIATHLON          4   \n",
       "4  01:01:40  00:01:17  00:34:04     01:54:17  OLYMPIC TRIATHLON          5   \n",
       "\n",
       "   Age  Age Place Gender  Gender Place  \n",
       "0   23          1      M             1  \n",
       "1   29          1      M             2  \n",
       "2   32          1      M             3  \n",
       "3   26          2      M             4  \n",
       "4   33          2      M             5  "
      ]
     },
     "execution_count": 39,
     "metadata": {},
     "output_type": "execute_result"
    }
   ],
   "source": [
    "data.head()\n",
    "#data['Age'].describe()"
   ]
  },
  {
   "cell_type": "code",
   "execution_count": 40,
   "id": "1c0b1a84",
   "metadata": {},
   "outputs": [],
   "source": [
    "#data_test = pd.to_datetime(data['Start Time'])"
   ]
  },
  {
   "cell_type": "code",
   "execution_count": 41,
   "id": "321b49b8",
   "metadata": {},
   "outputs": [],
   "source": [
    "#data_test.head()\n",
    "#print(data.at[1, 'Swim'])"
   ]
  },
  {
   "cell_type": "markdown",
   "id": "bbe00456-8eb1-48a0-b86a-4ceacfb8c7c9",
   "metadata": {},
   "source": [
    "The values all come in as intergs. The code below converts the data to decimal time\n",
    "\n",
    "It also creates cumulative times for later use"
   ]
  },
  {
   "cell_type": "code",
   "execution_count": 42,
   "id": "7ef338f4-31e9-4553-b46d-ab88648e0a26",
   "metadata": {},
   "outputs": [
    {
     "data": {
      "text/html": [
       "<div>\n",
       "<style scoped>\n",
       "    .dataframe tbody tr th:only-of-type {\n",
       "        vertical-align: middle;\n",
       "    }\n",
       "\n",
       "    .dataframe tbody tr th {\n",
       "        vertical-align: top;\n",
       "    }\n",
       "\n",
       "    .dataframe thead th {\n",
       "        text-align: right;\n",
       "    }\n",
       "</style>\n",
       "<table border=\"1\" class=\"dataframe\">\n",
       "  <thead>\n",
       "    <tr style=\"text-align: right;\">\n",
       "      <th></th>\n",
       "      <th>Bib</th>\n",
       "      <th>Name</th>\n",
       "      <th>Team Name</th>\n",
       "      <th>Start Time</th>\n",
       "      <th>Swim</th>\n",
       "      <th>T1</th>\n",
       "      <th>Bike</th>\n",
       "      <th>T2</th>\n",
       "      <th>Run</th>\n",
       "      <th>Chip Elapsed</th>\n",
       "      <th>...</th>\n",
       "      <th>Gender Place</th>\n",
       "      <th>Swim Minutes</th>\n",
       "      <th>T1 Minutes</th>\n",
       "      <th>Bike Minutes</th>\n",
       "      <th>T2 Minutes</th>\n",
       "      <th>Run Minutes</th>\n",
       "      <th>Swim+T1</th>\n",
       "      <th>Plus Bike</th>\n",
       "      <th>Plus T2</th>\n",
       "      <th>Total</th>\n",
       "    </tr>\n",
       "  </thead>\n",
       "  <tbody>\n",
       "    <tr>\n",
       "      <th>0</th>\n",
       "      <td>327</td>\n",
       "      <td>BEN HOSKINS</td>\n",
       "      <td>STANFORD TRI CLUB</td>\n",
       "      <td>07:00:00</td>\n",
       "      <td>00:14:34</td>\n",
       "      <td>00:01:27</td>\n",
       "      <td>00:59:22</td>\n",
       "      <td>00:00:56</td>\n",
       "      <td>00:31:14</td>\n",
       "      <td>01:47:35</td>\n",
       "      <td>...</td>\n",
       "      <td>1</td>\n",
       "      <td>14.57</td>\n",
       "      <td>1.45</td>\n",
       "      <td>59.37</td>\n",
       "      <td>0.93</td>\n",
       "      <td>31.23</td>\n",
       "      <td>16.02</td>\n",
       "      <td>75.38</td>\n",
       "      <td>76.32</td>\n",
       "      <td>107.55</td>\n",
       "    </tr>\n",
       "    <tr>\n",
       "      <th>1</th>\n",
       "      <td>312</td>\n",
       "      <td>ALEKSEI AVERCHENKO</td>\n",
       "      <td>TEAM SHEEPER</td>\n",
       "      <td>07:00:00</td>\n",
       "      <td>00:12:59</td>\n",
       "      <td>00:01:03</td>\n",
       "      <td>01:02:03</td>\n",
       "      <td>00:00:43</td>\n",
       "      <td>00:30:55</td>\n",
       "      <td>01:47:46</td>\n",
       "      <td>...</td>\n",
       "      <td>2</td>\n",
       "      <td>12.98</td>\n",
       "      <td>1.05</td>\n",
       "      <td>62.05</td>\n",
       "      <td>0.72</td>\n",
       "      <td>30.92</td>\n",
       "      <td>14.03</td>\n",
       "      <td>76.08</td>\n",
       "      <td>76.80</td>\n",
       "      <td>107.72</td>\n",
       "    </tr>\n",
       "    <tr>\n",
       "      <th>2</th>\n",
       "      <td>30</td>\n",
       "      <td>KYLE WILLIAMS</td>\n",
       "      <td>THE OLYMPIC CLUB</td>\n",
       "      <td>07:05:00</td>\n",
       "      <td>00:14:14</td>\n",
       "      <td>00:02:09</td>\n",
       "      <td>00:59:03</td>\n",
       "      <td>00:01:01</td>\n",
       "      <td>00:35:43</td>\n",
       "      <td>01:52:12</td>\n",
       "      <td>...</td>\n",
       "      <td>3</td>\n",
       "      <td>14.23</td>\n",
       "      <td>2.15</td>\n",
       "      <td>59.05</td>\n",
       "      <td>1.02</td>\n",
       "      <td>35.72</td>\n",
       "      <td>16.38</td>\n",
       "      <td>75.43</td>\n",
       "      <td>76.45</td>\n",
       "      <td>112.17</td>\n",
       "    </tr>\n",
       "    <tr>\n",
       "      <th>3</th>\n",
       "      <td>279</td>\n",
       "      <td>ERIC LAURICELLA</td>\n",
       "      <td>NaN</td>\n",
       "      <td>07:00:00</td>\n",
       "      <td>00:17:05</td>\n",
       "      <td>00:01:04</td>\n",
       "      <td>01:00:56</td>\n",
       "      <td>00:01:12</td>\n",
       "      <td>00:32:44</td>\n",
       "      <td>01:53:03</td>\n",
       "      <td>...</td>\n",
       "      <td>4</td>\n",
       "      <td>17.08</td>\n",
       "      <td>1.07</td>\n",
       "      <td>60.93</td>\n",
       "      <td>1.20</td>\n",
       "      <td>32.73</td>\n",
       "      <td>18.15</td>\n",
       "      <td>79.08</td>\n",
       "      <td>80.28</td>\n",
       "      <td>113.02</td>\n",
       "    </tr>\n",
       "    <tr>\n",
       "      <th>4</th>\n",
       "      <td>101</td>\n",
       "      <td>PATRICK TALBOTT</td>\n",
       "      <td>NaN</td>\n",
       "      <td>07:05:00</td>\n",
       "      <td>00:15:00</td>\n",
       "      <td>00:02:14</td>\n",
       "      <td>01:01:40</td>\n",
       "      <td>00:01:17</td>\n",
       "      <td>00:34:04</td>\n",
       "      <td>01:54:17</td>\n",
       "      <td>...</td>\n",
       "      <td>5</td>\n",
       "      <td>15.00</td>\n",
       "      <td>2.23</td>\n",
       "      <td>61.67</td>\n",
       "      <td>1.28</td>\n",
       "      <td>34.07</td>\n",
       "      <td>17.23</td>\n",
       "      <td>78.90</td>\n",
       "      <td>80.18</td>\n",
       "      <td>114.25</td>\n",
       "    </tr>\n",
       "  </tbody>\n",
       "</table>\n",
       "<p>5 rows × 25 columns</p>\n",
       "</div>"
      ],
      "text/plain": [
       "   Bib                Name          Team Name Start Time      Swim        T1  \\\n",
       "0  327         BEN HOSKINS  STANFORD TRI CLUB   07:00:00  00:14:34  00:01:27   \n",
       "1  312  ALEKSEI AVERCHENKO       TEAM SHEEPER   07:00:00  00:12:59  00:01:03   \n",
       "2   30       KYLE WILLIAMS   THE OLYMPIC CLUB   07:05:00  00:14:14  00:02:09   \n",
       "3  279     ERIC LAURICELLA                NaN   07:00:00  00:17:05  00:01:04   \n",
       "4  101     PATRICK TALBOTT                NaN   07:05:00  00:15:00  00:02:14   \n",
       "\n",
       "       Bike        T2       Run Chip Elapsed  ... Gender Place  Swim Minutes  \\\n",
       "0  00:59:22  00:00:56  00:31:14     01:47:35  ...            1         14.57   \n",
       "1  01:02:03  00:00:43  00:30:55     01:47:46  ...            2         12.98   \n",
       "2  00:59:03  00:01:01  00:35:43     01:52:12  ...            3         14.23   \n",
       "3  01:00:56  00:01:12  00:32:44     01:53:03  ...            4         17.08   \n",
       "4  01:01:40  00:01:17  00:34:04     01:54:17  ...            5         15.00   \n",
       "\n",
       "   T1 Minutes  Bike Minutes T2 Minutes  Run Minutes  Swim+T1  Plus Bike  \\\n",
       "0        1.45         59.37       0.93        31.23    16.02      75.38   \n",
       "1        1.05         62.05       0.72        30.92    14.03      76.08   \n",
       "2        2.15         59.05       1.02        35.72    16.38      75.43   \n",
       "3        1.07         60.93       1.20        32.73    18.15      79.08   \n",
       "4        2.23         61.67       1.28        34.07    17.23      78.90   \n",
       "\n",
       "   Plus T2  Total  \n",
       "0    76.32 107.55  \n",
       "1    76.80 107.72  \n",
       "2    76.45 112.17  \n",
       "3    80.28 113.02  \n",
       "4    80.18 114.25  \n",
       "\n",
       "[5 rows x 25 columns]"
      ]
     },
     "execution_count": 42,
     "metadata": {},
     "output_type": "execute_result"
    }
   ],
   "source": [
    "#create a function to convert the time to integer seconds\n",
    "#To create a new column, use the [] brackets with the new column name at the left side of the assignment.\n",
    "\n",
    "def convertTime (time):\n",
    "    temp = time.split(':')\n",
    "    timeMinutes = (int(temp[0])*60)+int(temp[1])+int(temp[2])/60\n",
    "    return timeMinutes\n",
    "\n",
    "    \n",
    "#convert to integers\n",
    "data[\"Swim Minutes\"] = data[\"Swim\"].apply(convertTime)\n",
    "data[\"T1 Minutes\"] = data[\"T1\"].apply(convertTime)\n",
    "data[\"Bike Minutes\"] = data[\"Bike\"].apply(convertTime)\n",
    "data[\"T2 Minutes\"] = data[\"T2\"].apply(convertTime)\n",
    "data[\"Run Minutes\"] = data[\"Run\"].apply(convertTime)\n",
    "#data[\"Elapsed Minutes\"] = data[\"Chip Elapsed\"].apply(convertTime)\n",
    "\n",
    "#create cumulative times\n",
    "data[\"Swim+T1\"]=data[\"Swim Minutes\"]+data[\"T1 Minutes\"]\n",
    "data[\"Plus Bike\"]=data[\"Swim+T1\"]+data[\"Bike Minutes\"]\n",
    "data[\"Plus T2\"]=data[\"Plus Bike\"]+data[\"T2 Minutes\"]\n",
    "data[\"Total\"]=data[\"Plus T2\"]+data[\"Run Minutes\"]\n",
    "\n",
    "\n",
    "\n",
    "data.head()"
   ]
  },
  {
   "cell_type": "markdown",
   "id": "63735039",
   "metadata": {},
   "source": [
    "Count how many people in each ag group"
   ]
  },
  {
   "cell_type": "code",
   "execution_count": 44,
   "id": "1f96361d",
   "metadata": {},
   "outputs": [
    {
     "name": "stdout",
     "output_type": "stream",
     "text": [
      "2\n"
     ]
    }
   ],
   "source": [
    "age18_19 = data[(data['Age'] <= 19) & (data['Age'] >= 18)]['Age'].count()\n",
    "age20_24 = data[(data['Age'] <= 20) & (data['Age'] >= 24)]['Age'].count()\n",
    "\n",
    "print(age18_19)\n",
    "print(age20_24)"
   ]
  },
  {
   "cell_type": "code",
   "execution_count": 71,
   "id": "f7ef7002",
   "metadata": {},
   "outputs": [
    {
     "name": "stdout",
     "output_type": "stream",
     "text": [
      "[20, 25, 30, 35, 40, 45, 50, 55, 60, 65, 70, 75, 80]\n",
      "[24, 29, 34, 39, 44, 49, 54, 59, 64, 69, 74, 79, 84]\n"
     ]
    }
   ],
   "source": [
    "start_ages = []\n",
    "end_ages =[]\n",
    "for start in range(20, 85, 5):\n",
    "    start_ages.append(start)\n",
    "for end in range (24, 89, 5):\n",
    "    end_ages.append(end)\n",
    "\n",
    "print(start_ages)\n",
    "print(end_ages)"
   ]
  },
  {
   "cell_type": "code",
   "execution_count": 99,
   "id": "ebc5cb42",
   "metadata": {},
   "outputs": [],
   "source": [
    "def determine_agegroup(row):\n",
    "    age = int(row['Age'])\n",
    "    for start, stop in zip(start_ages, end_ages):\n",
    "        if start<=age<=stop:\n",
    "            return '%d-%d' %(start, stop)\n"
   ]
  },
  {
   "cell_type": "code",
   "execution_count": 100,
   "id": "4de61a21",
   "metadata": {},
   "outputs": [],
   "source": [
    "data['Age Group'] = data.apply(determine_agegroup, axis=1)"
   ]
  },
  {
   "cell_type": "code",
   "execution_count": 108,
   "id": "92a844b2",
   "metadata": {},
   "outputs": [
    {
     "data": {
      "text/plain": [
       "numpy.int64"
      ]
     },
     "execution_count": 108,
     "metadata": {},
     "output_type": "execute_result"
    }
   ],
   "source": [
    "type(data.at[0, 'Age'])"
   ]
  },
  {
   "cell_type": "code",
   "execution_count": 82,
   "id": "bdf1154b",
   "metadata": {},
   "outputs": [],
   "source": [
    "group_sizes = []\n",
    "#group_sizes.append(data[(data['Age'] <= 19) & (data['Age'] >= 18)]['Age'].count())\n",
    "for start, stop in zip(start_ages, end_ages):\n",
    "    group_sizes.append(data[(data['Age'] <= stop) & (data['Age'] >= start)]['Age'].count())\n",
    "#group_sizes.append(group_sizes.append(data[(data['Age'] >= 85)]['Age'].count()))"
   ]
  },
  {
   "cell_type": "code",
   "execution_count": 83,
   "id": "a002579f",
   "metadata": {},
   "outputs": [
    {
     "name": "stdout",
     "output_type": "stream",
     "text": [
      "13\n",
      "[18, 74, 78, 39, 28, 35, 27, 18, 9, 5, 1, 1, 0]\n"
     ]
    }
   ],
   "source": [
    "print(len(group_sizes))\n",
    "print(group_sizes)"
   ]
  },
  {
   "cell_type": "code",
   "execution_count": 84,
   "id": "8226ae7a",
   "metadata": {},
   "outputs": [
    {
     "name": "stdout",
     "output_type": "stream",
     "text": [
      "13\n"
     ]
    }
   ],
   "source": [
    "\n",
    "ages = [ '20-24', '25-29', '30-34', '35-39', '40-44', '45-49', '50-54', '55-59', '60-64', '65-69', '70-74', '75-79', '80-84',]\n",
    "print(len(ages))"
   ]
  },
  {
   "cell_type": "code",
   "execution_count": 90,
   "id": "399a8dda",
   "metadata": {},
   "outputs": [
    {
     "data": {
      "text/html": [
       "<div>\n",
       "<style scoped>\n",
       "    .dataframe tbody tr th:only-of-type {\n",
       "        vertical-align: middle;\n",
       "    }\n",
       "\n",
       "    .dataframe tbody tr th {\n",
       "        vertical-align: top;\n",
       "    }\n",
       "\n",
       "    .dataframe thead th {\n",
       "        text-align: right;\n",
       "    }\n",
       "</style>\n",
       "<table border=\"1\" class=\"dataframe\">\n",
       "  <thead>\n",
       "    <tr style=\"text-align: right;\">\n",
       "      <th></th>\n",
       "      <th>Age Range</th>\n",
       "      <th>Athletes</th>\n",
       "    </tr>\n",
       "  </thead>\n",
       "  <tbody>\n",
       "    <tr>\n",
       "      <th>0</th>\n",
       "      <td>20-24</td>\n",
       "      <td>18</td>\n",
       "    </tr>\n",
       "    <tr>\n",
       "      <th>1</th>\n",
       "      <td>25-29</td>\n",
       "      <td>74</td>\n",
       "    </tr>\n",
       "    <tr>\n",
       "      <th>2</th>\n",
       "      <td>30-34</td>\n",
       "      <td>78</td>\n",
       "    </tr>\n",
       "    <tr>\n",
       "      <th>3</th>\n",
       "      <td>35-39</td>\n",
       "      <td>39</td>\n",
       "    </tr>\n",
       "    <tr>\n",
       "      <th>4</th>\n",
       "      <td>40-44</td>\n",
       "      <td>28</td>\n",
       "    </tr>\n",
       "    <tr>\n",
       "      <th>5</th>\n",
       "      <td>45-49</td>\n",
       "      <td>35</td>\n",
       "    </tr>\n",
       "    <tr>\n",
       "      <th>6</th>\n",
       "      <td>50-54</td>\n",
       "      <td>27</td>\n",
       "    </tr>\n",
       "    <tr>\n",
       "      <th>7</th>\n",
       "      <td>55-59</td>\n",
       "      <td>18</td>\n",
       "    </tr>\n",
       "    <tr>\n",
       "      <th>8</th>\n",
       "      <td>60-64</td>\n",
       "      <td>9</td>\n",
       "    </tr>\n",
       "    <tr>\n",
       "      <th>9</th>\n",
       "      <td>65-69</td>\n",
       "      <td>5</td>\n",
       "    </tr>\n",
       "    <tr>\n",
       "      <th>10</th>\n",
       "      <td>70-74</td>\n",
       "      <td>1</td>\n",
       "    </tr>\n",
       "    <tr>\n",
       "      <th>11</th>\n",
       "      <td>75-79</td>\n",
       "      <td>1</td>\n",
       "    </tr>\n",
       "    <tr>\n",
       "      <th>12</th>\n",
       "      <td>80-84</td>\n",
       "      <td>0</td>\n",
       "    </tr>\n",
       "  </tbody>\n",
       "</table>\n",
       "</div>"
      ],
      "text/plain": [
       "   Age Range  Athletes\n",
       "0      20-24        18\n",
       "1      25-29        74\n",
       "2      30-34        78\n",
       "3      35-39        39\n",
       "4      40-44        28\n",
       "5      45-49        35\n",
       "6      50-54        27\n",
       "7      55-59        18\n",
       "8      60-64         9\n",
       "9      65-69         5\n",
       "10     70-74         1\n",
       "11     75-79         1\n",
       "12     80-84         0"
      ]
     },
     "execution_count": 90,
     "metadata": {},
     "output_type": "execute_result"
    }
   ],
   "source": [
    "zipped = zip(ages, group_sizes)\n",
    "piedf = pd.DataFrame(zipped, columns=['Age Range', 'Athletes'])\n",
    "piedf"
   ]
  },
  {
   "cell_type": "code",
   "execution_count": 92,
   "id": "1c3b871b",
   "metadata": {},
   "outputs": [
    {
     "data": {
      "application/vnd.plotly.v1+json": {
       "config": {
        "plotlyServerURL": "https://plot.ly"
       },
       "data": [
        {
         "domain": {
          "x": [
           0,
           1
          ],
          "y": [
           0,
           1
          ]
         },
         "hovertemplate": "Age Range=%{label}<br>Athletes=%{value}<extra></extra>",
         "labels": [
          "20-24",
          "25-29",
          "30-34",
          "35-39",
          "40-44",
          "45-49",
          "50-54",
          "55-59",
          "60-64",
          "65-69",
          "70-74",
          "75-79",
          "80-84"
         ],
         "legendgroup": "",
         "name": "",
         "showlegend": true,
         "type": "pie",
         "values": [
          18,
          74,
          78,
          39,
          28,
          35,
          27,
          18,
          9,
          5,
          1,
          1,
          0
         ]
        }
       ],
       "layout": {
        "legend": {
         "tracegroupgap": 0
        },
        "margin": {
         "t": 60
        },
        "template": {
         "data": {
          "bar": [
           {
            "error_x": {
             "color": "#2a3f5f"
            },
            "error_y": {
             "color": "#2a3f5f"
            },
            "marker": {
             "line": {
              "color": "#E5ECF6",
              "width": 0.5
             },
             "pattern": {
              "fillmode": "overlay",
              "size": 10,
              "solidity": 0.2
             }
            },
            "type": "bar"
           }
          ],
          "barpolar": [
           {
            "marker": {
             "line": {
              "color": "#E5ECF6",
              "width": 0.5
             },
             "pattern": {
              "fillmode": "overlay",
              "size": 10,
              "solidity": 0.2
             }
            },
            "type": "barpolar"
           }
          ],
          "carpet": [
           {
            "aaxis": {
             "endlinecolor": "#2a3f5f",
             "gridcolor": "white",
             "linecolor": "white",
             "minorgridcolor": "white",
             "startlinecolor": "#2a3f5f"
            },
            "baxis": {
             "endlinecolor": "#2a3f5f",
             "gridcolor": "white",
             "linecolor": "white",
             "minorgridcolor": "white",
             "startlinecolor": "#2a3f5f"
            },
            "type": "carpet"
           }
          ],
          "choropleth": [
           {
            "colorbar": {
             "outlinewidth": 0,
             "ticks": ""
            },
            "type": "choropleth"
           }
          ],
          "contour": [
           {
            "colorbar": {
             "outlinewidth": 0,
             "ticks": ""
            },
            "colorscale": [
             [
              0,
              "#0d0887"
             ],
             [
              0.1111111111111111,
              "#46039f"
             ],
             [
              0.2222222222222222,
              "#7201a8"
             ],
             [
              0.3333333333333333,
              "#9c179e"
             ],
             [
              0.4444444444444444,
              "#bd3786"
             ],
             [
              0.5555555555555556,
              "#d8576b"
             ],
             [
              0.6666666666666666,
              "#ed7953"
             ],
             [
              0.7777777777777778,
              "#fb9f3a"
             ],
             [
              0.8888888888888888,
              "#fdca26"
             ],
             [
              1,
              "#f0f921"
             ]
            ],
            "type": "contour"
           }
          ],
          "contourcarpet": [
           {
            "colorbar": {
             "outlinewidth": 0,
             "ticks": ""
            },
            "type": "contourcarpet"
           }
          ],
          "heatmap": [
           {
            "colorbar": {
             "outlinewidth": 0,
             "ticks": ""
            },
            "colorscale": [
             [
              0,
              "#0d0887"
             ],
             [
              0.1111111111111111,
              "#46039f"
             ],
             [
              0.2222222222222222,
              "#7201a8"
             ],
             [
              0.3333333333333333,
              "#9c179e"
             ],
             [
              0.4444444444444444,
              "#bd3786"
             ],
             [
              0.5555555555555556,
              "#d8576b"
             ],
             [
              0.6666666666666666,
              "#ed7953"
             ],
             [
              0.7777777777777778,
              "#fb9f3a"
             ],
             [
              0.8888888888888888,
              "#fdca26"
             ],
             [
              1,
              "#f0f921"
             ]
            ],
            "type": "heatmap"
           }
          ],
          "heatmapgl": [
           {
            "colorbar": {
             "outlinewidth": 0,
             "ticks": ""
            },
            "colorscale": [
             [
              0,
              "#0d0887"
             ],
             [
              0.1111111111111111,
              "#46039f"
             ],
             [
              0.2222222222222222,
              "#7201a8"
             ],
             [
              0.3333333333333333,
              "#9c179e"
             ],
             [
              0.4444444444444444,
              "#bd3786"
             ],
             [
              0.5555555555555556,
              "#d8576b"
             ],
             [
              0.6666666666666666,
              "#ed7953"
             ],
             [
              0.7777777777777778,
              "#fb9f3a"
             ],
             [
              0.8888888888888888,
              "#fdca26"
             ],
             [
              1,
              "#f0f921"
             ]
            ],
            "type": "heatmapgl"
           }
          ],
          "histogram": [
           {
            "marker": {
             "pattern": {
              "fillmode": "overlay",
              "size": 10,
              "solidity": 0.2
             }
            },
            "type": "histogram"
           }
          ],
          "histogram2d": [
           {
            "colorbar": {
             "outlinewidth": 0,
             "ticks": ""
            },
            "colorscale": [
             [
              0,
              "#0d0887"
             ],
             [
              0.1111111111111111,
              "#46039f"
             ],
             [
              0.2222222222222222,
              "#7201a8"
             ],
             [
              0.3333333333333333,
              "#9c179e"
             ],
             [
              0.4444444444444444,
              "#bd3786"
             ],
             [
              0.5555555555555556,
              "#d8576b"
             ],
             [
              0.6666666666666666,
              "#ed7953"
             ],
             [
              0.7777777777777778,
              "#fb9f3a"
             ],
             [
              0.8888888888888888,
              "#fdca26"
             ],
             [
              1,
              "#f0f921"
             ]
            ],
            "type": "histogram2d"
           }
          ],
          "histogram2dcontour": [
           {
            "colorbar": {
             "outlinewidth": 0,
             "ticks": ""
            },
            "colorscale": [
             [
              0,
              "#0d0887"
             ],
             [
              0.1111111111111111,
              "#46039f"
             ],
             [
              0.2222222222222222,
              "#7201a8"
             ],
             [
              0.3333333333333333,
              "#9c179e"
             ],
             [
              0.4444444444444444,
              "#bd3786"
             ],
             [
              0.5555555555555556,
              "#d8576b"
             ],
             [
              0.6666666666666666,
              "#ed7953"
             ],
             [
              0.7777777777777778,
              "#fb9f3a"
             ],
             [
              0.8888888888888888,
              "#fdca26"
             ],
             [
              1,
              "#f0f921"
             ]
            ],
            "type": "histogram2dcontour"
           }
          ],
          "mesh3d": [
           {
            "colorbar": {
             "outlinewidth": 0,
             "ticks": ""
            },
            "type": "mesh3d"
           }
          ],
          "parcoords": [
           {
            "line": {
             "colorbar": {
              "outlinewidth": 0,
              "ticks": ""
             }
            },
            "type": "parcoords"
           }
          ],
          "pie": [
           {
            "automargin": true,
            "type": "pie"
           }
          ],
          "scatter": [
           {
            "fillpattern": {
             "fillmode": "overlay",
             "size": 10,
             "solidity": 0.2
            },
            "type": "scatter"
           }
          ],
          "scatter3d": [
           {
            "line": {
             "colorbar": {
              "outlinewidth": 0,
              "ticks": ""
             }
            },
            "marker": {
             "colorbar": {
              "outlinewidth": 0,
              "ticks": ""
             }
            },
            "type": "scatter3d"
           }
          ],
          "scattercarpet": [
           {
            "marker": {
             "colorbar": {
              "outlinewidth": 0,
              "ticks": ""
             }
            },
            "type": "scattercarpet"
           }
          ],
          "scattergeo": [
           {
            "marker": {
             "colorbar": {
              "outlinewidth": 0,
              "ticks": ""
             }
            },
            "type": "scattergeo"
           }
          ],
          "scattergl": [
           {
            "marker": {
             "colorbar": {
              "outlinewidth": 0,
              "ticks": ""
             }
            },
            "type": "scattergl"
           }
          ],
          "scattermapbox": [
           {
            "marker": {
             "colorbar": {
              "outlinewidth": 0,
              "ticks": ""
             }
            },
            "type": "scattermapbox"
           }
          ],
          "scatterpolar": [
           {
            "marker": {
             "colorbar": {
              "outlinewidth": 0,
              "ticks": ""
             }
            },
            "type": "scatterpolar"
           }
          ],
          "scatterpolargl": [
           {
            "marker": {
             "colorbar": {
              "outlinewidth": 0,
              "ticks": ""
             }
            },
            "type": "scatterpolargl"
           }
          ],
          "scatterternary": [
           {
            "marker": {
             "colorbar": {
              "outlinewidth": 0,
              "ticks": ""
             }
            },
            "type": "scatterternary"
           }
          ],
          "surface": [
           {
            "colorbar": {
             "outlinewidth": 0,
             "ticks": ""
            },
            "colorscale": [
             [
              0,
              "#0d0887"
             ],
             [
              0.1111111111111111,
              "#46039f"
             ],
             [
              0.2222222222222222,
              "#7201a8"
             ],
             [
              0.3333333333333333,
              "#9c179e"
             ],
             [
              0.4444444444444444,
              "#bd3786"
             ],
             [
              0.5555555555555556,
              "#d8576b"
             ],
             [
              0.6666666666666666,
              "#ed7953"
             ],
             [
              0.7777777777777778,
              "#fb9f3a"
             ],
             [
              0.8888888888888888,
              "#fdca26"
             ],
             [
              1,
              "#f0f921"
             ]
            ],
            "type": "surface"
           }
          ],
          "table": [
           {
            "cells": {
             "fill": {
              "color": "#EBF0F8"
             },
             "line": {
              "color": "white"
             }
            },
            "header": {
             "fill": {
              "color": "#C8D4E3"
             },
             "line": {
              "color": "white"
             }
            },
            "type": "table"
           }
          ]
         },
         "layout": {
          "annotationdefaults": {
           "arrowcolor": "#2a3f5f",
           "arrowhead": 0,
           "arrowwidth": 1
          },
          "autotypenumbers": "strict",
          "coloraxis": {
           "colorbar": {
            "outlinewidth": 0,
            "ticks": ""
           }
          },
          "colorscale": {
           "diverging": [
            [
             0,
             "#8e0152"
            ],
            [
             0.1,
             "#c51b7d"
            ],
            [
             0.2,
             "#de77ae"
            ],
            [
             0.3,
             "#f1b6da"
            ],
            [
             0.4,
             "#fde0ef"
            ],
            [
             0.5,
             "#f7f7f7"
            ],
            [
             0.6,
             "#e6f5d0"
            ],
            [
             0.7,
             "#b8e186"
            ],
            [
             0.8,
             "#7fbc41"
            ],
            [
             0.9,
             "#4d9221"
            ],
            [
             1,
             "#276419"
            ]
           ],
           "sequential": [
            [
             0,
             "#0d0887"
            ],
            [
             0.1111111111111111,
             "#46039f"
            ],
            [
             0.2222222222222222,
             "#7201a8"
            ],
            [
             0.3333333333333333,
             "#9c179e"
            ],
            [
             0.4444444444444444,
             "#bd3786"
            ],
            [
             0.5555555555555556,
             "#d8576b"
            ],
            [
             0.6666666666666666,
             "#ed7953"
            ],
            [
             0.7777777777777778,
             "#fb9f3a"
            ],
            [
             0.8888888888888888,
             "#fdca26"
            ],
            [
             1,
             "#f0f921"
            ]
           ],
           "sequentialminus": [
            [
             0,
             "#0d0887"
            ],
            [
             0.1111111111111111,
             "#46039f"
            ],
            [
             0.2222222222222222,
             "#7201a8"
            ],
            [
             0.3333333333333333,
             "#9c179e"
            ],
            [
             0.4444444444444444,
             "#bd3786"
            ],
            [
             0.5555555555555556,
             "#d8576b"
            ],
            [
             0.6666666666666666,
             "#ed7953"
            ],
            [
             0.7777777777777778,
             "#fb9f3a"
            ],
            [
             0.8888888888888888,
             "#fdca26"
            ],
            [
             1,
             "#f0f921"
            ]
           ]
          },
          "colorway": [
           "#636efa",
           "#EF553B",
           "#00cc96",
           "#ab63fa",
           "#FFA15A",
           "#19d3f3",
           "#FF6692",
           "#B6E880",
           "#FF97FF",
           "#FECB52"
          ],
          "font": {
           "color": "#2a3f5f"
          },
          "geo": {
           "bgcolor": "white",
           "lakecolor": "white",
           "landcolor": "#E5ECF6",
           "showlakes": true,
           "showland": true,
           "subunitcolor": "white"
          },
          "hoverlabel": {
           "align": "left"
          },
          "hovermode": "closest",
          "mapbox": {
           "style": "light"
          },
          "paper_bgcolor": "white",
          "plot_bgcolor": "#E5ECF6",
          "polar": {
           "angularaxis": {
            "gridcolor": "white",
            "linecolor": "white",
            "ticks": ""
           },
           "bgcolor": "#E5ECF6",
           "radialaxis": {
            "gridcolor": "white",
            "linecolor": "white",
            "ticks": ""
           }
          },
          "scene": {
           "xaxis": {
            "backgroundcolor": "#E5ECF6",
            "gridcolor": "white",
            "gridwidth": 2,
            "linecolor": "white",
            "showbackground": true,
            "ticks": "",
            "zerolinecolor": "white"
           },
           "yaxis": {
            "backgroundcolor": "#E5ECF6",
            "gridcolor": "white",
            "gridwidth": 2,
            "linecolor": "white",
            "showbackground": true,
            "ticks": "",
            "zerolinecolor": "white"
           },
           "zaxis": {
            "backgroundcolor": "#E5ECF6",
            "gridcolor": "white",
            "gridwidth": 2,
            "linecolor": "white",
            "showbackground": true,
            "ticks": "",
            "zerolinecolor": "white"
           }
          },
          "shapedefaults": {
           "line": {
            "color": "#2a3f5f"
           }
          },
          "ternary": {
           "aaxis": {
            "gridcolor": "white",
            "linecolor": "white",
            "ticks": ""
           },
           "baxis": {
            "gridcolor": "white",
            "linecolor": "white",
            "ticks": ""
           },
           "bgcolor": "#E5ECF6",
           "caxis": {
            "gridcolor": "white",
            "linecolor": "white",
            "ticks": ""
           }
          },
          "title": {
           "x": 0.05
          },
          "xaxis": {
           "automargin": true,
           "gridcolor": "white",
           "linecolor": "white",
           "ticks": "",
           "title": {
            "standoff": 15
           },
           "zerolinecolor": "white",
           "zerolinewidth": 2
          },
          "yaxis": {
           "automargin": true,
           "gridcolor": "white",
           "linecolor": "white",
           "ticks": "",
           "title": {
            "standoff": 15
           },
           "zerolinecolor": "white",
           "zerolinewidth": 2
          }
         }
        }
       }
      }
     },
     "metadata": {},
     "output_type": "display_data"
    }
   ],
   "source": [
    "fig = px.pie(piedf, values='Athletes', names='Age Range')\n",
    "fig.show()"
   ]
  },
  {
   "cell_type": "markdown",
   "id": "e8fa667b",
   "metadata": {},
   "source": [
    "Filter out the people who didn't finish, have zeros for times and optionally were on teams and by gender"
   ]
  },
  {
   "cell_type": "code",
   "execution_count": 19,
   "id": "38bea6cc",
   "metadata": {},
   "outputs": [],
   "source": [
    "data = data[data['Gender'] == 'F']  # set M or F for gener or comment out line to include all\n",
    "#data = data[data.isnull().any(axis=1)] #do this to filter in people who were not on a team\n",
    "data = data[data['Run Minutes'] > 0]\n",
    "data = data[data['Bike Minutes'] > 0]\n"
   ]
  },
  {
   "cell_type": "markdown",
   "id": "ff654fe1-6ce6-48d2-ab38-6216d0683a0a",
   "metadata": {},
   "source": [
    "Get statistical data about the event."
   ]
  },
  {
   "cell_type": "code",
   "execution_count": 20,
   "id": "844c2b61-6482-41b1-823b-9bbe3e563765",
   "metadata": {},
   "outputs": [
    {
     "data": {
      "text/html": [
       "<div>\n",
       "<style scoped>\n",
       "    .dataframe tbody tr th:only-of-type {\n",
       "        vertical-align: middle;\n",
       "    }\n",
       "\n",
       "    .dataframe tbody tr th {\n",
       "        vertical-align: top;\n",
       "    }\n",
       "\n",
       "    .dataframe thead th {\n",
       "        text-align: right;\n",
       "    }\n",
       "</style>\n",
       "<table border=\"1\" class=\"dataframe\">\n",
       "  <thead>\n",
       "    <tr style=\"text-align: right;\">\n",
       "      <th></th>\n",
       "      <th>Swim Minutes</th>\n",
       "      <th>T1 Minutes</th>\n",
       "      <th>Bike Minutes</th>\n",
       "      <th>T2 Minutes</th>\n",
       "      <th>Run Minutes</th>\n",
       "    </tr>\n",
       "  </thead>\n",
       "  <tbody>\n",
       "    <tr>\n",
       "      <th>count</th>\n",
       "      <td>29.00</td>\n",
       "      <td>29.00</td>\n",
       "      <td>29.00</td>\n",
       "      <td>29.00</td>\n",
       "      <td>29.00</td>\n",
       "    </tr>\n",
       "    <tr>\n",
       "      <th>mean</th>\n",
       "      <td>22.43</td>\n",
       "      <td>5.17</td>\n",
       "      <td>81.79</td>\n",
       "      <td>3.31</td>\n",
       "      <td>50.36</td>\n",
       "    </tr>\n",
       "    <tr>\n",
       "      <th>std</th>\n",
       "      <td>3.14</td>\n",
       "      <td>1.90</td>\n",
       "      <td>6.68</td>\n",
       "      <td>1.47</td>\n",
       "      <td>7.35</td>\n",
       "    </tr>\n",
       "    <tr>\n",
       "      <th>min</th>\n",
       "      <td>17.73</td>\n",
       "      <td>2.27</td>\n",
       "      <td>70.95</td>\n",
       "      <td>1.42</td>\n",
       "      <td>35.63</td>\n",
       "    </tr>\n",
       "    <tr>\n",
       "      <th>25%</th>\n",
       "      <td>20.32</td>\n",
       "      <td>3.78</td>\n",
       "      <td>76.03</td>\n",
       "      <td>2.25</td>\n",
       "      <td>46.02</td>\n",
       "    </tr>\n",
       "    <tr>\n",
       "      <th>50%</th>\n",
       "      <td>22.33</td>\n",
       "      <td>4.63</td>\n",
       "      <td>81.50</td>\n",
       "      <td>3.13</td>\n",
       "      <td>49.73</td>\n",
       "    </tr>\n",
       "    <tr>\n",
       "      <th>75%</th>\n",
       "      <td>23.58</td>\n",
       "      <td>6.30</td>\n",
       "      <td>87.17</td>\n",
       "      <td>3.88</td>\n",
       "      <td>55.47</td>\n",
       "    </tr>\n",
       "    <tr>\n",
       "      <th>max</th>\n",
       "      <td>31.60</td>\n",
       "      <td>10.45</td>\n",
       "      <td>93.92</td>\n",
       "      <td>7.12</td>\n",
       "      <td>66.90</td>\n",
       "    </tr>\n",
       "  </tbody>\n",
       "</table>\n",
       "</div>"
      ],
      "text/plain": [
       "       Swim Minutes  T1 Minutes  Bike Minutes  T2 Minutes  Run Minutes\n",
       "count         29.00       29.00         29.00       29.00        29.00\n",
       "mean          22.43        5.17         81.79        3.31        50.36\n",
       "std            3.14        1.90          6.68        1.47         7.35\n",
       "min           17.73        2.27         70.95        1.42        35.63\n",
       "25%           20.32        3.78         76.03        2.25        46.02\n",
       "50%           22.33        4.63         81.50        3.13        49.73\n",
       "75%           23.58        6.30         87.17        3.88        55.47\n",
       "max           31.60       10.45         93.92        7.12        66.90"
      ]
     },
     "execution_count": 20,
     "metadata": {},
     "output_type": "execute_result"
    }
   ],
   "source": [
    "summary = data.describe()\n",
    "data[[\"Swim Minutes\", \"T1 Minutes\", \"Bike Minutes\", \"T2 Minutes\", \"Run Minutes\"]].describe()\n"
   ]
  },
  {
   "cell_type": "code",
   "execution_count": 21,
   "id": "02cfa0e1-351f-4199-a55d-0563cfb2942c",
   "metadata": {},
   "outputs": [
    {
     "data": {
      "text/html": [
       "<div>\n",
       "<style scoped>\n",
       "    .dataframe tbody tr th:only-of-type {\n",
       "        vertical-align: middle;\n",
       "    }\n",
       "\n",
       "    .dataframe tbody tr th {\n",
       "        vertical-align: top;\n",
       "    }\n",
       "\n",
       "    .dataframe thead th {\n",
       "        text-align: right;\n",
       "    }\n",
       "</style>\n",
       "<table border=\"1\" class=\"dataframe\">\n",
       "  <thead>\n",
       "    <tr style=\"text-align: right;\">\n",
       "      <th></th>\n",
       "      <th>Name</th>\n",
       "      <th>Age</th>\n",
       "      <th>Gender Place</th>\n",
       "      <th>Swim</th>\n",
       "      <th>T1</th>\n",
       "      <th>Bike</th>\n",
       "      <th>T2</th>\n",
       "      <th>Run</th>\n",
       "    </tr>\n",
       "  </thead>\n",
       "  <tbody>\n",
       "    <tr>\n",
       "      <th>167</th>\n",
       "      <td>SAMANTHA DEWEES</td>\n",
       "      <td>26</td>\n",
       "      <td>30</td>\n",
       "      <td>00:22:23</td>\n",
       "      <td>00:04:38</td>\n",
       "      <td>01:16:02</td>\n",
       "      <td>00:03:12</td>\n",
       "      <td>00:44:41</td>\n",
       "    </tr>\n",
       "  </tbody>\n",
       "</table>\n",
       "</div>"
      ],
      "text/plain": [
       "                Name  Age  Gender Place      Swim        T1      Bike  \\\n",
       "167  SAMANTHA DEWEES   26            30  00:22:23  00:04:38  01:16:02   \n",
       "\n",
       "           T2       Run  \n",
       "167  00:03:12  00:44:41  "
      ]
     },
     "execution_count": 21,
     "metadata": {},
     "output_type": "execute_result"
    }
   ],
   "source": [
    "#assign user variable\n",
    "user = \"SAMANTHA DEWEES\"\n",
    "index = data.index[data['Name']==user].tolist()\n",
    "data.loc[index, [\"Name\", \"Age\", \"Gender Place\", \"Swim\", \"T1\", \"Bike\", \"T2\", \"Run\"]]"
   ]
  },
  {
   "cell_type": "code",
   "execution_count": 22,
   "metadata": {
    "collapsed": false,
    "pycharm": {
     "name": "#%%\n"
    }
   },
   "outputs": [
    {
     "data": {
      "text/html": [
       "<div>\n",
       "<style scoped>\n",
       "    .dataframe tbody tr th:only-of-type {\n",
       "        vertical-align: middle;\n",
       "    }\n",
       "\n",
       "    .dataframe tbody tr th {\n",
       "        vertical-align: top;\n",
       "    }\n",
       "\n",
       "    .dataframe thead th {\n",
       "        text-align: right;\n",
       "    }\n",
       "</style>\n",
       "<table border=\"1\" class=\"dataframe\">\n",
       "  <thead>\n",
       "    <tr style=\"text-align: right;\">\n",
       "      <th></th>\n",
       "      <th>Bib</th>\n",
       "      <th>Name</th>\n",
       "      <th>Team Name</th>\n",
       "      <th>Start Time</th>\n",
       "      <th>Swim</th>\n",
       "      <th>T1</th>\n",
       "      <th>Bike</th>\n",
       "      <th>T2</th>\n",
       "      <th>Run</th>\n",
       "      <th>Chip Elapsed</th>\n",
       "      <th>...</th>\n",
       "      <th>Gender Place</th>\n",
       "      <th>Swim Minutes</th>\n",
       "      <th>T1 Minutes</th>\n",
       "      <th>Bike Minutes</th>\n",
       "      <th>T2 Minutes</th>\n",
       "      <th>Run Minutes</th>\n",
       "      <th>Swim+T1</th>\n",
       "      <th>Plus Bike</th>\n",
       "      <th>Plus T2</th>\n",
       "      <th>Total</th>\n",
       "    </tr>\n",
       "  </thead>\n",
       "  <tbody>\n",
       "    <tr>\n",
       "      <th>63</th>\n",
       "      <td>404</td>\n",
       "      <td>MADELINE MARINO</td>\n",
       "      <td>NaN</td>\n",
       "      <td>07:05:00</td>\n",
       "      <td>00:17:44</td>\n",
       "      <td>00:02:16</td>\n",
       "      <td>01:10:57</td>\n",
       "      <td>00:02:00</td>\n",
       "      <td>00:40:41</td>\n",
       "      <td>02:13:41</td>\n",
       "      <td>...</td>\n",
       "      <td>3</td>\n",
       "      <td>17.73</td>\n",
       "      <td>2.27</td>\n",
       "      <td>70.95</td>\n",
       "      <td>2.00</td>\n",
       "      <td>40.68</td>\n",
       "      <td>20.00</td>\n",
       "      <td>90.95</td>\n",
       "      <td>92.95</td>\n",
       "      <td>133.63</td>\n",
       "    </tr>\n",
       "    <tr>\n",
       "      <th>67</th>\n",
       "      <td>217</td>\n",
       "      <td>CHRISTINE EDMONDS</td>\n",
       "      <td>NaN</td>\n",
       "      <td>07:05:00</td>\n",
       "      <td>00:19:25</td>\n",
       "      <td>00:03:30</td>\n",
       "      <td>01:11:25</td>\n",
       "      <td>00:01:25</td>\n",
       "      <td>00:38:04</td>\n",
       "      <td>02:13:51</td>\n",
       "      <td>...</td>\n",
       "      <td>4</td>\n",
       "      <td>19.42</td>\n",
       "      <td>3.50</td>\n",
       "      <td>71.42</td>\n",
       "      <td>1.42</td>\n",
       "      <td>38.07</td>\n",
       "      <td>22.92</td>\n",
       "      <td>94.33</td>\n",
       "      <td>95.75</td>\n",
       "      <td>133.82</td>\n",
       "    </tr>\n",
       "    <tr>\n",
       "      <th>99</th>\n",
       "      <td>123</td>\n",
       "      <td>REIKO AKIMOTO</td>\n",
       "      <td>NaN</td>\n",
       "      <td>07:05:00</td>\n",
       "      <td>00:19:19</td>\n",
       "      <td>00:03:18</td>\n",
       "      <td>01:11:41</td>\n",
       "      <td>00:01:36</td>\n",
       "      <td>00:43:30</td>\n",
       "      <td>02:19:25</td>\n",
       "      <td>...</td>\n",
       "      <td>11</td>\n",
       "      <td>19.32</td>\n",
       "      <td>3.30</td>\n",
       "      <td>71.68</td>\n",
       "      <td>1.60</td>\n",
       "      <td>43.50</td>\n",
       "      <td>22.62</td>\n",
       "      <td>94.30</td>\n",
       "      <td>95.90</td>\n",
       "      <td>139.40</td>\n",
       "    </tr>\n",
       "    <tr>\n",
       "      <th>110</th>\n",
       "      <td>204</td>\n",
       "      <td>KAREN WEIDERT</td>\n",
       "      <td>NaN</td>\n",
       "      <td>07:10:00</td>\n",
       "      <td>00:22:17</td>\n",
       "      <td>00:02:49</td>\n",
       "      <td>01:13:18</td>\n",
       "      <td>00:01:44</td>\n",
       "      <td>00:40:19</td>\n",
       "      <td>02:20:29</td>\n",
       "      <td>...</td>\n",
       "      <td>14</td>\n",
       "      <td>22.28</td>\n",
       "      <td>2.82</td>\n",
       "      <td>73.30</td>\n",
       "      <td>1.73</td>\n",
       "      <td>40.32</td>\n",
       "      <td>25.10</td>\n",
       "      <td>98.40</td>\n",
       "      <td>100.13</td>\n",
       "      <td>140.45</td>\n",
       "    </tr>\n",
       "    <tr>\n",
       "      <th>112</th>\n",
       "      <td>122</td>\n",
       "      <td>ANNMARIE MOONEY</td>\n",
       "      <td>NaN</td>\n",
       "      <td>07:00:00</td>\n",
       "      <td>00:19:59</td>\n",
       "      <td>00:03:47</td>\n",
       "      <td>01:18:05</td>\n",
       "      <td>00:03:14</td>\n",
       "      <td>00:35:38</td>\n",
       "      <td>02:20:45</td>\n",
       "      <td>...</td>\n",
       "      <td>15</td>\n",
       "      <td>19.98</td>\n",
       "      <td>3.78</td>\n",
       "      <td>78.08</td>\n",
       "      <td>3.23</td>\n",
       "      <td>35.63</td>\n",
       "      <td>23.77</td>\n",
       "      <td>101.85</td>\n",
       "      <td>105.08</td>\n",
       "      <td>140.72</td>\n",
       "    </tr>\n",
       "    <tr>\n",
       "      <th>153</th>\n",
       "      <td>219</td>\n",
       "      <td>KATHRYN MOONEY</td>\n",
       "      <td>NaN</td>\n",
       "      <td>07:05:00</td>\n",
       "      <td>00:22:26</td>\n",
       "      <td>00:03:50</td>\n",
       "      <td>01:14:44</td>\n",
       "      <td>00:03:45</td>\n",
       "      <td>00:44:43</td>\n",
       "      <td>02:29:30</td>\n",
       "      <td>...</td>\n",
       "      <td>25</td>\n",
       "      <td>22.43</td>\n",
       "      <td>3.83</td>\n",
       "      <td>74.73</td>\n",
       "      <td>3.75</td>\n",
       "      <td>44.72</td>\n",
       "      <td>26.27</td>\n",
       "      <td>101.00</td>\n",
       "      <td>104.75</td>\n",
       "      <td>149.47</td>\n",
       "    </tr>\n",
       "    <tr>\n",
       "      <th>162</th>\n",
       "      <td>435</td>\n",
       "      <td>VICTORIA NORMAN</td>\n",
       "      <td>NaN</td>\n",
       "      <td>07:05:00</td>\n",
       "      <td>00:21:52</td>\n",
       "      <td>00:02:52</td>\n",
       "      <td>01:15:54</td>\n",
       "      <td>00:01:51</td>\n",
       "      <td>00:47:54</td>\n",
       "      <td>02:30:25</td>\n",
       "      <td>...</td>\n",
       "      <td>27</td>\n",
       "      <td>21.87</td>\n",
       "      <td>2.87</td>\n",
       "      <td>75.90</td>\n",
       "      <td>1.85</td>\n",
       "      <td>47.90</td>\n",
       "      <td>24.73</td>\n",
       "      <td>100.63</td>\n",
       "      <td>102.48</td>\n",
       "      <td>150.38</td>\n",
       "    </tr>\n",
       "    <tr>\n",
       "      <th>167</th>\n",
       "      <td>353</td>\n",
       "      <td>SAMANTHA DEWEES</td>\n",
       "      <td>NaN</td>\n",
       "      <td>07:00:00</td>\n",
       "      <td>00:22:23</td>\n",
       "      <td>00:04:38</td>\n",
       "      <td>01:16:02</td>\n",
       "      <td>00:03:12</td>\n",
       "      <td>00:44:41</td>\n",
       "      <td>02:30:58</td>\n",
       "      <td>...</td>\n",
       "      <td>30</td>\n",
       "      <td>22.38</td>\n",
       "      <td>4.63</td>\n",
       "      <td>76.03</td>\n",
       "      <td>3.20</td>\n",
       "      <td>44.68</td>\n",
       "      <td>27.02</td>\n",
       "      <td>103.05</td>\n",
       "      <td>106.25</td>\n",
       "      <td>150.93</td>\n",
       "    </tr>\n",
       "    <tr>\n",
       "      <th>179</th>\n",
       "      <td>456</td>\n",
       "      <td>AUGUST FERN</td>\n",
       "      <td>NaN</td>\n",
       "      <td>07:10:00</td>\n",
       "      <td>00:20:48</td>\n",
       "      <td>00:02:52</td>\n",
       "      <td>01:19:12</td>\n",
       "      <td>00:01:59</td>\n",
       "      <td>00:47:07</td>\n",
       "      <td>02:32:00</td>\n",
       "      <td>...</td>\n",
       "      <td>32</td>\n",
       "      <td>20.80</td>\n",
       "      <td>2.87</td>\n",
       "      <td>79.20</td>\n",
       "      <td>1.98</td>\n",
       "      <td>47.12</td>\n",
       "      <td>23.67</td>\n",
       "      <td>102.87</td>\n",
       "      <td>104.85</td>\n",
       "      <td>151.97</td>\n",
       "    </tr>\n",
       "    <tr>\n",
       "      <th>190</th>\n",
       "      <td>441</td>\n",
       "      <td>SHELBY DOLLIVER</td>\n",
       "      <td>NaN</td>\n",
       "      <td>07:05:00</td>\n",
       "      <td>00:18:07</td>\n",
       "      <td>00:04:32</td>\n",
       "      <td>01:22:52</td>\n",
       "      <td>00:02:35</td>\n",
       "      <td>00:46:01</td>\n",
       "      <td>02:34:08</td>\n",
       "      <td>...</td>\n",
       "      <td>34</td>\n",
       "      <td>18.12</td>\n",
       "      <td>4.53</td>\n",
       "      <td>82.87</td>\n",
       "      <td>2.58</td>\n",
       "      <td>46.02</td>\n",
       "      <td>22.65</td>\n",
       "      <td>105.52</td>\n",
       "      <td>108.10</td>\n",
       "      <td>154.12</td>\n",
       "    </tr>\n",
       "    <tr>\n",
       "      <th>194</th>\n",
       "      <td>90</td>\n",
       "      <td>JACQUELYN MARDESICH</td>\n",
       "      <td>NaN</td>\n",
       "      <td>07:15:00</td>\n",
       "      <td>00:20:21</td>\n",
       "      <td>00:06:15</td>\n",
       "      <td>01:16:33</td>\n",
       "      <td>00:02:36</td>\n",
       "      <td>00:49:39</td>\n",
       "      <td>02:35:26</td>\n",
       "      <td>...</td>\n",
       "      <td>36</td>\n",
       "      <td>20.35</td>\n",
       "      <td>6.25</td>\n",
       "      <td>76.55</td>\n",
       "      <td>2.60</td>\n",
       "      <td>49.65</td>\n",
       "      <td>26.60</td>\n",
       "      <td>103.15</td>\n",
       "      <td>105.75</td>\n",
       "      <td>155.40</td>\n",
       "    </tr>\n",
       "    <tr>\n",
       "      <th>207</th>\n",
       "      <td>48</td>\n",
       "      <td>NOELLE YANG</td>\n",
       "      <td>NaN</td>\n",
       "      <td>07:10:00</td>\n",
       "      <td>00:21:05</td>\n",
       "      <td>00:04:11</td>\n",
       "      <td>01:24:08</td>\n",
       "      <td>00:01:27</td>\n",
       "      <td>00:46:08</td>\n",
       "      <td>02:37:01</td>\n",
       "      <td>...</td>\n",
       "      <td>38</td>\n",
       "      <td>21.08</td>\n",
       "      <td>4.18</td>\n",
       "      <td>84.13</td>\n",
       "      <td>1.45</td>\n",
       "      <td>46.13</td>\n",
       "      <td>25.27</td>\n",
       "      <td>109.40</td>\n",
       "      <td>110.85</td>\n",
       "      <td>156.98</td>\n",
       "    </tr>\n",
       "    <tr>\n",
       "      <th>211</th>\n",
       "      <td>143</td>\n",
       "      <td>KATE DORRER</td>\n",
       "      <td>NaN</td>\n",
       "      <td>07:05:00</td>\n",
       "      <td>00:23:38</td>\n",
       "      <td>00:04:25</td>\n",
       "      <td>01:21:30</td>\n",
       "      <td>00:02:15</td>\n",
       "      <td>00:46:02</td>\n",
       "      <td>02:37:52</td>\n",
       "      <td>...</td>\n",
       "      <td>39</td>\n",
       "      <td>23.63</td>\n",
       "      <td>4.42</td>\n",
       "      <td>81.50</td>\n",
       "      <td>2.25</td>\n",
       "      <td>46.03</td>\n",
       "      <td>28.05</td>\n",
       "      <td>109.55</td>\n",
       "      <td>111.80</td>\n",
       "      <td>157.83</td>\n",
       "    </tr>\n",
       "    <tr>\n",
       "      <th>224</th>\n",
       "      <td>324</td>\n",
       "      <td>KELSEA TOMAINO</td>\n",
       "      <td>NaN</td>\n",
       "      <td>07:00:00</td>\n",
       "      <td>00:23:17</td>\n",
       "      <td>00:04:26</td>\n",
       "      <td>01:21:00</td>\n",
       "      <td>00:02:54</td>\n",
       "      <td>00:49:44</td>\n",
       "      <td>02:41:23</td>\n",
       "      <td>...</td>\n",
       "      <td>41</td>\n",
       "      <td>23.28</td>\n",
       "      <td>4.43</td>\n",
       "      <td>81.00</td>\n",
       "      <td>2.90</td>\n",
       "      <td>49.73</td>\n",
       "      <td>27.72</td>\n",
       "      <td>108.72</td>\n",
       "      <td>111.62</td>\n",
       "      <td>161.35</td>\n",
       "    </tr>\n",
       "    <tr>\n",
       "      <th>225</th>\n",
       "      <td>206</td>\n",
       "      <td>AMY HOVIK</td>\n",
       "      <td>NaN</td>\n",
       "      <td>07:05:00</td>\n",
       "      <td>00:20:19</td>\n",
       "      <td>00:05:59</td>\n",
       "      <td>01:22:28</td>\n",
       "      <td>00:05:53</td>\n",
       "      <td>00:47:02</td>\n",
       "      <td>02:41:43</td>\n",
       "      <td>...</td>\n",
       "      <td>42</td>\n",
       "      <td>20.32</td>\n",
       "      <td>5.98</td>\n",
       "      <td>82.47</td>\n",
       "      <td>5.88</td>\n",
       "      <td>47.03</td>\n",
       "      <td>26.30</td>\n",
       "      <td>108.77</td>\n",
       "      <td>114.65</td>\n",
       "      <td>161.68</td>\n",
       "    </tr>\n",
       "    <tr>\n",
       "      <th>236</th>\n",
       "      <td>83</td>\n",
       "      <td>KELLY SCHLEY</td>\n",
       "      <td>NaN</td>\n",
       "      <td>07:10:00</td>\n",
       "      <td>00:20:55</td>\n",
       "      <td>00:05:55</td>\n",
       "      <td>01:15:18</td>\n",
       "      <td>00:03:08</td>\n",
       "      <td>00:57:21</td>\n",
       "      <td>02:42:40</td>\n",
       "      <td>...</td>\n",
       "      <td>45</td>\n",
       "      <td>20.92</td>\n",
       "      <td>5.92</td>\n",
       "      <td>75.30</td>\n",
       "      <td>3.13</td>\n",
       "      <td>57.35</td>\n",
       "      <td>26.83</td>\n",
       "      <td>102.13</td>\n",
       "      <td>105.27</td>\n",
       "      <td>162.62</td>\n",
       "    </tr>\n",
       "    <tr>\n",
       "      <th>244</th>\n",
       "      <td>447</td>\n",
       "      <td>KATE ELAHI</td>\n",
       "      <td>NaN</td>\n",
       "      <td>07:05:00</td>\n",
       "      <td>00:22:55</td>\n",
       "      <td>00:04:34</td>\n",
       "      <td>01:20:45</td>\n",
       "      <td>00:03:24</td>\n",
       "      <td>00:53:25</td>\n",
       "      <td>02:45:04</td>\n",
       "      <td>...</td>\n",
       "      <td>47</td>\n",
       "      <td>22.92</td>\n",
       "      <td>4.57</td>\n",
       "      <td>80.75</td>\n",
       "      <td>3.40</td>\n",
       "      <td>53.42</td>\n",
       "      <td>27.48</td>\n",
       "      <td>108.23</td>\n",
       "      <td>111.63</td>\n",
       "      <td>165.05</td>\n",
       "    </tr>\n",
       "    <tr>\n",
       "      <th>260</th>\n",
       "      <td>360</td>\n",
       "      <td>VICTORIA WU</td>\n",
       "      <td>NaN</td>\n",
       "      <td>07:05:00</td>\n",
       "      <td>00:19:53</td>\n",
       "      <td>00:05:27</td>\n",
       "      <td>01:30:51</td>\n",
       "      <td>00:02:41</td>\n",
       "      <td>00:50:19</td>\n",
       "      <td>02:49:14</td>\n",
       "      <td>...</td>\n",
       "      <td>50</td>\n",
       "      <td>19.88</td>\n",
       "      <td>5.45</td>\n",
       "      <td>90.85</td>\n",
       "      <td>2.68</td>\n",
       "      <td>50.32</td>\n",
       "      <td>25.33</td>\n",
       "      <td>116.18</td>\n",
       "      <td>118.87</td>\n",
       "      <td>169.18</td>\n",
       "    </tr>\n",
       "    <tr>\n",
       "      <th>271</th>\n",
       "      <td>3</td>\n",
       "      <td>SHAMBER-JANE EBERT</td>\n",
       "      <td>NaN</td>\n",
       "      <td>07:00:00</td>\n",
       "      <td>00:22:28</td>\n",
       "      <td>00:06:30</td>\n",
       "      <td>01:21:22</td>\n",
       "      <td>00:06:18</td>\n",
       "      <td>00:57:15</td>\n",
       "      <td>02:53:54</td>\n",
       "      <td>...</td>\n",
       "      <td>54</td>\n",
       "      <td>22.47</td>\n",
       "      <td>6.50</td>\n",
       "      <td>81.37</td>\n",
       "      <td>6.30</td>\n",
       "      <td>57.25</td>\n",
       "      <td>28.97</td>\n",
       "      <td>110.33</td>\n",
       "      <td>116.63</td>\n",
       "      <td>173.88</td>\n",
       "    </tr>\n",
       "    <tr>\n",
       "      <th>277</th>\n",
       "      <td>116</td>\n",
       "      <td>JANE OLDHAM</td>\n",
       "      <td>NaN</td>\n",
       "      <td>07:10:00</td>\n",
       "      <td>00:25:41</td>\n",
       "      <td>00:07:05</td>\n",
       "      <td>01:25:25</td>\n",
       "      <td>00:03:11</td>\n",
       "      <td>00:53:50</td>\n",
       "      <td>02:55:14</td>\n",
       "      <td>...</td>\n",
       "      <td>56</td>\n",
       "      <td>25.68</td>\n",
       "      <td>7.08</td>\n",
       "      <td>85.42</td>\n",
       "      <td>3.18</td>\n",
       "      <td>53.83</td>\n",
       "      <td>32.77</td>\n",
       "      <td>118.18</td>\n",
       "      <td>121.37</td>\n",
       "      <td>175.20</td>\n",
       "    </tr>\n",
       "    <tr>\n",
       "      <th>280</th>\n",
       "      <td>141</td>\n",
       "      <td>KATE PFEIFFER</td>\n",
       "      <td>NaN</td>\n",
       "      <td>07:05:00</td>\n",
       "      <td>00:22:20</td>\n",
       "      <td>00:05:14</td>\n",
       "      <td>01:29:04</td>\n",
       "      <td>00:04:00</td>\n",
       "      <td>00:56:14</td>\n",
       "      <td>02:56:54</td>\n",
       "      <td>...</td>\n",
       "      <td>58</td>\n",
       "      <td>22.33</td>\n",
       "      <td>5.23</td>\n",
       "      <td>89.07</td>\n",
       "      <td>4.00</td>\n",
       "      <td>56.23</td>\n",
       "      <td>27.57</td>\n",
       "      <td>116.63</td>\n",
       "      <td>120.63</td>\n",
       "      <td>176.87</td>\n",
       "    </tr>\n",
       "    <tr>\n",
       "      <th>282</th>\n",
       "      <td>418</td>\n",
       "      <td>DARLEEN ROUIN</td>\n",
       "      <td>NaN</td>\n",
       "      <td>07:15:00</td>\n",
       "      <td>00:18:56</td>\n",
       "      <td>00:03:36</td>\n",
       "      <td>01:25:10</td>\n",
       "      <td>00:02:43</td>\n",
       "      <td>01:06:54</td>\n",
       "      <td>02:57:21</td>\n",
       "      <td>...</td>\n",
       "      <td>59</td>\n",
       "      <td>18.93</td>\n",
       "      <td>3.60</td>\n",
       "      <td>85.17</td>\n",
       "      <td>2.72</td>\n",
       "      <td>66.90</td>\n",
       "      <td>22.53</td>\n",
       "      <td>107.70</td>\n",
       "      <td>110.42</td>\n",
       "      <td>177.32</td>\n",
       "    </tr>\n",
       "    <tr>\n",
       "      <th>284</th>\n",
       "      <td>390</td>\n",
       "      <td>BARBARA WISMER</td>\n",
       "      <td>NaN</td>\n",
       "      <td>07:15:00</td>\n",
       "      <td>00:27:29</td>\n",
       "      <td>00:08:53</td>\n",
       "      <td>01:23:25</td>\n",
       "      <td>00:03:53</td>\n",
       "      <td>00:55:28</td>\n",
       "      <td>02:59:10</td>\n",
       "      <td>...</td>\n",
       "      <td>60</td>\n",
       "      <td>27.48</td>\n",
       "      <td>8.88</td>\n",
       "      <td>83.42</td>\n",
       "      <td>3.88</td>\n",
       "      <td>55.47</td>\n",
       "      <td>36.37</td>\n",
       "      <td>119.78</td>\n",
       "      <td>123.67</td>\n",
       "      <td>179.13</td>\n",
       "    </tr>\n",
       "    <tr>\n",
       "      <th>286</th>\n",
       "      <td>216</td>\n",
       "      <td>MARTA ZULIK</td>\n",
       "      <td>NaN</td>\n",
       "      <td>07:15:00</td>\n",
       "      <td>00:23:25</td>\n",
       "      <td>00:05:38</td>\n",
       "      <td>01:27:10</td>\n",
       "      <td>00:03:48</td>\n",
       "      <td>00:59:48</td>\n",
       "      <td>02:59:51</td>\n",
       "      <td>...</td>\n",
       "      <td>62</td>\n",
       "      <td>23.42</td>\n",
       "      <td>5.63</td>\n",
       "      <td>87.17</td>\n",
       "      <td>3.80</td>\n",
       "      <td>59.80</td>\n",
       "      <td>29.05</td>\n",
       "      <td>116.22</td>\n",
       "      <td>120.02</td>\n",
       "      <td>179.82</td>\n",
       "    </tr>\n",
       "    <tr>\n",
       "      <th>290</th>\n",
       "      <td>162</td>\n",
       "      <td>COURTNEY PAYNE</td>\n",
       "      <td>NaN</td>\n",
       "      <td>07:00:00</td>\n",
       "      <td>00:23:35</td>\n",
       "      <td>00:06:40</td>\n",
       "      <td>01:27:11</td>\n",
       "      <td>00:04:25</td>\n",
       "      <td>00:58:52</td>\n",
       "      <td>03:00:45</td>\n",
       "      <td>...</td>\n",
       "      <td>64</td>\n",
       "      <td>23.58</td>\n",
       "      <td>6.67</td>\n",
       "      <td>87.18</td>\n",
       "      <td>4.42</td>\n",
       "      <td>58.87</td>\n",
       "      <td>30.25</td>\n",
       "      <td>117.43</td>\n",
       "      <td>121.85</td>\n",
       "      <td>180.72</td>\n",
       "    </tr>\n",
       "    <tr>\n",
       "      <th>291</th>\n",
       "      <td>161</td>\n",
       "      <td>ABI VEGA</td>\n",
       "      <td>NaN</td>\n",
       "      <td>07:00:00</td>\n",
       "      <td>00:23:39</td>\n",
       "      <td>00:06:35</td>\n",
       "      <td>01:27:18</td>\n",
       "      <td>00:04:22</td>\n",
       "      <td>00:59:35</td>\n",
       "      <td>03:01:31</td>\n",
       "      <td>...</td>\n",
       "      <td>65</td>\n",
       "      <td>23.65</td>\n",
       "      <td>6.58</td>\n",
       "      <td>87.30</td>\n",
       "      <td>4.37</td>\n",
       "      <td>59.58</td>\n",
       "      <td>30.23</td>\n",
       "      <td>117.53</td>\n",
       "      <td>121.90</td>\n",
       "      <td>181.48</td>\n",
       "    </tr>\n",
       "    <tr>\n",
       "      <th>301</th>\n",
       "      <td>272</td>\n",
       "      <td>MIA NEASE</td>\n",
       "      <td>NaN</td>\n",
       "      <td>07:15:00</td>\n",
       "      <td>00:26:35</td>\n",
       "      <td>00:07:28</td>\n",
       "      <td>01:32:52</td>\n",
       "      <td>00:05:39</td>\n",
       "      <td>00:55:10</td>\n",
       "      <td>03:07:47</td>\n",
       "      <td>...</td>\n",
       "      <td>69</td>\n",
       "      <td>26.58</td>\n",
       "      <td>7.47</td>\n",
       "      <td>92.87</td>\n",
       "      <td>5.65</td>\n",
       "      <td>55.17</td>\n",
       "      <td>34.05</td>\n",
       "      <td>126.92</td>\n",
       "      <td>132.57</td>\n",
       "      <td>187.73</td>\n",
       "    </tr>\n",
       "    <tr>\n",
       "      <th>302</th>\n",
       "      <td>367</td>\n",
       "      <td>LISA ECKMAN</td>\n",
       "      <td>NaN</td>\n",
       "      <td>07:05:00</td>\n",
       "      <td>00:28:05</td>\n",
       "      <td>00:06:18</td>\n",
       "      <td>01:32:26</td>\n",
       "      <td>00:07:07</td>\n",
       "      <td>00:54:45</td>\n",
       "      <td>03:08:42</td>\n",
       "      <td>...</td>\n",
       "      <td>70</td>\n",
       "      <td>28.08</td>\n",
       "      <td>6.30</td>\n",
       "      <td>92.43</td>\n",
       "      <td>7.12</td>\n",
       "      <td>54.75</td>\n",
       "      <td>34.38</td>\n",
       "      <td>126.82</td>\n",
       "      <td>133.93</td>\n",
       "      <td>188.68</td>\n",
       "    </tr>\n",
       "    <tr>\n",
       "      <th>307</th>\n",
       "      <td>38</td>\n",
       "      <td>ANGELES NUNEZ</td>\n",
       "      <td>NaN</td>\n",
       "      <td>07:15:00</td>\n",
       "      <td>00:31:36</td>\n",
       "      <td>00:10:27</td>\n",
       "      <td>01:33:55</td>\n",
       "      <td>00:03:01</td>\n",
       "      <td>00:54:11</td>\n",
       "      <td>03:13:13</td>\n",
       "      <td>...</td>\n",
       "      <td>72</td>\n",
       "      <td>31.60</td>\n",
       "      <td>10.45</td>\n",
       "      <td>93.92</td>\n",
       "      <td>3.02</td>\n",
       "      <td>54.18</td>\n",
       "      <td>42.05</td>\n",
       "      <td>135.97</td>\n",
       "      <td>138.98</td>\n",
       "      <td>193.17</td>\n",
       "    </tr>\n",
       "  </tbody>\n",
       "</table>\n",
       "<p>29 rows × 25 columns</p>\n",
       "</div>"
      ],
      "text/plain": [
       "     Bib                 Name Team Name Start Time      Swim        T1  \\\n",
       "63   404      MADELINE MARINO       NaN   07:05:00  00:17:44  00:02:16   \n",
       "67   217    CHRISTINE EDMONDS       NaN   07:05:00  00:19:25  00:03:30   \n",
       "99   123        REIKO AKIMOTO       NaN   07:05:00  00:19:19  00:03:18   \n",
       "110  204        KAREN WEIDERT       NaN   07:10:00  00:22:17  00:02:49   \n",
       "112  122      ANNMARIE MOONEY       NaN   07:00:00  00:19:59  00:03:47   \n",
       "153  219       KATHRYN MOONEY       NaN   07:05:00  00:22:26  00:03:50   \n",
       "162  435      VICTORIA NORMAN       NaN   07:05:00  00:21:52  00:02:52   \n",
       "167  353      SAMANTHA DEWEES       NaN   07:00:00  00:22:23  00:04:38   \n",
       "179  456          AUGUST FERN       NaN   07:10:00  00:20:48  00:02:52   \n",
       "190  441      SHELBY DOLLIVER       NaN   07:05:00  00:18:07  00:04:32   \n",
       "194   90  JACQUELYN MARDESICH       NaN   07:15:00  00:20:21  00:06:15   \n",
       "207   48          NOELLE YANG       NaN   07:10:00  00:21:05  00:04:11   \n",
       "211  143          KATE DORRER       NaN   07:05:00  00:23:38  00:04:25   \n",
       "224  324       KELSEA TOMAINO       NaN   07:00:00  00:23:17  00:04:26   \n",
       "225  206            AMY HOVIK       NaN   07:05:00  00:20:19  00:05:59   \n",
       "236   83         KELLY SCHLEY       NaN   07:10:00  00:20:55  00:05:55   \n",
       "244  447           KATE ELAHI       NaN   07:05:00  00:22:55  00:04:34   \n",
       "260  360          VICTORIA WU       NaN   07:05:00  00:19:53  00:05:27   \n",
       "271    3   SHAMBER-JANE EBERT       NaN   07:00:00  00:22:28  00:06:30   \n",
       "277  116          JANE OLDHAM       NaN   07:10:00  00:25:41  00:07:05   \n",
       "280  141        KATE PFEIFFER       NaN   07:05:00  00:22:20  00:05:14   \n",
       "282  418        DARLEEN ROUIN       NaN   07:15:00  00:18:56  00:03:36   \n",
       "284  390       BARBARA WISMER       NaN   07:15:00  00:27:29  00:08:53   \n",
       "286  216          MARTA ZULIK       NaN   07:15:00  00:23:25  00:05:38   \n",
       "290  162       COURTNEY PAYNE       NaN   07:00:00  00:23:35  00:06:40   \n",
       "291  161             ABI VEGA       NaN   07:00:00  00:23:39  00:06:35   \n",
       "301  272            MIA NEASE       NaN   07:15:00  00:26:35  00:07:28   \n",
       "302  367          LISA ECKMAN       NaN   07:05:00  00:28:05  00:06:18   \n",
       "307   38        ANGELES NUNEZ       NaN   07:15:00  00:31:36  00:10:27   \n",
       "\n",
       "         Bike        T2       Run Chip Elapsed  ... Gender Place  \\\n",
       "63   01:10:57  00:02:00  00:40:41     02:13:41  ...            3   \n",
       "67   01:11:25  00:01:25  00:38:04     02:13:51  ...            4   \n",
       "99   01:11:41  00:01:36  00:43:30     02:19:25  ...           11   \n",
       "110  01:13:18  00:01:44  00:40:19     02:20:29  ...           14   \n",
       "112  01:18:05  00:03:14  00:35:38     02:20:45  ...           15   \n",
       "153  01:14:44  00:03:45  00:44:43     02:29:30  ...           25   \n",
       "162  01:15:54  00:01:51  00:47:54     02:30:25  ...           27   \n",
       "167  01:16:02  00:03:12  00:44:41     02:30:58  ...           30   \n",
       "179  01:19:12  00:01:59  00:47:07     02:32:00  ...           32   \n",
       "190  01:22:52  00:02:35  00:46:01     02:34:08  ...           34   \n",
       "194  01:16:33  00:02:36  00:49:39     02:35:26  ...           36   \n",
       "207  01:24:08  00:01:27  00:46:08     02:37:01  ...           38   \n",
       "211  01:21:30  00:02:15  00:46:02     02:37:52  ...           39   \n",
       "224  01:21:00  00:02:54  00:49:44     02:41:23  ...           41   \n",
       "225  01:22:28  00:05:53  00:47:02     02:41:43  ...           42   \n",
       "236  01:15:18  00:03:08  00:57:21     02:42:40  ...           45   \n",
       "244  01:20:45  00:03:24  00:53:25     02:45:04  ...           47   \n",
       "260  01:30:51  00:02:41  00:50:19     02:49:14  ...           50   \n",
       "271  01:21:22  00:06:18  00:57:15     02:53:54  ...           54   \n",
       "277  01:25:25  00:03:11  00:53:50     02:55:14  ...           56   \n",
       "280  01:29:04  00:04:00  00:56:14     02:56:54  ...           58   \n",
       "282  01:25:10  00:02:43  01:06:54     02:57:21  ...           59   \n",
       "284  01:23:25  00:03:53  00:55:28     02:59:10  ...           60   \n",
       "286  01:27:10  00:03:48  00:59:48     02:59:51  ...           62   \n",
       "290  01:27:11  00:04:25  00:58:52     03:00:45  ...           64   \n",
       "291  01:27:18  00:04:22  00:59:35     03:01:31  ...           65   \n",
       "301  01:32:52  00:05:39  00:55:10     03:07:47  ...           69   \n",
       "302  01:32:26  00:07:07  00:54:45     03:08:42  ...           70   \n",
       "307  01:33:55  00:03:01  00:54:11     03:13:13  ...           72   \n",
       "\n",
       "     Swim Minutes  T1 Minutes  Bike Minutes T2 Minutes  Run Minutes  Swim+T1  \\\n",
       "63          17.73        2.27         70.95       2.00        40.68    20.00   \n",
       "67          19.42        3.50         71.42       1.42        38.07    22.92   \n",
       "99          19.32        3.30         71.68       1.60        43.50    22.62   \n",
       "110         22.28        2.82         73.30       1.73        40.32    25.10   \n",
       "112         19.98        3.78         78.08       3.23        35.63    23.77   \n",
       "153         22.43        3.83         74.73       3.75        44.72    26.27   \n",
       "162         21.87        2.87         75.90       1.85        47.90    24.73   \n",
       "167         22.38        4.63         76.03       3.20        44.68    27.02   \n",
       "179         20.80        2.87         79.20       1.98        47.12    23.67   \n",
       "190         18.12        4.53         82.87       2.58        46.02    22.65   \n",
       "194         20.35        6.25         76.55       2.60        49.65    26.60   \n",
       "207         21.08        4.18         84.13       1.45        46.13    25.27   \n",
       "211         23.63        4.42         81.50       2.25        46.03    28.05   \n",
       "224         23.28        4.43         81.00       2.90        49.73    27.72   \n",
       "225         20.32        5.98         82.47       5.88        47.03    26.30   \n",
       "236         20.92        5.92         75.30       3.13        57.35    26.83   \n",
       "244         22.92        4.57         80.75       3.40        53.42    27.48   \n",
       "260         19.88        5.45         90.85       2.68        50.32    25.33   \n",
       "271         22.47        6.50         81.37       6.30        57.25    28.97   \n",
       "277         25.68        7.08         85.42       3.18        53.83    32.77   \n",
       "280         22.33        5.23         89.07       4.00        56.23    27.57   \n",
       "282         18.93        3.60         85.17       2.72        66.90    22.53   \n",
       "284         27.48        8.88         83.42       3.88        55.47    36.37   \n",
       "286         23.42        5.63         87.17       3.80        59.80    29.05   \n",
       "290         23.58        6.67         87.18       4.42        58.87    30.25   \n",
       "291         23.65        6.58         87.30       4.37        59.58    30.23   \n",
       "301         26.58        7.47         92.87       5.65        55.17    34.05   \n",
       "302         28.08        6.30         92.43       7.12        54.75    34.38   \n",
       "307         31.60       10.45         93.92       3.02        54.18    42.05   \n",
       "\n",
       "     Plus Bike  Plus T2  Total  \n",
       "63       90.95    92.95 133.63  \n",
       "67       94.33    95.75 133.82  \n",
       "99       94.30    95.90 139.40  \n",
       "110      98.40   100.13 140.45  \n",
       "112     101.85   105.08 140.72  \n",
       "153     101.00   104.75 149.47  \n",
       "162     100.63   102.48 150.38  \n",
       "167     103.05   106.25 150.93  \n",
       "179     102.87   104.85 151.97  \n",
       "190     105.52   108.10 154.12  \n",
       "194     103.15   105.75 155.40  \n",
       "207     109.40   110.85 156.98  \n",
       "211     109.55   111.80 157.83  \n",
       "224     108.72   111.62 161.35  \n",
       "225     108.77   114.65 161.68  \n",
       "236     102.13   105.27 162.62  \n",
       "244     108.23   111.63 165.05  \n",
       "260     116.18   118.87 169.18  \n",
       "271     110.33   116.63 173.88  \n",
       "277     118.18   121.37 175.20  \n",
       "280     116.63   120.63 176.87  \n",
       "282     107.70   110.42 177.32  \n",
       "284     119.78   123.67 179.13  \n",
       "286     116.22   120.02 179.82  \n",
       "290     117.43   121.85 180.72  \n",
       "291     117.53   121.90 181.48  \n",
       "301     126.92   132.57 187.73  \n",
       "302     126.82   133.93 188.68  \n",
       "307     135.97   138.98 193.17  \n",
       "\n",
       "[29 rows x 25 columns]"
      ]
     },
     "execution_count": 22,
     "metadata": {},
     "output_type": "execute_result"
    }
   ],
   "source": [
    "data['Swim Minutes'].idxmin()\n",
    "data"
   ]
  },
  {
   "cell_type": "code",
   "execution_count": 23,
   "metadata": {
    "collapsed": false,
    "pycharm": {
     "name": "#%%\n"
    }
   },
   "outputs": [],
   "source": [
    "def getMinTime (stage):\n",
    "    minTime = data[stage].min()\n",
    "    minIndex = data[stage].idxmin()\n",
    "    #print(\"minTime is\", minTime)\n",
    "    #print(\"minIndex is\", minIndex)\n",
    "    return minTime, minIndex\n",
    "\n",
    "def printResults (minIndex):\n",
    "    #need to make this so it doesnt print reduntant colums or prints something nicely formatted\n",
    "    print(data.loc[minIndex,:])"
   ]
  },
  {
   "cell_type": "code",
   "execution_count": 24,
   "metadata": {
    "collapsed": false,
    "pycharm": {
     "name": "#%%\n"
    }
   },
   "outputs": [
    {
     "name": "stdout",
     "output_type": "stream",
     "text": [
      "<class 'pandas.core.frame.DataFrame'>\n",
      "Int64Index: 29 entries, 63 to 307\n",
      "Data columns (total 25 columns):\n",
      " #   Column        Non-Null Count  Dtype  \n",
      "---  ------        --------------  -----  \n",
      " 0   Bib           29 non-null     int64  \n",
      " 1   Name          29 non-null     object \n",
      " 2   Team Name     0 non-null      object \n",
      " 3   Start Time    29 non-null     object \n",
      " 4   Swim          29 non-null     object \n",
      " 5   T1            29 non-null     object \n",
      " 6   Bike          29 non-null     object \n",
      " 7   T2            29 non-null     object \n",
      " 8   Run           29 non-null     object \n",
      " 9   Chip Elapsed  29 non-null     object \n",
      " 10  Division      29 non-null     object \n",
      " 11  Div Place     29 non-null     int64  \n",
      " 12  Age           29 non-null     int64  \n",
      " 13  Age Place     29 non-null     int64  \n",
      " 14  Gender        29 non-null     object \n",
      " 15  Gender Place  29 non-null     int64  \n",
      " 16  Swim Minutes  29 non-null     float64\n",
      " 17  T1 Minutes    29 non-null     float64\n",
      " 18  Bike Minutes  29 non-null     float64\n",
      " 19  T2 Minutes    29 non-null     float64\n",
      " 20  Run Minutes   29 non-null     float64\n",
      " 21  Swim+T1       29 non-null     float64\n",
      " 22  Plus Bike     29 non-null     float64\n",
      " 23  Plus T2       29 non-null     float64\n",
      " 24  Total         29 non-null     float64\n",
      "dtypes: float64(9), int64(5), object(11)\n",
      "memory usage: 6.9+ KB\n"
     ]
    }
   ],
   "source": [
    "data.info()"
   ]
  },
  {
   "cell_type": "code",
   "execution_count": 25,
   "id": "fd1da28c-9aa4-496d-9e86-41105e03d3b3",
   "metadata": {},
   "outputs": [
    {
     "name": "stdout",
     "output_type": "stream",
     "text": [
      "the fastest for  Swim Minutes\n",
      "Bib                           404\n",
      "Name              MADELINE MARINO\n",
      "Team Name                     NaN\n",
      "Start Time               07:05:00\n",
      "Swim                     00:17:44\n",
      "T1                       00:02:16\n",
      "Bike                     01:10:57\n",
      "T2                       00:02:00\n",
      "Run                      00:40:41\n",
      "Chip Elapsed             02:13:41\n",
      "Division        OLYMPIC TRIATHLON\n",
      "Div Place                      64\n",
      "Age                            31\n",
      "Age Place                       1\n",
      "Gender                          F\n",
      "Gender Place                    3\n",
      "Swim Minutes                17.73\n",
      "T1 Minutes                   2.27\n",
      "Bike Minutes                70.95\n",
      "T2 Minutes                   2.00\n",
      "Run Minutes                 40.68\n",
      "Swim+T1                     20.00\n",
      "Plus Bike                   90.95\n",
      "Plus T2                     92.95\n",
      "Total                      133.63\n",
      "Name: 63, dtype: object\n",
      "the fastest for  T1 Minutes\n",
      "Bib                           404\n",
      "Name              MADELINE MARINO\n",
      "Team Name                     NaN\n",
      "Start Time               07:05:00\n",
      "Swim                     00:17:44\n",
      "T1                       00:02:16\n",
      "Bike                     01:10:57\n",
      "T2                       00:02:00\n",
      "Run                      00:40:41\n",
      "Chip Elapsed             02:13:41\n",
      "Division        OLYMPIC TRIATHLON\n",
      "Div Place                      64\n",
      "Age                            31\n",
      "Age Place                       1\n",
      "Gender                          F\n",
      "Gender Place                    3\n",
      "Swim Minutes                17.73\n",
      "T1 Minutes                   2.27\n",
      "Bike Minutes                70.95\n",
      "T2 Minutes                   2.00\n",
      "Run Minutes                 40.68\n",
      "Swim+T1                     20.00\n",
      "Plus Bike                   90.95\n",
      "Plus T2                     92.95\n",
      "Total                      133.63\n",
      "Name: 63, dtype: object\n",
      "the fastest for  Bike Minutes\n",
      "Bib                           404\n",
      "Name              MADELINE MARINO\n",
      "Team Name                     NaN\n",
      "Start Time               07:05:00\n",
      "Swim                     00:17:44\n",
      "T1                       00:02:16\n",
      "Bike                     01:10:57\n",
      "T2                       00:02:00\n",
      "Run                      00:40:41\n",
      "Chip Elapsed             02:13:41\n",
      "Division        OLYMPIC TRIATHLON\n",
      "Div Place                      64\n",
      "Age                            31\n",
      "Age Place                       1\n",
      "Gender                          F\n",
      "Gender Place                    3\n",
      "Swim Minutes                17.73\n",
      "T1 Minutes                   2.27\n",
      "Bike Minutes                70.95\n",
      "T2 Minutes                   2.00\n",
      "Run Minutes                 40.68\n",
      "Swim+T1                     20.00\n",
      "Plus Bike                   90.95\n",
      "Plus T2                     92.95\n",
      "Total                      133.63\n",
      "Name: 63, dtype: object\n",
      "the fastest for  T2 Minutes\n",
      "Bib                           217\n",
      "Name            CHRISTINE EDMONDS\n",
      "Team Name                     NaN\n",
      "Start Time               07:05:00\n",
      "Swim                     00:19:25\n",
      "T1                       00:03:30\n",
      "Bike                     01:11:25\n",
      "T2                       00:01:25\n",
      "Run                      00:38:04\n",
      "Chip Elapsed             02:13:51\n",
      "Division        OLYMPIC TRIATHLON\n",
      "Div Place                      68\n",
      "Age                            32\n",
      "Age Place                       2\n",
      "Gender                          F\n",
      "Gender Place                    4\n",
      "Swim Minutes                19.42\n",
      "T1 Minutes                   3.50\n",
      "Bike Minutes                71.42\n",
      "T2 Minutes                   1.42\n",
      "Run Minutes                 38.07\n",
      "Swim+T1                     22.92\n",
      "Plus Bike                   94.33\n",
      "Plus T2                     95.75\n",
      "Total                      133.82\n",
      "Name: 67, dtype: object\n",
      "the fastest for  Run Minutes\n",
      "Bib                           122\n",
      "Name              ANNMARIE MOONEY\n",
      "Team Name                     NaN\n",
      "Start Time               07:00:00\n",
      "Swim                     00:19:59\n",
      "T1                       00:03:47\n",
      "Bike                     01:18:05\n",
      "T2                       00:03:14\n",
      "Run                      00:35:38\n",
      "Chip Elapsed             02:20:45\n",
      "Division        OLYMPIC TRIATHLON\n",
      "Div Place                     113\n",
      "Age                            29\n",
      "Age Place                       4\n",
      "Gender                          F\n",
      "Gender Place                   15\n",
      "Swim Minutes                19.98\n",
      "T1 Minutes                   3.78\n",
      "Bike Minutes                78.08\n",
      "T2 Minutes                   3.23\n",
      "Run Minutes                 35.63\n",
      "Swim+T1                     23.77\n",
      "Plus Bike                  101.85\n",
      "Plus T2                    105.08\n",
      "Total                      140.72\n",
      "Name: 112, dtype: object\n",
      "the shortest possible time is:  0\n"
     ]
    }
   ],
   "source": [
    "events = ['Swim Minutes', 'T1 Minutes', 'Bike Minutes', 'T2 Minutes', 'Run Minutes']\n",
    "\n",
    "shortestTime = 0\n",
    "for stage in events:\n",
    "    minTime, minIndex = getMinTime(stage)\n",
    "    print(\"the fastest for \", stage)\n",
    "    #print(minIndex)\n",
    "    # print(data.loc[[minIndex]])\n",
    "    printResults(minIndex)\n",
    "    # shortestTime = shortestTime + minTime\n",
    "\n",
    "print(\"the shortest possible time is: \", shortestTime)\n",
    "#need to work on formatting"
   ]
  },
  {
   "cell_type": "code",
   "execution_count": 26,
   "id": "765e7ddf",
   "metadata": {},
   "outputs": [
    {
     "name": "stderr",
     "output_type": "stream",
     "text": [
      "/var/folders/83/24d95jlj0_194_rv0vcx1j7r0000gp/T/ipykernel_28677/895480473.py:2: SettingWithCopyWarning:\n",
      "\n",
      "\n",
      "A value is trying to be set on a copy of a slice from a DataFrame.\n",
      "Try using .loc[row_indexer,col_indexer] = value instead\n",
      "\n",
      "See the caveats in the documentation: https://pandas.pydata.org/pandas-docs/stable/user_guide/indexing.html#returning-a-view-versus-a-copy\n",
      "\n"
     ]
    },
    {
     "data": {
      "text/html": [
       "<div>\n",
       "<style scoped>\n",
       "    .dataframe tbody tr th:only-of-type {\n",
       "        vertical-align: middle;\n",
       "    }\n",
       "\n",
       "    .dataframe tbody tr th {\n",
       "        vertical-align: top;\n",
       "    }\n",
       "\n",
       "    .dataframe thead th {\n",
       "        text-align: right;\n",
       "    }\n",
       "</style>\n",
       "<table border=\"1\" class=\"dataframe\">\n",
       "  <thead>\n",
       "    <tr style=\"text-align: right;\">\n",
       "      <th></th>\n",
       "      <th>Name</th>\n",
       "      <th>Swim Minutes</th>\n",
       "      <th>Swim+T1</th>\n",
       "      <th>Plus Bike</th>\n",
       "      <th>Plus T2</th>\n",
       "      <th>Total</th>\n",
       "      <th>Gender Place</th>\n",
       "      <th>Start</th>\n",
       "    </tr>\n",
       "  </thead>\n",
       "  <tbody>\n",
       "    <tr>\n",
       "      <th>63</th>\n",
       "      <td>MADELINE MARINO</td>\n",
       "      <td>17.73</td>\n",
       "      <td>20.00</td>\n",
       "      <td>90.95</td>\n",
       "      <td>92.95</td>\n",
       "      <td>133.63</td>\n",
       "      <td>3</td>\n",
       "      <td>0</td>\n",
       "    </tr>\n",
       "    <tr>\n",
       "      <th>67</th>\n",
       "      <td>CHRISTINE EDMONDS</td>\n",
       "      <td>19.42</td>\n",
       "      <td>22.92</td>\n",
       "      <td>94.33</td>\n",
       "      <td>95.75</td>\n",
       "      <td>133.82</td>\n",
       "      <td>4</td>\n",
       "      <td>0</td>\n",
       "    </tr>\n",
       "    <tr>\n",
       "      <th>99</th>\n",
       "      <td>REIKO AKIMOTO</td>\n",
       "      <td>19.32</td>\n",
       "      <td>22.62</td>\n",
       "      <td>94.30</td>\n",
       "      <td>95.90</td>\n",
       "      <td>139.40</td>\n",
       "      <td>11</td>\n",
       "      <td>0</td>\n",
       "    </tr>\n",
       "    <tr>\n",
       "      <th>110</th>\n",
       "      <td>KAREN WEIDERT</td>\n",
       "      <td>22.28</td>\n",
       "      <td>25.10</td>\n",
       "      <td>98.40</td>\n",
       "      <td>100.13</td>\n",
       "      <td>140.45</td>\n",
       "      <td>14</td>\n",
       "      <td>0</td>\n",
       "    </tr>\n",
       "    <tr>\n",
       "      <th>112</th>\n",
       "      <td>ANNMARIE MOONEY</td>\n",
       "      <td>19.98</td>\n",
       "      <td>23.77</td>\n",
       "      <td>101.85</td>\n",
       "      <td>105.08</td>\n",
       "      <td>140.72</td>\n",
       "      <td>15</td>\n",
       "      <td>0</td>\n",
       "    </tr>\n",
       "  </tbody>\n",
       "</table>\n",
       "</div>"
      ],
      "text/plain": [
       "                  Name  Swim Minutes  Swim+T1  Plus Bike  Plus T2  Total  \\\n",
       "63     MADELINE MARINO         17.73    20.00      90.95    92.95 133.63   \n",
       "67   CHRISTINE EDMONDS         19.42    22.92      94.33    95.75 133.82   \n",
       "99       REIKO AKIMOTO         19.32    22.62      94.30    95.90 139.40   \n",
       "110      KAREN WEIDERT         22.28    25.10      98.40   100.13 140.45   \n",
       "112    ANNMARIE MOONEY         19.98    23.77     101.85   105.08 140.72   \n",
       "\n",
       "     Gender Place  Start  \n",
       "63              3      0  \n",
       "67              4      0  \n",
       "99             11      0  \n",
       "110            14      0  \n",
       "112            15      0  "
      ]
     },
     "execution_count": 26,
     "metadata": {},
     "output_type": "execute_result"
    }
   ],
   "source": [
    "reduced2 = data[[\"Name\",\"Swim Minutes\",\"Swim+T1\",\"Plus Bike\",\"Plus T2\",\"Total\",\"Gender Place\"]]\n",
    "reduced2[\"Start\"] = 0\n",
    "# reduced2 = reduced2.drop(25)\n",
    "# reduced2\n",
    "\n",
    "# color_nums = reduced2['Gender Place'].tolist()\n",
    "# color_names = reduced2['Name'].tolist()\n",
    "# colors_zip = zip(color_nums, color_names)\n",
    "\n",
    "# colors_zip\n",
    "\n",
    "reduced2.head()"
   ]
  },
  {
   "cell_type": "code",
   "execution_count": 27,
   "id": "019ef3e3-9ef0-4013-8a3e-848ced0e9b45",
   "metadata": {},
   "outputs": [
    {
     "data": {
      "application/vnd.plotly.v1+json": {
       "config": {
        "plotlyServerURL": "https://plot.ly"
       },
       "data": [
        {
         "dimensions": [
          {
           "label": "Start",
           "range": [
            0,
            1
           ],
           "values": [
            0,
            0,
            0,
            0,
            0,
            0,
            0,
            0,
            0,
            0,
            0,
            0,
            0,
            0,
            0,
            0,
            0,
            0,
            0,
            0,
            0,
            0,
            0,
            0,
            0,
            0,
            0,
            0,
            0
           ]
          },
          {
           "label": "Time After Swim",
           "range": [
            17.733333333333334,
            31.6
           ],
           "values": [
            17.733333333333334,
            19.416666666666668,
            19.316666666666666,
            22.283333333333335,
            19.983333333333334,
            22.433333333333334,
            21.866666666666667,
            22.383333333333333,
            20.8,
            18.116666666666667,
            20.35,
            21.083333333333332,
            23.633333333333333,
            23.283333333333335,
            20.316666666666666,
            20.916666666666668,
            22.916666666666668,
            19.883333333333333,
            22.466666666666665,
            25.683333333333334,
            22.333333333333332,
            18.933333333333334,
            27.483333333333334,
            23.416666666666668,
            23.583333333333332,
            23.65,
            26.583333333333332,
            28.083333333333332,
            31.6
           ]
          },
          {
           "label": "Time After First Transition",
           "range": [
            20,
            42.05
           ],
           "values": [
            20,
            22.916666666666668,
            22.616666666666667,
            25.1,
            23.766666666666666,
            26.266666666666666,
            24.733333333333334,
            27.016666666666666,
            23.666666666666668,
            22.65,
            26.6,
            25.266666666666666,
            28.05,
            27.71666666666667,
            26.3,
            26.833333333333336,
            27.483333333333334,
            25.333333333333332,
            28.966666666666665,
            32.766666666666666,
            27.566666666666666,
            22.533333333333335,
            36.36666666666667,
            29.05,
            30.25,
            30.23333333333333,
            34.05,
            34.38333333333333,
            42.05
           ]
          },
          {
           "label": "Time After Bike",
           "range": [
            90.95,
            135.96666666666667
           ],
           "values": [
            90.95,
            94.33333333333334,
            94.30000000000001,
            98.4,
            101.85,
            101,
            100.63333333333334,
            103.05,
            102.86666666666667,
            105.51666666666665,
            103.15,
            109.4,
            109.55,
            108.71666666666667,
            108.76666666666667,
            102.13333333333333,
            108.23333333333333,
            116.18333333333332,
            110.33333333333333,
            118.18333333333334,
            116.63333333333333,
            107.7,
            119.78333333333333,
            116.21666666666667,
            117.43333333333334,
            117.53333333333333,
            126.91666666666666,
            126.81666666666666,
            135.96666666666667
           ]
          },
          {
           "label": "Time After Second Transition",
           "range": [
            92.95,
            138.98333333333335
           ],
           "values": [
            92.95,
            95.75000000000001,
            95.9,
            100.13333333333334,
            105.08333333333333,
            104.75,
            102.48333333333333,
            106.25,
            104.85000000000001,
            108.09999999999998,
            105.75,
            110.85000000000001,
            111.8,
            111.61666666666667,
            114.65,
            105.26666666666667,
            111.63333333333334,
            118.86666666666666,
            116.63333333333333,
            121.36666666666667,
            120.63333333333333,
            110.41666666666667,
            123.66666666666667,
            120.01666666666667,
            121.85000000000001,
            121.89999999999999,
            132.56666666666666,
            133.93333333333334,
            138.98333333333335
           ]
          },
          {
           "label": "Total Time",
           "range": [
            133.63333333333333,
            193.16666666666669
           ],
           "values": [
            133.63333333333333,
            133.8166666666667,
            139.4,
            140.45000000000002,
            140.71666666666667,
            149.46666666666667,
            150.38333333333333,
            150.93333333333334,
            151.96666666666667,
            154.11666666666665,
            155.4,
            156.98333333333335,
            157.83333333333331,
            161.35000000000002,
            161.68333333333334,
            162.61666666666667,
            165.05,
            169.18333333333334,
            173.88333333333333,
            175.20000000000002,
            176.86666666666667,
            177.31666666666666,
            179.13333333333333,
            179.81666666666666,
            180.71666666666667,
            181.48333333333332,
            187.73333333333332,
            188.68333333333334,
            193.16666666666669
           ]
          },
          {
           "label": "Competitor",
           "range": [
            0,
            72
           ],
           "ticktext": [
            "MADELINE MARINO",
            "CHRISTINE EDMONDS",
            "REIKO AKIMOTO",
            "KAREN WEIDERT",
            "ANNMARIE MOONEY",
            "KATHRYN MOONEY",
            "VICTORIA NORMAN",
            "SAMANTHA DEWEES",
            "AUGUST FERN",
            "SHELBY DOLLIVER",
            "JACQUELYN MARDESICH",
            "NOELLE YANG",
            "KATE DORRER",
            "KELSEA TOMAINO",
            "AMY HOVIK",
            "KELLY SCHLEY",
            "KATE ELAHI",
            "VICTORIA WU",
            "SHAMBER-JANE EBERT",
            "JANE OLDHAM",
            "KATE PFEIFFER",
            "DARLEEN ROUIN",
            "BARBARA WISMER",
            "MARTA ZULIK",
            "COURTNEY PAYNE",
            "ABI VEGA",
            "MIA NEASE",
            "LISA ECKMAN",
            "ANGELES NUNEZ"
           ],
           "tickvals": [
            3,
            4,
            11,
            14,
            15,
            25,
            27,
            30,
            32,
            34,
            36,
            38,
            39,
            41,
            42,
            45,
            47,
            50,
            54,
            56,
            58,
            59,
            60,
            62,
            64,
            65,
            69,
            70,
            72
           ],
           "values": [
            3,
            4,
            11,
            14,
            15,
            25,
            27,
            30,
            32,
            34,
            36,
            38,
            39,
            41,
            42,
            45,
            47,
            50,
            54,
            56,
            58,
            59,
            60,
            62,
            64,
            65,
            69,
            70,
            72
           ]
          }
         ],
         "line": {
          "color": [
           3,
           4,
           11,
           14,
           15,
           25,
           27,
           30,
           32,
           34,
           36,
           38,
           39,
           41,
           42,
           45,
           47,
           50,
           54,
           56,
           58,
           59,
           60,
           62,
           64,
           65,
           69,
           70,
           72
          ],
          "colorscale": [
           [
            0,
            "rgba(255,0,0,0.1)"
           ],
           [
            0.2,
            "rgba(0,255,0,0.1)"
           ],
           [
            0.4,
            "rgba(0,0,255,0.1)"
           ],
           [
            0.6,
            "rgba(0,255,255,0.1)"
           ],
           [
            0.8,
            "rgba(255,0,255,0.1)"
           ],
           [
            1,
            "rgba(0,0,0,0.1)"
           ]
          ]
         },
         "type": "parcoords"
        }
       ],
       "layout": {
        "height": 1080,
        "template": {
         "data": {
          "bar": [
           {
            "error_x": {
             "color": "#2a3f5f"
            },
            "error_y": {
             "color": "#2a3f5f"
            },
            "marker": {
             "line": {
              "color": "#E5ECF6",
              "width": 0.5
             },
             "pattern": {
              "fillmode": "overlay",
              "size": 10,
              "solidity": 0.2
             }
            },
            "type": "bar"
           }
          ],
          "barpolar": [
           {
            "marker": {
             "line": {
              "color": "#E5ECF6",
              "width": 0.5
             },
             "pattern": {
              "fillmode": "overlay",
              "size": 10,
              "solidity": 0.2
             }
            },
            "type": "barpolar"
           }
          ],
          "carpet": [
           {
            "aaxis": {
             "endlinecolor": "#2a3f5f",
             "gridcolor": "white",
             "linecolor": "white",
             "minorgridcolor": "white",
             "startlinecolor": "#2a3f5f"
            },
            "baxis": {
             "endlinecolor": "#2a3f5f",
             "gridcolor": "white",
             "linecolor": "white",
             "minorgridcolor": "white",
             "startlinecolor": "#2a3f5f"
            },
            "type": "carpet"
           }
          ],
          "choropleth": [
           {
            "colorbar": {
             "outlinewidth": 0,
             "ticks": ""
            },
            "type": "choropleth"
           }
          ],
          "contour": [
           {
            "colorbar": {
             "outlinewidth": 0,
             "ticks": ""
            },
            "colorscale": [
             [
              0,
              "#0d0887"
             ],
             [
              0.1111111111111111,
              "#46039f"
             ],
             [
              0.2222222222222222,
              "#7201a8"
             ],
             [
              0.3333333333333333,
              "#9c179e"
             ],
             [
              0.4444444444444444,
              "#bd3786"
             ],
             [
              0.5555555555555556,
              "#d8576b"
             ],
             [
              0.6666666666666666,
              "#ed7953"
             ],
             [
              0.7777777777777778,
              "#fb9f3a"
             ],
             [
              0.8888888888888888,
              "#fdca26"
             ],
             [
              1,
              "#f0f921"
             ]
            ],
            "type": "contour"
           }
          ],
          "contourcarpet": [
           {
            "colorbar": {
             "outlinewidth": 0,
             "ticks": ""
            },
            "type": "contourcarpet"
           }
          ],
          "heatmap": [
           {
            "colorbar": {
             "outlinewidth": 0,
             "ticks": ""
            },
            "colorscale": [
             [
              0,
              "#0d0887"
             ],
             [
              0.1111111111111111,
              "#46039f"
             ],
             [
              0.2222222222222222,
              "#7201a8"
             ],
             [
              0.3333333333333333,
              "#9c179e"
             ],
             [
              0.4444444444444444,
              "#bd3786"
             ],
             [
              0.5555555555555556,
              "#d8576b"
             ],
             [
              0.6666666666666666,
              "#ed7953"
             ],
             [
              0.7777777777777778,
              "#fb9f3a"
             ],
             [
              0.8888888888888888,
              "#fdca26"
             ],
             [
              1,
              "#f0f921"
             ]
            ],
            "type": "heatmap"
           }
          ],
          "heatmapgl": [
           {
            "colorbar": {
             "outlinewidth": 0,
             "ticks": ""
            },
            "colorscale": [
             [
              0,
              "#0d0887"
             ],
             [
              0.1111111111111111,
              "#46039f"
             ],
             [
              0.2222222222222222,
              "#7201a8"
             ],
             [
              0.3333333333333333,
              "#9c179e"
             ],
             [
              0.4444444444444444,
              "#bd3786"
             ],
             [
              0.5555555555555556,
              "#d8576b"
             ],
             [
              0.6666666666666666,
              "#ed7953"
             ],
             [
              0.7777777777777778,
              "#fb9f3a"
             ],
             [
              0.8888888888888888,
              "#fdca26"
             ],
             [
              1,
              "#f0f921"
             ]
            ],
            "type": "heatmapgl"
           }
          ],
          "histogram": [
           {
            "marker": {
             "pattern": {
              "fillmode": "overlay",
              "size": 10,
              "solidity": 0.2
             }
            },
            "type": "histogram"
           }
          ],
          "histogram2d": [
           {
            "colorbar": {
             "outlinewidth": 0,
             "ticks": ""
            },
            "colorscale": [
             [
              0,
              "#0d0887"
             ],
             [
              0.1111111111111111,
              "#46039f"
             ],
             [
              0.2222222222222222,
              "#7201a8"
             ],
             [
              0.3333333333333333,
              "#9c179e"
             ],
             [
              0.4444444444444444,
              "#bd3786"
             ],
             [
              0.5555555555555556,
              "#d8576b"
             ],
             [
              0.6666666666666666,
              "#ed7953"
             ],
             [
              0.7777777777777778,
              "#fb9f3a"
             ],
             [
              0.8888888888888888,
              "#fdca26"
             ],
             [
              1,
              "#f0f921"
             ]
            ],
            "type": "histogram2d"
           }
          ],
          "histogram2dcontour": [
           {
            "colorbar": {
             "outlinewidth": 0,
             "ticks": ""
            },
            "colorscale": [
             [
              0,
              "#0d0887"
             ],
             [
              0.1111111111111111,
              "#46039f"
             ],
             [
              0.2222222222222222,
              "#7201a8"
             ],
             [
              0.3333333333333333,
              "#9c179e"
             ],
             [
              0.4444444444444444,
              "#bd3786"
             ],
             [
              0.5555555555555556,
              "#d8576b"
             ],
             [
              0.6666666666666666,
              "#ed7953"
             ],
             [
              0.7777777777777778,
              "#fb9f3a"
             ],
             [
              0.8888888888888888,
              "#fdca26"
             ],
             [
              1,
              "#f0f921"
             ]
            ],
            "type": "histogram2dcontour"
           }
          ],
          "mesh3d": [
           {
            "colorbar": {
             "outlinewidth": 0,
             "ticks": ""
            },
            "type": "mesh3d"
           }
          ],
          "parcoords": [
           {
            "line": {
             "colorbar": {
              "outlinewidth": 0,
              "ticks": ""
             }
            },
            "type": "parcoords"
           }
          ],
          "pie": [
           {
            "automargin": true,
            "type": "pie"
           }
          ],
          "scatter": [
           {
            "fillpattern": {
             "fillmode": "overlay",
             "size": 10,
             "solidity": 0.2
            },
            "type": "scatter"
           }
          ],
          "scatter3d": [
           {
            "line": {
             "colorbar": {
              "outlinewidth": 0,
              "ticks": ""
             }
            },
            "marker": {
             "colorbar": {
              "outlinewidth": 0,
              "ticks": ""
             }
            },
            "type": "scatter3d"
           }
          ],
          "scattercarpet": [
           {
            "marker": {
             "colorbar": {
              "outlinewidth": 0,
              "ticks": ""
             }
            },
            "type": "scattercarpet"
           }
          ],
          "scattergeo": [
           {
            "marker": {
             "colorbar": {
              "outlinewidth": 0,
              "ticks": ""
             }
            },
            "type": "scattergeo"
           }
          ],
          "scattergl": [
           {
            "marker": {
             "colorbar": {
              "outlinewidth": 0,
              "ticks": ""
             }
            },
            "type": "scattergl"
           }
          ],
          "scattermapbox": [
           {
            "marker": {
             "colorbar": {
              "outlinewidth": 0,
              "ticks": ""
             }
            },
            "type": "scattermapbox"
           }
          ],
          "scatterpolar": [
           {
            "marker": {
             "colorbar": {
              "outlinewidth": 0,
              "ticks": ""
             }
            },
            "type": "scatterpolar"
           }
          ],
          "scatterpolargl": [
           {
            "marker": {
             "colorbar": {
              "outlinewidth": 0,
              "ticks": ""
             }
            },
            "type": "scatterpolargl"
           }
          ],
          "scatterternary": [
           {
            "marker": {
             "colorbar": {
              "outlinewidth": 0,
              "ticks": ""
             }
            },
            "type": "scatterternary"
           }
          ],
          "surface": [
           {
            "colorbar": {
             "outlinewidth": 0,
             "ticks": ""
            },
            "colorscale": [
             [
              0,
              "#0d0887"
             ],
             [
              0.1111111111111111,
              "#46039f"
             ],
             [
              0.2222222222222222,
              "#7201a8"
             ],
             [
              0.3333333333333333,
              "#9c179e"
             ],
             [
              0.4444444444444444,
              "#bd3786"
             ],
             [
              0.5555555555555556,
              "#d8576b"
             ],
             [
              0.6666666666666666,
              "#ed7953"
             ],
             [
              0.7777777777777778,
              "#fb9f3a"
             ],
             [
              0.8888888888888888,
              "#fdca26"
             ],
             [
              1,
              "#f0f921"
             ]
            ],
            "type": "surface"
           }
          ],
          "table": [
           {
            "cells": {
             "fill": {
              "color": "#EBF0F8"
             },
             "line": {
              "color": "white"
             }
            },
            "header": {
             "fill": {
              "color": "#C8D4E3"
             },
             "line": {
              "color": "white"
             }
            },
            "type": "table"
           }
          ]
         },
         "layout": {
          "annotationdefaults": {
           "arrowcolor": "#2a3f5f",
           "arrowhead": 0,
           "arrowwidth": 1
          },
          "autotypenumbers": "strict",
          "coloraxis": {
           "colorbar": {
            "outlinewidth": 0,
            "ticks": ""
           }
          },
          "colorscale": {
           "diverging": [
            [
             0,
             "#8e0152"
            ],
            [
             0.1,
             "#c51b7d"
            ],
            [
             0.2,
             "#de77ae"
            ],
            [
             0.3,
             "#f1b6da"
            ],
            [
             0.4,
             "#fde0ef"
            ],
            [
             0.5,
             "#f7f7f7"
            ],
            [
             0.6,
             "#e6f5d0"
            ],
            [
             0.7,
             "#b8e186"
            ],
            [
             0.8,
             "#7fbc41"
            ],
            [
             0.9,
             "#4d9221"
            ],
            [
             1,
             "#276419"
            ]
           ],
           "sequential": [
            [
             0,
             "#0d0887"
            ],
            [
             0.1111111111111111,
             "#46039f"
            ],
            [
             0.2222222222222222,
             "#7201a8"
            ],
            [
             0.3333333333333333,
             "#9c179e"
            ],
            [
             0.4444444444444444,
             "#bd3786"
            ],
            [
             0.5555555555555556,
             "#d8576b"
            ],
            [
             0.6666666666666666,
             "#ed7953"
            ],
            [
             0.7777777777777778,
             "#fb9f3a"
            ],
            [
             0.8888888888888888,
             "#fdca26"
            ],
            [
             1,
             "#f0f921"
            ]
           ],
           "sequentialminus": [
            [
             0,
             "#0d0887"
            ],
            [
             0.1111111111111111,
             "#46039f"
            ],
            [
             0.2222222222222222,
             "#7201a8"
            ],
            [
             0.3333333333333333,
             "#9c179e"
            ],
            [
             0.4444444444444444,
             "#bd3786"
            ],
            [
             0.5555555555555556,
             "#d8576b"
            ],
            [
             0.6666666666666666,
             "#ed7953"
            ],
            [
             0.7777777777777778,
             "#fb9f3a"
            ],
            [
             0.8888888888888888,
             "#fdca26"
            ],
            [
             1,
             "#f0f921"
            ]
           ]
          },
          "colorway": [
           "#636efa",
           "#EF553B",
           "#00cc96",
           "#ab63fa",
           "#FFA15A",
           "#19d3f3",
           "#FF6692",
           "#B6E880",
           "#FF97FF",
           "#FECB52"
          ],
          "font": {
           "color": "#2a3f5f"
          },
          "geo": {
           "bgcolor": "white",
           "lakecolor": "white",
           "landcolor": "#E5ECF6",
           "showlakes": true,
           "showland": true,
           "subunitcolor": "white"
          },
          "hoverlabel": {
           "align": "left"
          },
          "hovermode": "closest",
          "mapbox": {
           "style": "light"
          },
          "paper_bgcolor": "white",
          "plot_bgcolor": "#E5ECF6",
          "polar": {
           "angularaxis": {
            "gridcolor": "white",
            "linecolor": "white",
            "ticks": ""
           },
           "bgcolor": "#E5ECF6",
           "radialaxis": {
            "gridcolor": "white",
            "linecolor": "white",
            "ticks": ""
           }
          },
          "scene": {
           "xaxis": {
            "backgroundcolor": "#E5ECF6",
            "gridcolor": "white",
            "gridwidth": 2,
            "linecolor": "white",
            "showbackground": true,
            "ticks": "",
            "zerolinecolor": "white"
           },
           "yaxis": {
            "backgroundcolor": "#E5ECF6",
            "gridcolor": "white",
            "gridwidth": 2,
            "linecolor": "white",
            "showbackground": true,
            "ticks": "",
            "zerolinecolor": "white"
           },
           "zaxis": {
            "backgroundcolor": "#E5ECF6",
            "gridcolor": "white",
            "gridwidth": 2,
            "linecolor": "white",
            "showbackground": true,
            "ticks": "",
            "zerolinecolor": "white"
           }
          },
          "shapedefaults": {
           "line": {
            "color": "#2a3f5f"
           }
          },
          "ternary": {
           "aaxis": {
            "gridcolor": "white",
            "linecolor": "white",
            "ticks": ""
           },
           "baxis": {
            "gridcolor": "white",
            "linecolor": "white",
            "ticks": ""
           },
           "bgcolor": "#E5ECF6",
           "caxis": {
            "gridcolor": "white",
            "linecolor": "white",
            "ticks": ""
           }
          },
          "title": {
           "x": 0.05
          },
          "xaxis": {
           "automargin": true,
           "gridcolor": "white",
           "linecolor": "white",
           "ticks": "",
           "title": {
            "standoff": 15
           },
           "zerolinecolor": "white",
           "zerolinewidth": 2
          },
          "yaxis": {
           "automargin": true,
           "gridcolor": "white",
           "linecolor": "white",
           "ticks": "",
           "title": {
            "standoff": 15
           },
           "zerolinecolor": "white",
           "zerolinewidth": 2
          }
         }
        },
        "title": {
         "text": "Triathalon Results"
        },
        "width": 1920
       }
      }
     },
     "metadata": {},
     "output_type": "display_data"
    }
   ],
   "source": [
    "dimensions = list([\n",
    "            dict(range = [0, 1],\n",
    "                label = 'Start', values = reduced2['Start']),            \n",
    "            dict(range = [reduced2[\"Swim Minutes\"].min(), reduced2[\"Swim Minutes\"].max()],\n",
    "                label = 'Time After Swim', values = reduced2['Swim Minutes']),\n",
    "            dict(range = [reduced2[\"Swim+T1\"].min(), reduced2[\"Swim+T1\"].max()],\n",
    "                label = 'Time After First Transition', values = reduced2['Swim+T1']),\n",
    "            dict(range = [reduced2[\"Plus Bike\"].min(), reduced2[\"Plus Bike\"].max()],\n",
    "                label = 'Time After Bike', values = reduced2['Plus Bike']),\n",
    "            dict(range = [reduced2[\"Plus T2\"].min(), reduced2[\"Plus T2\"].max()],\n",
    "                label = 'Time After Second Transition', values = reduced2['Plus T2']),\n",
    "            dict(range = [reduced2[\"Total\"].min(), reduced2[\"Total\"].max()],\n",
    "                label = 'Total Time', values = reduced2['Total']),\n",
    "            dict(range=[0,reduced2['Gender Place'].max()], tickvals = reduced2['Gender Place'], ticktext = reduced2['Name'],\n",
    "                       label='Competitor', values=reduced2['Gender Place'])\n",
    "        ])\n",
    "\n",
    "fig = go.Figure(data=go.Parcoords(line = dict(color = reduced2['Gender Place'],\n",
    "                   colorscale = [[.0,'rgba(255,0,0,0.1)'],[0.2,'rgba(0,255,0,0.1)'],[.4,'rgba(0,0,255,0.1)'], \n",
    "                                 [.6,'rgba(0,255,255,0.1)'], [.8, 'rgba(255,0,255,0.1)'], [1, 'rgba(0,0,0,0.1)']]), dimensions=dimensions))\n",
    "\n",
    "fig.update_layout(\n",
    "    title=\"Triathalon Results\",\n",
    "    width=1920,\n",
    "    height=1080\n",
    ")\n",
    "\n",
    "fig.show()"
   ]
  },
  {
   "cell_type": "code",
   "execution_count": null,
   "id": "7c9f0eb2",
   "metadata": {},
   "outputs": [],
   "source": [
    "https://stackoverflow.com/questions/64139316/plotly-how-to-insert-a-categorical-variable-into-a-parallel-coordinates-plot\n",
    "\n",
    "                   colorscale = [[.0,'rgba(218,79,79,0.1)'],[0.25,'rgba(148,218,79,0.1)'],[.5,'rgba(79,218,218,0.1)'], \n",
    "                                 [.75,'rgba(148,79,218,0.1)'], [1, 'rgba(0,0,0,0.1)']]), dimensions=dimensions))"
   ]
  },
  {
   "cell_type": "code",
   "execution_count": null,
   "id": "237f4e5b",
   "metadata": {},
   "outputs": [],
   "source": [
    "engine = create_engine('sqlite:///data.db', echo=False)"
   ]
  },
  {
   "cell_type": "code",
   "execution_count": null,
   "id": "de1f61ec",
   "metadata": {},
   "outputs": [],
   "source": [
    "sql_df = pd.read_sql('data.db', con=engine, index_col='ID')"
   ]
  },
  {
   "cell_type": "code",
   "execution_count": null,
   "id": "2f163996",
   "metadata": {},
   "outputs": [],
   "source": [
    "sql_df.head()"
   ]
  },
  {
   "cell_type": "code",
   "execution_count": null,
   "id": "2b27a371",
   "metadata": {},
   "outputs": [],
   "source": [
    "scatter = px.scatter(x=data['Age'], y=data['Gender Place'])\n",
    "scatter.show()\n"
   ]
  },
  {
   "cell_type": "code",
   "execution_count": null,
   "id": "b04aa6b4",
   "metadata": {},
   "outputs": [],
   "source": []
  }
 ],
 "metadata": {
  "kernelspec": {
   "display_name": "Python 3",
   "language": "python",
   "name": "python3"
  },
  "language_info": {
   "codemirror_mode": {
    "name": "ipython",
    "version": 3
   },
   "file_extension": ".py",
   "mimetype": "text/x-python",
   "name": "python",
   "nbconvert_exporter": "python",
   "pygments_lexer": "ipython3",
   "version": "3.8.9"
  }
 },
 "nbformat": 4,
 "nbformat_minor": 5
}
