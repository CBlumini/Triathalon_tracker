{
 "cells": [
  {
   "cell_type": "markdown",
   "id": "bdf15cbf-ab0b-40e5-8275-10e39a418134",
   "metadata": {},
   "source": [
    "## Core Functions\n",
    "- Report the range of times for each event for the given data set (done)\n",
    "- Report the median time for each for the selected data set (done)\n",
    "- Report fastest for each event along with that person and the rest of their time (EX \"Christina Hepper has the fastest Swim at _____ and had the following other times...., Jamie Fend had the fastest T1 at _____ and had teh following other times....\" (done, but need to improve formatting of result)\n",
    "- Create functions\n",
    "-- function to convert to integer minutes (done)\n",
    "-- function for performance standardizing (done)\n",
    "- Compute the fastest theoretical time (done)\n",
    "- Compute the median theoretical time\n",
    "- Report how selected Bib Number did relative to lead (EX \"989 was 0.9x at swimming, 1.1x at T1....\")\n",
    "- Create a line plot with each event on the X, the Standardized Time on the Y (standardize to fastest?) and each line being an athlete, highlight the user and the median line\n",
    "- Need to cumsum the colums\n",
    "\n",
    "## Future\n",
    "- Use mongo db to store data\n",
    "- Automatically scrape the results\n",
    "- Compute a \"competitiveness\" score for each race (like FSAE world: https://fs-world.org/)\n",
    "- Calculate the percentile for eahc event for the user"
   ]
  },
  {
   "cell_type": "code",
   "execution_count": 20,
   "id": "fa5d5a9c-37f8-4cc1-b3ee-0e09fac52558",
   "metadata": {},
   "outputs": [],
   "source": [
    "import pandas as pd\n",
    "import numpy as np\n",
    "#import pandas_bokeh\n",
    "import plotly.express as px\n",
    "import plotly.graph_objects as go\n",
    "import hvplot.pandas\n",
    "#pandas_bokeh.output_notebook()\n",
    "from bokeh.plotting import figure, show\n",
    "pd.set_option(\"precision\", 2)"
   ]
  },
  {
   "cell_type": "code",
   "execution_count": 21,
   "id": "3385b8ae-c16c-4269-a84d-877808016dfd",
   "metadata": {},
   "outputs": [],
   "source": [
    "data = pd.read_excel('santa_cruz_data.xlsx', header = 0, index_col=None)"
   ]
  },
  {
   "cell_type": "code",
   "execution_count": 22,
   "id": "0b0cab9f-1c59-4d28-b1dc-8a7e077b47e7",
   "metadata": {},
   "outputs": [
    {
     "data": {
      "text/html": [
       "<div>\n",
       "<style scoped>\n",
       "    .dataframe tbody tr th:only-of-type {\n",
       "        vertical-align: middle;\n",
       "    }\n",
       "\n",
       "    .dataframe tbody tr th {\n",
       "        vertical-align: top;\n",
       "    }\n",
       "\n",
       "    .dataframe thead th {\n",
       "        text-align: right;\n",
       "    }\n",
       "</style>\n",
       "<table border=\"1\" class=\"dataframe\">\n",
       "  <thead>\n",
       "    <tr style=\"text-align: right;\">\n",
       "      <th></th>\n",
       "      <th>Bib</th>\n",
       "      <th>Name</th>\n",
       "      <th>Team Name</th>\n",
       "      <th>City</th>\n",
       "      <th>Start Time</th>\n",
       "      <th>Swim</th>\n",
       "      <th>T1</th>\n",
       "      <th>Bike</th>\n",
       "      <th>T2</th>\n",
       "      <th>Run</th>\n",
       "      <th>Chip Elapsed</th>\n",
       "      <th>Division</th>\n",
       "      <th>Div Place</th>\n",
       "      <th>Age</th>\n",
       "      <th>Age Place</th>\n",
       "      <th>Gender</th>\n",
       "      <th>Gender Place</th>\n",
       "    </tr>\n",
       "  </thead>\n",
       "  <tbody>\n",
       "    <tr>\n",
       "      <th>0</th>\n",
       "      <td>1039</td>\n",
       "      <td>CHRISTINA HEPPER</td>\n",
       "      <td>NaN</td>\n",
       "      <td>MORGAN HILL</td>\n",
       "      <td>09:45:00</td>\n",
       "      <td>00:14:00</td>\n",
       "      <td>00:04:15</td>\n",
       "      <td>00:36:02</td>\n",
       "      <td>00:01:20</td>\n",
       "      <td>00:23:40</td>\n",
       "      <td>01:19:20</td>\n",
       "      <td>SPRINT-AGE GROUP</td>\n",
       "      <td>25.0</td>\n",
       "      <td>53.0</td>\n",
       "      <td>O/A</td>\n",
       "      <td>F</td>\n",
       "      <td>1.0</td>\n",
       "    </tr>\n",
       "    <tr>\n",
       "      <th>1</th>\n",
       "      <td>1006</td>\n",
       "      <td>JAMIE FEND</td>\n",
       "      <td>SANTA CRUZ TRIATHLON ASSOCIATION</td>\n",
       "      <td>APTOS</td>\n",
       "      <td>09:45:00</td>\n",
       "      <td>00:15:14</td>\n",
       "      <td>00:04:14</td>\n",
       "      <td>00:38:08</td>\n",
       "      <td>00:01:20</td>\n",
       "      <td>00:22:48</td>\n",
       "      <td>01:21:46</td>\n",
       "      <td>SPRINT-AGE GROUP</td>\n",
       "      <td>32.0</td>\n",
       "      <td>46.0</td>\n",
       "      <td>O/A</td>\n",
       "      <td>F</td>\n",
       "      <td>2.0</td>\n",
       "    </tr>\n",
       "    <tr>\n",
       "      <th>2</th>\n",
       "      <td>1112</td>\n",
       "      <td>ALEXANDRA LUZI</td>\n",
       "      <td>NaN</td>\n",
       "      <td>SAN FRANCISCO</td>\n",
       "      <td>09:45:00</td>\n",
       "      <td>00:12:50</td>\n",
       "      <td>00:06:41</td>\n",
       "      <td>00:38:04</td>\n",
       "      <td>00:01:48</td>\n",
       "      <td>00:22:44</td>\n",
       "      <td>01:22:08</td>\n",
       "      <td>SPRINT-AGE GROUP</td>\n",
       "      <td>35.0</td>\n",
       "      <td>30.0</td>\n",
       "      <td>O/A</td>\n",
       "      <td>F</td>\n",
       "      <td>3.0</td>\n",
       "    </tr>\n",
       "    <tr>\n",
       "      <th>3</th>\n",
       "      <td>1030</td>\n",
       "      <td>SUMI HACHMANN</td>\n",
       "      <td>TEEM SHEEPER</td>\n",
       "      <td>MENLO PARK</td>\n",
       "      <td>09:45:00</td>\n",
       "      <td>00:14:16</td>\n",
       "      <td>00:04:40</td>\n",
       "      <td>00:38:36</td>\n",
       "      <td>00:01:11</td>\n",
       "      <td>00:23:56</td>\n",
       "      <td>01:22:40</td>\n",
       "      <td>SPRINT-AGE GROUP</td>\n",
       "      <td>37.0</td>\n",
       "      <td>39.0</td>\n",
       "      <td>1</td>\n",
       "      <td>F</td>\n",
       "      <td>4.0</td>\n",
       "    </tr>\n",
       "    <tr>\n",
       "      <th>4</th>\n",
       "      <td>946</td>\n",
       "      <td>DENISE BUTLER</td>\n",
       "      <td>NaN</td>\n",
       "      <td>MOUNTAIN VIEW</td>\n",
       "      <td>09:45:00</td>\n",
       "      <td>00:12:34</td>\n",
       "      <td>00:04:37</td>\n",
       "      <td>00:40:08</td>\n",
       "      <td>00:00:49</td>\n",
       "      <td>00:24:46</td>\n",
       "      <td>01:22:56</td>\n",
       "      <td>SPRINT-AGE GROUP</td>\n",
       "      <td>39.0</td>\n",
       "      <td>34.0</td>\n",
       "      <td>1</td>\n",
       "      <td>F</td>\n",
       "      <td>5.0</td>\n",
       "    </tr>\n",
       "  </tbody>\n",
       "</table>\n",
       "</div>"
      ],
      "text/plain": [
       "    Bib              Name                         Team Name           City  \\\n",
       "0  1039  CHRISTINA HEPPER                               NaN    MORGAN HILL   \n",
       "1  1006        JAMIE FEND  SANTA CRUZ TRIATHLON ASSOCIATION          APTOS   \n",
       "2  1112    ALEXANDRA LUZI                               NaN  SAN FRANCISCO   \n",
       "3  1030     SUMI HACHMANN                      TEEM SHEEPER     MENLO PARK   \n",
       "4   946     DENISE BUTLER                               NaN  MOUNTAIN VIEW   \n",
       "\n",
       "  Start Time      Swim        T1      Bike        T2       Run Chip Elapsed  \\\n",
       "0   09:45:00  00:14:00  00:04:15  00:36:02  00:01:20  00:23:40     01:19:20   \n",
       "1   09:45:00  00:15:14  00:04:14  00:38:08  00:01:20  00:22:48     01:21:46   \n",
       "2   09:45:00  00:12:50  00:06:41  00:38:04  00:01:48  00:22:44     01:22:08   \n",
       "3   09:45:00  00:14:16  00:04:40  00:38:36  00:01:11  00:23:56     01:22:40   \n",
       "4   09:45:00  00:12:34  00:04:37  00:40:08  00:00:49  00:24:46     01:22:56   \n",
       "\n",
       "           Division  Div Place   Age Age Place Gender  Gender Place  \n",
       "0  SPRINT-AGE GROUP       25.0  53.0       O/A      F           1.0  \n",
       "1  SPRINT-AGE GROUP       32.0  46.0       O/A      F           2.0  \n",
       "2  SPRINT-AGE GROUP       35.0  30.0       O/A      F           3.0  \n",
       "3  SPRINT-AGE GROUP       37.0  39.0         1      F           4.0  \n",
       "4  SPRINT-AGE GROUP       39.0  34.0         1      F           5.0  "
      ]
     },
     "execution_count": 22,
     "metadata": {},
     "output_type": "execute_result"
    }
   ],
   "source": [
    "data.head()"
   ]
  },
  {
   "cell_type": "markdown",
   "id": "bbe00456-8eb1-48a0-b86a-4ceacfb8c7c9",
   "metadata": {},
   "source": [
    "We need to convert the DataTime objects contatined in the data frame to integer minutes to do all of our nice math. Use the function and create new columsn to hold the data.\n",
    "\n",
    "Create a second set of parameters for cumulative times to use later"
   ]
  },
  {
   "cell_type": "code",
   "execution_count": 23,
   "id": "7ef338f4-31e9-4553-b46d-ab88648e0a26",
   "metadata": {},
   "outputs": [],
   "source": [
    "#create a function to convert the time to integer seconds\n",
    "#To create a new column, use the [] brackets with the new column name at the left side of the assignment.\n",
    "\n",
    "def convertTime (time):\n",
    "    timeMinutes = (time.hour*60)+(time.minute)+(time.second/60)\n",
    "    return timeMinutes\n",
    "\n",
    "#convert to integers\n",
    "data[\"Swim Minutes\"] = data[\"Swim\"].apply(convertTime)\n",
    "data[\"T1 Minutes\"] = data[\"T1\"].apply(convertTime)\n",
    "data[\"Bike Minutes\"] = data[\"Bike\"].apply(convertTime)\n",
    "data[\"T2 Minutes\"] = data[\"T2\"].apply(convertTime)\n",
    "data[\"Run Minutes\"] = data[\"Run\"].apply(convertTime)\n",
    "#data[\"Elapsed Minutes\"] = data[\"Chip Elapsed\"].apply(convertTime)\n",
    "\n",
    "#create cumulative times\n",
    "data[\"Swim+T1\"]=data[\"Swim Minutes\"]+data[\"T1 Minutes\"]\n",
    "data[\"Plus Bike\"]=data[\"Swim+T1\"]+data[\"Bike Minutes\"]\n",
    "data[\"Plus T2\"]=data[\"Plus Bike\"]+data[\"T2 Minutes\"]\n",
    "data[\"Total\"]=data[\"Plus T2\"]+data[\"Run Minutes\"]"
   ]
  },
  {
   "cell_type": "markdown",
   "id": "ff654fe1-6ce6-48d2-ab38-6216d0683a0a",
   "metadata": {},
   "source": [
    "Get statistical data about the event."
   ]
  },
  {
   "cell_type": "code",
   "execution_count": 24,
   "id": "844c2b61-6482-41b1-823b-9bbe3e563765",
   "metadata": {},
   "outputs": [
    {
     "data": {
      "text/html": [
       "<div>\n",
       "<style scoped>\n",
       "    .dataframe tbody tr th:only-of-type {\n",
       "        vertical-align: middle;\n",
       "    }\n",
       "\n",
       "    .dataframe tbody tr th {\n",
       "        vertical-align: top;\n",
       "    }\n",
       "\n",
       "    .dataframe thead th {\n",
       "        text-align: right;\n",
       "    }\n",
       "</style>\n",
       "<table border=\"1\" class=\"dataframe\">\n",
       "  <thead>\n",
       "    <tr style=\"text-align: right;\">\n",
       "      <th></th>\n",
       "      <th>Swim Minutes</th>\n",
       "      <th>T1 Minutes</th>\n",
       "      <th>Bike Minutes</th>\n",
       "      <th>T2 Minutes</th>\n",
       "      <th>Run Minutes</th>\n",
       "    </tr>\n",
       "  </thead>\n",
       "  <tbody>\n",
       "    <tr>\n",
       "      <th>count</th>\n",
       "      <td>26.00</td>\n",
       "      <td>26.00</td>\n",
       "      <td>26.00</td>\n",
       "      <td>26.00</td>\n",
       "      <td>26.00</td>\n",
       "    </tr>\n",
       "    <tr>\n",
       "      <th>mean</th>\n",
       "      <td>14.41</td>\n",
       "      <td>5.39</td>\n",
       "      <td>40.58</td>\n",
       "      <td>1.59</td>\n",
       "      <td>25.75</td>\n",
       "    </tr>\n",
       "    <tr>\n",
       "      <th>std</th>\n",
       "      <td>1.47</td>\n",
       "      <td>1.03</td>\n",
       "      <td>2.44</td>\n",
       "      <td>0.48</td>\n",
       "      <td>2.06</td>\n",
       "    </tr>\n",
       "    <tr>\n",
       "      <th>min</th>\n",
       "      <td>11.85</td>\n",
       "      <td>4.23</td>\n",
       "      <td>36.03</td>\n",
       "      <td>0.82</td>\n",
       "      <td>22.73</td>\n",
       "    </tr>\n",
       "    <tr>\n",
       "      <th>25%</th>\n",
       "      <td>13.52</td>\n",
       "      <td>4.62</td>\n",
       "      <td>39.20</td>\n",
       "      <td>1.29</td>\n",
       "      <td>24.12</td>\n",
       "    </tr>\n",
       "    <tr>\n",
       "      <th>50%</th>\n",
       "      <td>14.29</td>\n",
       "      <td>5.17</td>\n",
       "      <td>40.26</td>\n",
       "      <td>1.50</td>\n",
       "      <td>25.27</td>\n",
       "    </tr>\n",
       "    <tr>\n",
       "      <th>75%</th>\n",
       "      <td>15.15</td>\n",
       "      <td>5.75</td>\n",
       "      <td>41.93</td>\n",
       "      <td>1.86</td>\n",
       "      <td>27.25</td>\n",
       "    </tr>\n",
       "    <tr>\n",
       "      <th>max</th>\n",
       "      <td>18.30</td>\n",
       "      <td>8.07</td>\n",
       "      <td>47.55</td>\n",
       "      <td>2.97</td>\n",
       "      <td>30.08</td>\n",
       "    </tr>\n",
       "  </tbody>\n",
       "</table>\n",
       "</div>"
      ],
      "text/plain": [
       "       Swim Minutes  T1 Minutes  Bike Minutes  T2 Minutes  Run Minutes\n",
       "count         26.00       26.00         26.00       26.00        26.00\n",
       "mean          14.41        5.39         40.58        1.59        25.75\n",
       "std            1.47        1.03          2.44        0.48         2.06\n",
       "min           11.85        4.23         36.03        0.82        22.73\n",
       "25%           13.52        4.62         39.20        1.29        24.12\n",
       "50%           14.29        5.17         40.26        1.50        25.27\n",
       "75%           15.15        5.75         41.93        1.86        27.25\n",
       "max           18.30        8.07         47.55        2.97        30.08"
      ]
     },
     "execution_count": 24,
     "metadata": {},
     "output_type": "execute_result"
    }
   ],
   "source": [
    "summary = data.describe()\n",
    "data[[\"Swim Minutes\", \"T1 Minutes\", \"Bike Minutes\", \"T2 Minutes\", \"Run Minutes\"]].describe()"
   ]
  },
  {
   "cell_type": "code",
   "execution_count": 25,
   "id": "11706105-1dd1-4e07-95b9-c5c87954c231",
   "metadata": {},
   "outputs": [
    {
     "data": {
      "text/html": [
       "<div>\n",
       "<style scoped>\n",
       "    .dataframe tbody tr th:only-of-type {\n",
       "        vertical-align: middle;\n",
       "    }\n",
       "\n",
       "    .dataframe tbody tr th {\n",
       "        vertical-align: top;\n",
       "    }\n",
       "\n",
       "    .dataframe thead th {\n",
       "        text-align: right;\n",
       "    }\n",
       "</style>\n",
       "<table border=\"1\" class=\"dataframe\">\n",
       "  <thead>\n",
       "    <tr style=\"text-align: right;\">\n",
       "      <th></th>\n",
       "      <th>Bib</th>\n",
       "      <th>Name</th>\n",
       "      <th>Team Name</th>\n",
       "      <th>City</th>\n",
       "      <th>Start Time</th>\n",
       "      <th>Swim</th>\n",
       "      <th>T1</th>\n",
       "      <th>Bike</th>\n",
       "      <th>T2</th>\n",
       "      <th>Run</th>\n",
       "      <th>...</th>\n",
       "      <th>Swim+T1</th>\n",
       "      <th>Plus Bike</th>\n",
       "      <th>Plus T2</th>\n",
       "      <th>Total</th>\n",
       "      <th>Swim Scaled</th>\n",
       "      <th>T1 Scaled</th>\n",
       "      <th>Bike Scaled</th>\n",
       "      <th>T2 Scaled</th>\n",
       "      <th>Run Scaled</th>\n",
       "      <th>index1</th>\n",
       "    </tr>\n",
       "  </thead>\n",
       "  <tbody>\n",
       "    <tr>\n",
       "      <th>0</th>\n",
       "      <td>1039</td>\n",
       "      <td>CHRISTINA HEPPER</td>\n",
       "      <td>NaN</td>\n",
       "      <td>MORGAN HILL</td>\n",
       "      <td>09:45:00</td>\n",
       "      <td>00:14:00</td>\n",
       "      <td>00:04:15</td>\n",
       "      <td>00:36:02</td>\n",
       "      <td>00:01:20</td>\n",
       "      <td>00:23:40</td>\n",
       "      <td>...</td>\n",
       "      <td>18.25</td>\n",
       "      <td>54.28</td>\n",
       "      <td>55.62</td>\n",
       "      <td>79.28</td>\n",
       "      <td>3.33</td>\n",
       "      <td>0.04</td>\n",
       "      <td>0.00</td>\n",
       "      <td>2.40</td>\n",
       "      <td>1.27</td>\n",
       "      <td>0</td>\n",
       "    </tr>\n",
       "    <tr>\n",
       "      <th>1</th>\n",
       "      <td>1006</td>\n",
       "      <td>JAMIE FEND</td>\n",
       "      <td>SANTA CRUZ TRIATHLON ASSOCIATION</td>\n",
       "      <td>APTOS</td>\n",
       "      <td>09:45:00</td>\n",
       "      <td>00:15:14</td>\n",
       "      <td>00:04:14</td>\n",
       "      <td>00:38:08</td>\n",
       "      <td>00:01:20</td>\n",
       "      <td>00:22:48</td>\n",
       "      <td>...</td>\n",
       "      <td>19.47</td>\n",
       "      <td>57.60</td>\n",
       "      <td>58.93</td>\n",
       "      <td>81.73</td>\n",
       "      <td>5.25</td>\n",
       "      <td>0.00</td>\n",
       "      <td>1.82</td>\n",
       "      <td>2.40</td>\n",
       "      <td>0.09</td>\n",
       "      <td>1</td>\n",
       "    </tr>\n",
       "    <tr>\n",
       "      <th>2</th>\n",
       "      <td>1112</td>\n",
       "      <td>ALEXANDRA LUZI</td>\n",
       "      <td>NaN</td>\n",
       "      <td>SAN FRANCISCO</td>\n",
       "      <td>09:45:00</td>\n",
       "      <td>00:12:50</td>\n",
       "      <td>00:06:41</td>\n",
       "      <td>00:38:04</td>\n",
       "      <td>00:01:48</td>\n",
       "      <td>00:22:44</td>\n",
       "      <td>...</td>\n",
       "      <td>19.52</td>\n",
       "      <td>57.58</td>\n",
       "      <td>59.38</td>\n",
       "      <td>82.12</td>\n",
       "      <td>1.52</td>\n",
       "      <td>6.39</td>\n",
       "      <td>1.77</td>\n",
       "      <td>4.57</td>\n",
       "      <td>0.00</td>\n",
       "      <td>2</td>\n",
       "    </tr>\n",
       "    <tr>\n",
       "      <th>3</th>\n",
       "      <td>1030</td>\n",
       "      <td>SUMI HACHMANN</td>\n",
       "      <td>TEEM SHEEPER</td>\n",
       "      <td>MENLO PARK</td>\n",
       "      <td>09:45:00</td>\n",
       "      <td>00:14:16</td>\n",
       "      <td>00:04:40</td>\n",
       "      <td>00:38:36</td>\n",
       "      <td>00:01:11</td>\n",
       "      <td>00:23:56</td>\n",
       "      <td>...</td>\n",
       "      <td>18.93</td>\n",
       "      <td>57.53</td>\n",
       "      <td>58.72</td>\n",
       "      <td>82.65</td>\n",
       "      <td>3.75</td>\n",
       "      <td>1.13</td>\n",
       "      <td>2.23</td>\n",
       "      <td>1.71</td>\n",
       "      <td>1.63</td>\n",
       "      <td>3</td>\n",
       "    </tr>\n",
       "    <tr>\n",
       "      <th>4</th>\n",
       "      <td>946</td>\n",
       "      <td>DENISE BUTLER</td>\n",
       "      <td>NaN</td>\n",
       "      <td>MOUNTAIN VIEW</td>\n",
       "      <td>09:45:00</td>\n",
       "      <td>00:12:34</td>\n",
       "      <td>00:04:37</td>\n",
       "      <td>00:40:08</td>\n",
       "      <td>00:00:49</td>\n",
       "      <td>00:24:46</td>\n",
       "      <td>...</td>\n",
       "      <td>17.18</td>\n",
       "      <td>57.32</td>\n",
       "      <td>58.13</td>\n",
       "      <td>82.90</td>\n",
       "      <td>1.11</td>\n",
       "      <td>1.00</td>\n",
       "      <td>3.56</td>\n",
       "      <td>0.00</td>\n",
       "      <td>2.77</td>\n",
       "      <td>4</td>\n",
       "    </tr>\n",
       "  </tbody>\n",
       "</table>\n",
       "<p>5 rows × 32 columns</p>\n",
       "</div>"
      ],
      "text/plain": [
       "    Bib              Name                         Team Name           City  \\\n",
       "0  1039  CHRISTINA HEPPER                               NaN    MORGAN HILL   \n",
       "1  1006        JAMIE FEND  SANTA CRUZ TRIATHLON ASSOCIATION          APTOS   \n",
       "2  1112    ALEXANDRA LUZI                               NaN  SAN FRANCISCO   \n",
       "3  1030     SUMI HACHMANN                      TEEM SHEEPER     MENLO PARK   \n",
       "4   946     DENISE BUTLER                               NaN  MOUNTAIN VIEW   \n",
       "\n",
       "  Start Time      Swim        T1      Bike        T2       Run  ... Swim+T1  \\\n",
       "0   09:45:00  00:14:00  00:04:15  00:36:02  00:01:20  00:23:40  ...   18.25   \n",
       "1   09:45:00  00:15:14  00:04:14  00:38:08  00:01:20  00:22:48  ...   19.47   \n",
       "2   09:45:00  00:12:50  00:06:41  00:38:04  00:01:48  00:22:44  ...   19.52   \n",
       "3   09:45:00  00:14:16  00:04:40  00:38:36  00:01:11  00:23:56  ...   18.93   \n",
       "4   09:45:00  00:12:34  00:04:37  00:40:08  00:00:49  00:24:46  ...   17.18   \n",
       "\n",
       "  Plus Bike  Plus T2  Total Swim Scaled T1 Scaled  Bike Scaled  T2 Scaled  \\\n",
       "0     54.28    55.62  79.28        3.33      0.04         0.00       2.40   \n",
       "1     57.60    58.93  81.73        5.25      0.00         1.82       2.40   \n",
       "2     57.58    59.38  82.12        1.52      6.39         1.77       4.57   \n",
       "3     57.53    58.72  82.65        3.75      1.13         2.23       1.71   \n",
       "4     57.32    58.13  82.90        1.11      1.00         3.56       0.00   \n",
       "\n",
       "   Run Scaled  index1  \n",
       "0        1.27       0  \n",
       "1        0.09       1  \n",
       "2        0.00       2  \n",
       "3        1.63       3  \n",
       "4        2.77       4  \n",
       "\n",
       "[5 rows x 32 columns]"
      ]
     },
     "execution_count": 25,
     "metadata": {},
     "output_type": "execute_result"
    }
   ],
   "source": [
    "#normalize the time for plotting\n",
    "#select the data\n",
    "dfPrescale = data[[\"Swim Minutes\", \"T1 Minutes\", \"Bike Minutes\", \"T2 Minutes\", \"Run Minutes\"]]\n",
    "normalized_df = ((dfPrescale - dfPrescale.min())/(dfPrescale.max()-dfPrescale.min()))*10\n",
    "\n",
    "#rename the columns\n",
    "normalized_df.rename(columns = {\"Swim Minutes\":\"Swim Scaled\", \"T1 Minutes\":\"T1 Scaled\", \"Bike Minutes\":\"Bike Scaled\", \n",
    "                                \"T2 Minutes\":\"T2 Scaled\", \"Run Minutes\":\"Run Scaled\"}, inplace = True)\n",
    "\n",
    "#merge to the main frame\n",
    "merged = pd.concat([data, normalized_df], axis=1)\n",
    "merged['index1']=merged.index\n",
    "merged.head()"
   ]
  },
  {
   "cell_type": "code",
   "execution_count": 26,
   "id": "a034a4fc-2d1c-4bf0-9027-b0c18edb5255",
   "metadata": {},
   "outputs": [],
   "source": [
    "#reduced = merged.drop(merged.columns[[2,3,4,5,6,7,8,9,10,11,13,14]], axis=1)\n",
    "#reduced"
   ]
  },
  {
   "cell_type": "code",
   "execution_count": 27,
   "id": "436a2a21-28d5-43bf-8e02-23df068e075e",
   "metadata": {},
   "outputs": [],
   "source": [
    "# can send each runner data to a numnpy array that is named for that runner"
   ]
  },
  {
   "cell_type": "markdown",
   "id": "758d6e61",
   "metadata": {},
   "source": [
    "columns = ['Swim Scaled', 'T1 Scaled', 'Bike Scaled', 'T2 Scaled', 'Run Scaled']\n",
    "\n",
    "reduced.plot_bokeh(kind = 'scatter',\n",
    "                  x='Name',\n",
    "                  y=[\"Swim Minutes\", \"T1 Minutes\"])\n"
   ]
  },
  {
   "cell_type": "code",
   "execution_count": 28,
   "id": "02cfa0e1-351f-4199-a55d-0563cfb2942c",
   "metadata": {},
   "outputs": [
    {
     "data": {
      "text/html": [
       "<div>\n",
       "<style scoped>\n",
       "    .dataframe tbody tr th:only-of-type {\n",
       "        vertical-align: middle;\n",
       "    }\n",
       "\n",
       "    .dataframe tbody tr th {\n",
       "        vertical-align: top;\n",
       "    }\n",
       "\n",
       "    .dataframe thead th {\n",
       "        text-align: right;\n",
       "    }\n",
       "</style>\n",
       "<table border=\"1\" class=\"dataframe\">\n",
       "  <thead>\n",
       "    <tr style=\"text-align: right;\">\n",
       "      <th></th>\n",
       "      <th>Name</th>\n",
       "      <th>Age</th>\n",
       "      <th>Gender Place</th>\n",
       "      <th>Swim Minutes</th>\n",
       "      <th>T1 Minutes</th>\n",
       "      <th>Bike Minutes</th>\n",
       "      <th>T2 Minutes</th>\n",
       "      <th>Run Minutes</th>\n",
       "    </tr>\n",
       "  </thead>\n",
       "  <tbody>\n",
       "    <tr>\n",
       "      <th>12</th>\n",
       "      <td>SAMANTHA DEWEES</td>\n",
       "      <td>25.0</td>\n",
       "      <td>13.0</td>\n",
       "      <td>15.03</td>\n",
       "      <td>7.07</td>\n",
       "      <td>39.65</td>\n",
       "      <td>2.22</td>\n",
       "      <td>23.63</td>\n",
       "    </tr>\n",
       "  </tbody>\n",
       "</table>\n",
       "</div>"
      ],
      "text/plain": [
       "               Name   Age  Gender Place  Swim Minutes  T1 Minutes  \\\n",
       "12  SAMANTHA DEWEES  25.0          13.0         15.03        7.07   \n",
       "\n",
       "    Bike Minutes  T2 Minutes  Run Minutes  \n",
       "12         39.65        2.22        23.63  "
      ]
     },
     "execution_count": 28,
     "metadata": {},
     "output_type": "execute_result"
    }
   ],
   "source": [
    "#assign user variable\n",
    "user = \"SAMANTHA DEWEES\"\n",
    "index = merged.index[merged['Name']==user].tolist()\n",
    "merged.loc[index, [\"Name\", \"Age\", \"Gender Place\", \"Swim Minutes\", \"T1 Minutes\", \"Bike Minutes\", \"T2 Minutes\", \"Run Minutes\"]]\n",
    "\n",
    "#data.loc[[user], [\"Bib\", \"Name\", \"City\", \"Div Place\", \"Age\"]]\n",
    "#[data[\"Name\"]==\"SAMANTHA DEWEES\"\n",
    "#data.loc[data[\"Name\"]==\"SAMANTHA DEWEES\"]"
   ]
  },
  {
   "cell_type": "code",
   "execution_count": 29,
   "id": "b64ea014-75d7-452f-97e5-1626737b536c",
   "metadata": {},
   "outputs": [],
   "source": [
    "def getMinTime (stage):\n",
    "    minTime = data[stage].min()\n",
    "    minIndex = data[stage].idxmin()\n",
    "    #print(\"minTime is\", minTime)\n",
    "    #print(\"minIndex is\", minIndex)\n",
    "    return minTime, minIndex\n",
    "    \n",
    "def printResults (minIndex):\n",
    "    #need to make this so it doesnt print reduntant colums or prints something nicely formatted\n",
    "    print(data.iloc[minIndex,:])"
   ]
  },
  {
   "cell_type": "code",
   "execution_count": 30,
   "id": "fd1da28c-9aa4-496d-9e86-41105e03d3b3",
   "metadata": {},
   "outputs": [
    {
     "name": "stdout",
     "output_type": "stream",
     "text": [
      "the fastest for  Swim Minutes\n",
      "Bib                         1288\n",
      "Name            CAROLE YOSHIWARA\n",
      "Team Name                    NaN\n",
      "City                   SUNNYVALE\n",
      "Start Time              09:45:00\n",
      "Swim                    00:11:51\n",
      "T1                      00:05:18\n",
      "Bike                    00:42:36\n",
      "T2                      00:01:27\n",
      "Run                     00:24:47\n",
      "Chip Elapsed            01:26:02\n",
      "Division        SPRINT-AGE GROUP\n",
      "Div Place                   52.0\n",
      "Age                         33.0\n",
      "Age Place                      2\n",
      "Gender                         F\n",
      "Gender Place                10.0\n",
      "Swim Minutes               11.85\n",
      "T1 Minutes                   5.3\n",
      "Bike Minutes                42.6\n",
      "T2 Minutes                  1.45\n",
      "Run Minutes                24.78\n",
      "Swim+T1                    17.15\n",
      "Plus Bike                  59.75\n",
      "Plus T2                     61.2\n",
      "Total                      85.98\n",
      "Name: 9, dtype: object\n",
      "the fastest for  T1 Minutes\n",
      "Bib                                         1006\n",
      "Name                                  JAMIE FEND\n",
      "Team Name       SANTA CRUZ TRIATHLON ASSOCIATION\n",
      "City                                       APTOS\n",
      "Start Time                              09:45:00\n",
      "Swim                                    00:15:14\n",
      "T1                                      00:04:14\n",
      "Bike                                    00:38:08\n",
      "T2                                      00:01:20\n",
      "Run                                     00:22:48\n",
      "Chip Elapsed                            01:21:46\n",
      "Division                        SPRINT-AGE GROUP\n",
      "Div Place                                   32.0\n",
      "Age                                         46.0\n",
      "Age Place                                    O/A\n",
      "Gender                                         F\n",
      "Gender Place                                 2.0\n",
      "Swim Minutes                               15.23\n",
      "T1 Minutes                                  4.23\n",
      "Bike Minutes                               38.13\n",
      "T2 Minutes                                  1.33\n",
      "Run Minutes                                 22.8\n",
      "Swim+T1                                    19.47\n",
      "Plus Bike                                   57.6\n",
      "Plus T2                                    58.93\n",
      "Total                                      81.73\n",
      "Name: 1, dtype: object\n",
      "the fastest for  Bike Minutes\n",
      "Bib                         1039\n",
      "Name            CHRISTINA HEPPER\n",
      "Team Name                    NaN\n",
      "City                 MORGAN HILL\n",
      "Start Time              09:45:00\n",
      "Swim                    00:14:00\n",
      "T1                      00:04:15\n",
      "Bike                    00:36:02\n",
      "T2                      00:01:20\n",
      "Run                     00:23:40\n",
      "Chip Elapsed            01:19:20\n",
      "Division        SPRINT-AGE GROUP\n",
      "Div Place                   25.0\n",
      "Age                         53.0\n",
      "Age Place                    O/A\n",
      "Gender                         F\n",
      "Gender Place                 1.0\n",
      "Swim Minutes                14.0\n",
      "T1 Minutes                  4.25\n",
      "Bike Minutes               36.03\n",
      "T2 Minutes                  1.33\n",
      "Run Minutes                23.67\n",
      "Swim+T1                    18.25\n",
      "Plus Bike                  54.28\n",
      "Plus T2                    55.62\n",
      "Total                      79.28\n",
      "Name: 0, dtype: object\n",
      "the fastest for  T2 Minutes\n",
      "Bib                          946\n",
      "Name               DENISE BUTLER\n",
      "Team Name                    NaN\n",
      "City               MOUNTAIN VIEW\n",
      "Start Time              09:45:00\n",
      "Swim                    00:12:34\n",
      "T1                      00:04:37\n",
      "Bike                    00:40:08\n",
      "T2                      00:00:49\n",
      "Run                     00:24:46\n",
      "Chip Elapsed            01:22:56\n",
      "Division        SPRINT-AGE GROUP\n",
      "Div Place                   39.0\n",
      "Age                         34.0\n",
      "Age Place                      1\n",
      "Gender                         F\n",
      "Gender Place                 5.0\n",
      "Swim Minutes               12.57\n",
      "T1 Minutes                  4.62\n",
      "Bike Minutes               40.13\n",
      "T2 Minutes                  0.82\n",
      "Run Minutes                24.77\n",
      "Swim+T1                    17.18\n",
      "Plus Bike                  57.32\n",
      "Plus T2                    58.13\n",
      "Total                       82.9\n",
      "Name: 4, dtype: object\n",
      "the fastest for  Run Minutes\n",
      "Bib                         1112\n",
      "Name              ALEXANDRA LUZI\n",
      "Team Name                    NaN\n",
      "City               SAN FRANCISCO\n",
      "Start Time              09:45:00\n",
      "Swim                    00:12:50\n",
      "T1                      00:06:41\n",
      "Bike                    00:38:04\n",
      "T2                      00:01:48\n",
      "Run                     00:22:44\n",
      "Chip Elapsed            01:22:08\n",
      "Division        SPRINT-AGE GROUP\n",
      "Div Place                   35.0\n",
      "Age                         30.0\n",
      "Age Place                    O/A\n",
      "Gender                         F\n",
      "Gender Place                 3.0\n",
      "Swim Minutes               12.83\n",
      "T1 Minutes                  6.68\n",
      "Bike Minutes               38.07\n",
      "T2 Minutes                   1.8\n",
      "Run Minutes                22.73\n",
      "Swim+T1                    19.52\n",
      "Plus Bike                  57.58\n",
      "Plus T2                    59.38\n",
      "Total                      82.12\n",
      "Name: 2, dtype: object\n",
      "the shortest possible time is:  75.66666666666666\n"
     ]
    }
   ],
   "source": [
    "events = ['Swim Minutes', 'T1 Minutes', 'Bike Minutes', 'T2 Minutes', 'Run Minutes']\n",
    "\n",
    "shortestTime = 0\n",
    "for stage in events:\n",
    "    minTime, minIndex = getMinTime(stage)\n",
    "    print(\"the fastest for \", stage)\n",
    "    printResults(minIndex)\n",
    "    shortestTime = shortestTime + minTime\n",
    "\n",
    "print(\"the shortest possible time is: \", shortestTime)\n",
    "#need to work on formatting"
   ]
  },
  {
   "cell_type": "code",
   "execution_count": 31,
   "id": "765e7ddf",
   "metadata": {},
   "outputs": [
    {
     "data": {
      "text/plain": [
       "<zip at 0x29d3d0bd080>"
      ]
     },
     "execution_count": 31,
     "metadata": {},
     "output_type": "execute_result"
    }
   ],
   "source": [
    "reduced2 = merged[[\"Name\",\"Swim Minutes\",\"Swim+T1\",\"Plus Bike\",\"Plus T2\",\"Total\",\"Gender Place\"]]\n",
    "#reduced2[\"Start\"] = 0\n",
    "reduced2 = reduced2.drop(25)\n",
    "reduced2\n",
    "\n",
    "color_nums = reduced2['Gender Place'].tolist()\n",
    "color_names = reduced2['Name'].tolist()\n",
    "colors_zip = zip(color_nums, color_names)\n",
    "\n",
    "colors_zip"
   ]
  },
  {
   "cell_type": "code",
   "execution_count": 32,
   "id": "b06bf5b6",
   "metadata": {},
   "outputs": [
    {
     "data": {
      "text/plain": [
       "str"
      ]
     },
     "execution_count": 32,
     "metadata": {},
     "output_type": "execute_result"
    }
   ],
   "source": [
    "#hvplot.parallel_coordinates(reduced2[[\"Name\",\"Swim Minutes\",\"Swim+T1\",\"Plus Bike\",\"Plus T2\",\"Total\"]], \"Name\", width = 1280, height = 720)\n",
    "type(reduced2.iat[0,0])"
   ]
  },
  {
   "cell_type": "code",
   "execution_count": 33,
   "id": "0b456ea3",
   "metadata": {},
   "outputs": [
    {
     "data": {
      "application/vnd.plotly.v1+json": {
       "config": {
        "plotlyServerURL": "https://plot.ly"
       },
       "data": [
        {
         "dimensions": [
          {
           "label": "Time After Swim",
           "values": [
            14,
            15.233333333333333,
            12.833333333333334,
            14.266666666666667,
            12.566666666666666,
            14.516666666666667,
            13.5,
            13.566666666666666,
            14.133333333333333,
            11.85,
            13.816666666666666,
            14.483333333333333,
            15.033333333333333,
            12.933333333333334,
            14.316666666666666,
            18.3,
            16.5,
            13.033333333333333,
            14.466666666666667,
            13.9,
            15.183333333333334,
            15.833333333333334,
            12.65,
            16.616666666666667,
            14.883333333333333
           ]
          },
          {
           "label": "Time After First Transition",
           "values": [
            18.25,
            19.466666666666665,
            19.516666666666666,
            18.933333333333334,
            17.183333333333334,
            18.950000000000003,
            17.983333333333334,
            17.916666666666664,
            19.78333333333333,
            17.15,
            18.883333333333333,
            20.266666666666666,
            22.1,
            17.183333333333334,
            19.95,
            23.15,
            22.1,
            19.366666666666667,
            19.78333333333333,
            21.96666666666667,
            20.3,
            21.05,
            19.916666666666668,
            21.266666666666666,
            21.2
           ]
          },
          {
           "label": "Time After Bike",
           "values": [
            54.28333333333333,
            57.599999999999994,
            57.583333333333336,
            57.53333333333333,
            57.31666666666666,
            55.16666666666667,
            56.983333333333334,
            56.96666666666666,
            59.65,
            59.75,
            60.13333333333333,
            60.65,
            61.75,
            59.06666666666666,
            59.7,
            62.83333333333333,
            64.80000000000001,
            62.96666666666667,
            60.199999999999996,
            61.68333333333334,
            63.16666666666667,
            62.349999999999994,
            67.46666666666667,
            63.21666666666667,
            64.31666666666666
           ]
          },
          {
           "label": "Time After Second Transition",
           "values": [
            55.61666666666667,
            58.93333333333333,
            59.38333333333333,
            58.71666666666666,
            58.13333333333333,
            56.550000000000004,
            58.666666666666664,
            58.18333333333333,
            62.61666666666667,
            61.2,
            62.1,
            62.85,
            63.96666666666667,
            60.68333333333333,
            61.583333333333336,
            64.35,
            65.78333333333335,
            64.86666666666667,
            61.699999999999996,
            63.96666666666667,
            64.45,
            64.05,
            68.76666666666667,
            64.71666666666667,
            65.39999999999999
           ]
          },
          {
           "label": "Total Time",
           "values": [
            79.28333333333333,
            81.73333333333333,
            82.11666666666667,
            82.64999999999999,
            82.9,
            83.21666666666667,
            83.46666666666667,
            85.33333333333333,
            85.88333333333333,
            85.98333333333333,
            87.46666666666667,
            87.53333333333333,
            87.6,
            87.75,
            87.78333333333333,
            89.51666666666667,
            90.58333333333334,
            90.65,
            91,
            91.68333333333334,
            91.73333333333333,
            92.21666666666667,
            92.3,
            93.13333333333334,
            93.18333333333332
           ]
          },
          {
           "label": "Gender Place",
           "values": [
            1,
            2,
            3,
            4,
            5,
            6,
            7,
            8,
            9,
            10,
            11,
            12,
            13,
            14,
            15,
            16,
            17,
            18,
            19,
            20,
            21,
            22,
            23,
            24,
            25
           ]
          }
         ],
         "domain": {
          "x": [
           0,
           1
          ],
          "y": [
           0,
           1
          ]
         },
         "line": {
          "color": [
           1,
           2,
           3,
           4,
           5,
           6,
           7,
           8,
           9,
           10,
           11,
           12,
           13,
           14,
           15,
           16,
           17,
           18,
           19,
           20,
           21,
           22,
           23,
           24,
           25
          ],
          "coloraxis": "coloraxis"
         },
         "name": "",
         "type": "parcoords"
        }
       ],
       "layout": {
        "coloraxis": {
         "colorbar": {
          "title": {
           "text": "Gender Place"
          }
         },
         "colorscale": [
          [
           0,
           "#0d0887"
          ],
          [
           0.1111111111111111,
           "#46039f"
          ],
          [
           0.2222222222222222,
           "#7201a8"
          ],
          [
           0.3333333333333333,
           "#9c179e"
          ],
          [
           0.4444444444444444,
           "#bd3786"
          ],
          [
           0.5555555555555556,
           "#d8576b"
          ],
          [
           0.6666666666666666,
           "#ed7953"
          ],
          [
           0.7777777777777778,
           "#fb9f3a"
          ],
          [
           0.8888888888888888,
           "#fdca26"
          ],
          [
           1,
           "#f0f921"
          ]
         ]
        },
        "legend": {
         "tracegroupgap": 0
        },
        "margin": {
         "t": 60
        },
        "template": {
         "data": {
          "bar": [
           {
            "error_x": {
             "color": "#2a3f5f"
            },
            "error_y": {
             "color": "#2a3f5f"
            },
            "marker": {
             "line": {
              "color": "#E5ECF6",
              "width": 0.5
             },
             "pattern": {
              "fillmode": "overlay",
              "size": 10,
              "solidity": 0.2
             }
            },
            "type": "bar"
           }
          ],
          "barpolar": [
           {
            "marker": {
             "line": {
              "color": "#E5ECF6",
              "width": 0.5
             },
             "pattern": {
              "fillmode": "overlay",
              "size": 10,
              "solidity": 0.2
             }
            },
            "type": "barpolar"
           }
          ],
          "carpet": [
           {
            "aaxis": {
             "endlinecolor": "#2a3f5f",
             "gridcolor": "white",
             "linecolor": "white",
             "minorgridcolor": "white",
             "startlinecolor": "#2a3f5f"
            },
            "baxis": {
             "endlinecolor": "#2a3f5f",
             "gridcolor": "white",
             "linecolor": "white",
             "minorgridcolor": "white",
             "startlinecolor": "#2a3f5f"
            },
            "type": "carpet"
           }
          ],
          "choropleth": [
           {
            "colorbar": {
             "outlinewidth": 0,
             "ticks": ""
            },
            "type": "choropleth"
           }
          ],
          "contour": [
           {
            "colorbar": {
             "outlinewidth": 0,
             "ticks": ""
            },
            "colorscale": [
             [
              0,
              "#0d0887"
             ],
             [
              0.1111111111111111,
              "#46039f"
             ],
             [
              0.2222222222222222,
              "#7201a8"
             ],
             [
              0.3333333333333333,
              "#9c179e"
             ],
             [
              0.4444444444444444,
              "#bd3786"
             ],
             [
              0.5555555555555556,
              "#d8576b"
             ],
             [
              0.6666666666666666,
              "#ed7953"
             ],
             [
              0.7777777777777778,
              "#fb9f3a"
             ],
             [
              0.8888888888888888,
              "#fdca26"
             ],
             [
              1,
              "#f0f921"
             ]
            ],
            "type": "contour"
           }
          ],
          "contourcarpet": [
           {
            "colorbar": {
             "outlinewidth": 0,
             "ticks": ""
            },
            "type": "contourcarpet"
           }
          ],
          "heatmap": [
           {
            "colorbar": {
             "outlinewidth": 0,
             "ticks": ""
            },
            "colorscale": [
             [
              0,
              "#0d0887"
             ],
             [
              0.1111111111111111,
              "#46039f"
             ],
             [
              0.2222222222222222,
              "#7201a8"
             ],
             [
              0.3333333333333333,
              "#9c179e"
             ],
             [
              0.4444444444444444,
              "#bd3786"
             ],
             [
              0.5555555555555556,
              "#d8576b"
             ],
             [
              0.6666666666666666,
              "#ed7953"
             ],
             [
              0.7777777777777778,
              "#fb9f3a"
             ],
             [
              0.8888888888888888,
              "#fdca26"
             ],
             [
              1,
              "#f0f921"
             ]
            ],
            "type": "heatmap"
           }
          ],
          "heatmapgl": [
           {
            "colorbar": {
             "outlinewidth": 0,
             "ticks": ""
            },
            "colorscale": [
             [
              0,
              "#0d0887"
             ],
             [
              0.1111111111111111,
              "#46039f"
             ],
             [
              0.2222222222222222,
              "#7201a8"
             ],
             [
              0.3333333333333333,
              "#9c179e"
             ],
             [
              0.4444444444444444,
              "#bd3786"
             ],
             [
              0.5555555555555556,
              "#d8576b"
             ],
             [
              0.6666666666666666,
              "#ed7953"
             ],
             [
              0.7777777777777778,
              "#fb9f3a"
             ],
             [
              0.8888888888888888,
              "#fdca26"
             ],
             [
              1,
              "#f0f921"
             ]
            ],
            "type": "heatmapgl"
           }
          ],
          "histogram": [
           {
            "marker": {
             "pattern": {
              "fillmode": "overlay",
              "size": 10,
              "solidity": 0.2
             }
            },
            "type": "histogram"
           }
          ],
          "histogram2d": [
           {
            "colorbar": {
             "outlinewidth": 0,
             "ticks": ""
            },
            "colorscale": [
             [
              0,
              "#0d0887"
             ],
             [
              0.1111111111111111,
              "#46039f"
             ],
             [
              0.2222222222222222,
              "#7201a8"
             ],
             [
              0.3333333333333333,
              "#9c179e"
             ],
             [
              0.4444444444444444,
              "#bd3786"
             ],
             [
              0.5555555555555556,
              "#d8576b"
             ],
             [
              0.6666666666666666,
              "#ed7953"
             ],
             [
              0.7777777777777778,
              "#fb9f3a"
             ],
             [
              0.8888888888888888,
              "#fdca26"
             ],
             [
              1,
              "#f0f921"
             ]
            ],
            "type": "histogram2d"
           }
          ],
          "histogram2dcontour": [
           {
            "colorbar": {
             "outlinewidth": 0,
             "ticks": ""
            },
            "colorscale": [
             [
              0,
              "#0d0887"
             ],
             [
              0.1111111111111111,
              "#46039f"
             ],
             [
              0.2222222222222222,
              "#7201a8"
             ],
             [
              0.3333333333333333,
              "#9c179e"
             ],
             [
              0.4444444444444444,
              "#bd3786"
             ],
             [
              0.5555555555555556,
              "#d8576b"
             ],
             [
              0.6666666666666666,
              "#ed7953"
             ],
             [
              0.7777777777777778,
              "#fb9f3a"
             ],
             [
              0.8888888888888888,
              "#fdca26"
             ],
             [
              1,
              "#f0f921"
             ]
            ],
            "type": "histogram2dcontour"
           }
          ],
          "mesh3d": [
           {
            "colorbar": {
             "outlinewidth": 0,
             "ticks": ""
            },
            "type": "mesh3d"
           }
          ],
          "parcoords": [
           {
            "line": {
             "colorbar": {
              "outlinewidth": 0,
              "ticks": ""
             }
            },
            "type": "parcoords"
           }
          ],
          "pie": [
           {
            "automargin": true,
            "type": "pie"
           }
          ],
          "scatter": [
           {
            "marker": {
             "colorbar": {
              "outlinewidth": 0,
              "ticks": ""
             }
            },
            "type": "scatter"
           }
          ],
          "scatter3d": [
           {
            "line": {
             "colorbar": {
              "outlinewidth": 0,
              "ticks": ""
             }
            },
            "marker": {
             "colorbar": {
              "outlinewidth": 0,
              "ticks": ""
             }
            },
            "type": "scatter3d"
           }
          ],
          "scattercarpet": [
           {
            "marker": {
             "colorbar": {
              "outlinewidth": 0,
              "ticks": ""
             }
            },
            "type": "scattercarpet"
           }
          ],
          "scattergeo": [
           {
            "marker": {
             "colorbar": {
              "outlinewidth": 0,
              "ticks": ""
             }
            },
            "type": "scattergeo"
           }
          ],
          "scattergl": [
           {
            "marker": {
             "colorbar": {
              "outlinewidth": 0,
              "ticks": ""
             }
            },
            "type": "scattergl"
           }
          ],
          "scattermapbox": [
           {
            "marker": {
             "colorbar": {
              "outlinewidth": 0,
              "ticks": ""
             }
            },
            "type": "scattermapbox"
           }
          ],
          "scatterpolar": [
           {
            "marker": {
             "colorbar": {
              "outlinewidth": 0,
              "ticks": ""
             }
            },
            "type": "scatterpolar"
           }
          ],
          "scatterpolargl": [
           {
            "marker": {
             "colorbar": {
              "outlinewidth": 0,
              "ticks": ""
             }
            },
            "type": "scatterpolargl"
           }
          ],
          "scatterternary": [
           {
            "marker": {
             "colorbar": {
              "outlinewidth": 0,
              "ticks": ""
             }
            },
            "type": "scatterternary"
           }
          ],
          "surface": [
           {
            "colorbar": {
             "outlinewidth": 0,
             "ticks": ""
            },
            "colorscale": [
             [
              0,
              "#0d0887"
             ],
             [
              0.1111111111111111,
              "#46039f"
             ],
             [
              0.2222222222222222,
              "#7201a8"
             ],
             [
              0.3333333333333333,
              "#9c179e"
             ],
             [
              0.4444444444444444,
              "#bd3786"
             ],
             [
              0.5555555555555556,
              "#d8576b"
             ],
             [
              0.6666666666666666,
              "#ed7953"
             ],
             [
              0.7777777777777778,
              "#fb9f3a"
             ],
             [
              0.8888888888888888,
              "#fdca26"
             ],
             [
              1,
              "#f0f921"
             ]
            ],
            "type": "surface"
           }
          ],
          "table": [
           {
            "cells": {
             "fill": {
              "color": "#EBF0F8"
             },
             "line": {
              "color": "white"
             }
            },
            "header": {
             "fill": {
              "color": "#C8D4E3"
             },
             "line": {
              "color": "white"
             }
            },
            "type": "table"
           }
          ]
         },
         "layout": {
          "annotationdefaults": {
           "arrowcolor": "#2a3f5f",
           "arrowhead": 0,
           "arrowwidth": 1
          },
          "autotypenumbers": "strict",
          "coloraxis": {
           "colorbar": {
            "outlinewidth": 0,
            "ticks": ""
           }
          },
          "colorscale": {
           "diverging": [
            [
             0,
             "#8e0152"
            ],
            [
             0.1,
             "#c51b7d"
            ],
            [
             0.2,
             "#de77ae"
            ],
            [
             0.3,
             "#f1b6da"
            ],
            [
             0.4,
             "#fde0ef"
            ],
            [
             0.5,
             "#f7f7f7"
            ],
            [
             0.6,
             "#e6f5d0"
            ],
            [
             0.7,
             "#b8e186"
            ],
            [
             0.8,
             "#7fbc41"
            ],
            [
             0.9,
             "#4d9221"
            ],
            [
             1,
             "#276419"
            ]
           ],
           "sequential": [
            [
             0,
             "#0d0887"
            ],
            [
             0.1111111111111111,
             "#46039f"
            ],
            [
             0.2222222222222222,
             "#7201a8"
            ],
            [
             0.3333333333333333,
             "#9c179e"
            ],
            [
             0.4444444444444444,
             "#bd3786"
            ],
            [
             0.5555555555555556,
             "#d8576b"
            ],
            [
             0.6666666666666666,
             "#ed7953"
            ],
            [
             0.7777777777777778,
             "#fb9f3a"
            ],
            [
             0.8888888888888888,
             "#fdca26"
            ],
            [
             1,
             "#f0f921"
            ]
           ],
           "sequentialminus": [
            [
             0,
             "#0d0887"
            ],
            [
             0.1111111111111111,
             "#46039f"
            ],
            [
             0.2222222222222222,
             "#7201a8"
            ],
            [
             0.3333333333333333,
             "#9c179e"
            ],
            [
             0.4444444444444444,
             "#bd3786"
            ],
            [
             0.5555555555555556,
             "#d8576b"
            ],
            [
             0.6666666666666666,
             "#ed7953"
            ],
            [
             0.7777777777777778,
             "#fb9f3a"
            ],
            [
             0.8888888888888888,
             "#fdca26"
            ],
            [
             1,
             "#f0f921"
            ]
           ]
          },
          "colorway": [
           "#636efa",
           "#EF553B",
           "#00cc96",
           "#ab63fa",
           "#FFA15A",
           "#19d3f3",
           "#FF6692",
           "#B6E880",
           "#FF97FF",
           "#FECB52"
          ],
          "font": {
           "color": "#2a3f5f"
          },
          "geo": {
           "bgcolor": "white",
           "lakecolor": "white",
           "landcolor": "#E5ECF6",
           "showlakes": true,
           "showland": true,
           "subunitcolor": "white"
          },
          "hoverlabel": {
           "align": "left"
          },
          "hovermode": "closest",
          "mapbox": {
           "style": "light"
          },
          "paper_bgcolor": "white",
          "plot_bgcolor": "#E5ECF6",
          "polar": {
           "angularaxis": {
            "gridcolor": "white",
            "linecolor": "white",
            "ticks": ""
           },
           "bgcolor": "#E5ECF6",
           "radialaxis": {
            "gridcolor": "white",
            "linecolor": "white",
            "ticks": ""
           }
          },
          "scene": {
           "xaxis": {
            "backgroundcolor": "#E5ECF6",
            "gridcolor": "white",
            "gridwidth": 2,
            "linecolor": "white",
            "showbackground": true,
            "ticks": "",
            "zerolinecolor": "white"
           },
           "yaxis": {
            "backgroundcolor": "#E5ECF6",
            "gridcolor": "white",
            "gridwidth": 2,
            "linecolor": "white",
            "showbackground": true,
            "ticks": "",
            "zerolinecolor": "white"
           },
           "zaxis": {
            "backgroundcolor": "#E5ECF6",
            "gridcolor": "white",
            "gridwidth": 2,
            "linecolor": "white",
            "showbackground": true,
            "ticks": "",
            "zerolinecolor": "white"
           }
          },
          "shapedefaults": {
           "line": {
            "color": "#2a3f5f"
           }
          },
          "ternary": {
           "aaxis": {
            "gridcolor": "white",
            "linecolor": "white",
            "ticks": ""
           },
           "baxis": {
            "gridcolor": "white",
            "linecolor": "white",
            "ticks": ""
           },
           "bgcolor": "#E5ECF6",
           "caxis": {
            "gridcolor": "white",
            "linecolor": "white",
            "ticks": ""
           }
          },
          "title": {
           "x": 0.05
          },
          "xaxis": {
           "automargin": true,
           "gridcolor": "white",
           "linecolor": "white",
           "ticks": "",
           "title": {
            "standoff": 15
           },
           "zerolinecolor": "white",
           "zerolinewidth": 2
          },
          "yaxis": {
           "automargin": true,
           "gridcolor": "white",
           "linecolor": "white",
           "ticks": "",
           "title": {
            "standoff": 15
           },
           "zerolinecolor": "white",
           "zerolinewidth": 2
          }
         }
        }
       }
      }
     },
     "metadata": {},
     "output_type": "display_data"
    }
   ],
   "source": [
    "fig = px.parallel_coordinates(reduced2, color = \"Gender Place\", \n",
    "      labels={\"Swim Minutes\":\"Time After Swim\", \"Swim+T1\":\"Time After First Transition\", \"Plus Bike\":\"Time After Bike\", \n",
    "              \"Plus T2\":\"Time After Second Transition\", \"Total\":\"Total Time\"})\n",
    "\n",
    "fig.show()"
   ]
  },
  {
   "cell_type": "code",
   "execution_count": 34,
   "id": "73e78485",
   "metadata": {},
   "outputs": [],
   "source": [
    "#reduced2=reduced2.head(3)\n",
    "#reduced2"
   ]
  },
  {
   "cell_type": "code",
   "execution_count": 40,
   "id": "019ef3e3-9ef0-4013-8a3e-848ced0e9b45",
   "metadata": {},
   "outputs": [
    {
     "data": {
      "application/vnd.plotly.v1+json": {
       "config": {
        "plotlyServerURL": "https://plot.ly"
       },
       "data": [
        {
         "dimensions": [
          {
           "label": "Time After Swim",
           "range": [
            11,
            18.5
           ],
           "values": [
            14,
            15.233333333333333,
            12.833333333333334,
            14.266666666666667,
            12.566666666666666,
            14.516666666666667,
            13.5,
            13.566666666666666,
            14.133333333333333,
            11.85,
            13.816666666666666,
            14.483333333333333,
            15.033333333333333,
            12.933333333333334,
            14.316666666666666,
            18.3,
            16.5,
            13.033333333333333,
            14.466666666666667,
            13.9,
            15.183333333333334,
            15.833333333333334,
            12.65,
            16.616666666666667,
            14.883333333333333
           ]
          },
          {
           "label": "Time After First Transition",
           "range": [
            17,
            23.5
           ],
           "values": [
            18.25,
            19.466666666666665,
            19.516666666666666,
            18.933333333333334,
            17.183333333333334,
            18.950000000000003,
            17.983333333333334,
            17.916666666666664,
            19.78333333333333,
            17.15,
            18.883333333333333,
            20.266666666666666,
            22.1,
            17.183333333333334,
            19.95,
            23.15,
            22.1,
            19.366666666666667,
            19.78333333333333,
            21.96666666666667,
            20.3,
            21.05,
            19.916666666666668,
            21.266666666666666,
            21.2
           ]
          },
          {
           "label": "Time After Bike",
           "range": [
            54,
            67.5
           ],
           "values": [
            54.28333333333333,
            57.599999999999994,
            57.583333333333336,
            57.53333333333333,
            57.31666666666666,
            55.16666666666667,
            56.983333333333334,
            56.96666666666666,
            59.65,
            59.75,
            60.13333333333333,
            60.65,
            61.75,
            59.06666666666666,
            59.7,
            62.83333333333333,
            64.80000000000001,
            62.96666666666667,
            60.199999999999996,
            61.68333333333334,
            63.16666666666667,
            62.349999999999994,
            67.46666666666667,
            63.21666666666667,
            64.31666666666666
           ]
          },
          {
           "label": "Time After Second Transition",
           "range": [
            55.5,
            69
           ],
           "values": [
            55.61666666666667,
            58.93333333333333,
            59.38333333333333,
            58.71666666666666,
            58.13333333333333,
            56.550000000000004,
            58.666666666666664,
            58.18333333333333,
            62.61666666666667,
            61.2,
            62.1,
            62.85,
            63.96666666666667,
            60.68333333333333,
            61.583333333333336,
            64.35,
            65.78333333333335,
            64.86666666666667,
            61.699999999999996,
            63.96666666666667,
            64.45,
            64.05,
            68.76666666666667,
            64.71666666666667,
            65.39999999999999
           ]
          },
          {
           "label": "Total Time",
           "range": [
            79,
            93.5
           ],
           "values": [
            79.28333333333333,
            81.73333333333333,
            82.11666666666667,
            82.64999999999999,
            82.9,
            83.21666666666667,
            83.46666666666667,
            85.33333333333333,
            85.88333333333333,
            85.98333333333333,
            87.46666666666667,
            87.53333333333333,
            87.6,
            87.75,
            87.78333333333333,
            89.51666666666667,
            90.58333333333334,
            90.65,
            91,
            91.68333333333334,
            91.73333333333333,
            92.21666666666667,
            92.3,
            93.13333333333334,
            93.18333333333332
           ]
          },
          {
           "label": "Competitor",
           "range": [
            0,
            25
           ],
           "ticktext": [
            "CHRISTINA HEPPER",
            "JAMIE FEND",
            "ALEXANDRA LUZI",
            "SUMI HACHMANN",
            "DENISE BUTLER",
            "SHARON BARCLAY",
            "AMY PEARSON",
            "NOEL KOSIEK",
            "CATHERINE LONDON",
            "CAROLE YOSHIWARA",
            "JACKI PHELPS",
            "HELENA SCUTT",
            "SAMANTHA DEWEES",
            "CARA HIPSKIND",
            "AYA TANGE",
            "CHRISTA ZADO",
            "KERRY SKEMP",
            "VYLANA TRANG",
            "CHRIS ENGEN",
            "EMILY SHEPARD",
            "MARISA LENCI",
            "MARIE CHAISSON",
            "HANNAH VOELKER",
            "KATHERINE LEE",
            "TINA SOMERS"
           ],
           "tickvals": [
            1,
            2,
            3,
            4,
            5,
            6,
            7,
            8,
            9,
            10,
            11,
            12,
            13,
            14,
            15,
            16,
            17,
            18,
            19,
            20,
            21,
            22,
            23,
            24,
            25
           ],
           "values": [
            1,
            2,
            3,
            4,
            5,
            6,
            7,
            8,
            9,
            10,
            11,
            12,
            13,
            14,
            15,
            16,
            17,
            18,
            19,
            20,
            21,
            22,
            23,
            24,
            25
           ]
          }
         ],
         "line": {
          "color": [
           1,
           2,
           3,
           4,
           5,
           6,
           7,
           8,
           9,
           10,
           11,
           12,
           13,
           14,
           15,
           16,
           17,
           18,
           19,
           20,
           21,
           22,
           23,
           24,
           25
          ],
          "colorscale": [
           [
            0,
            "rgba(200,0,0,0.1)"
           ],
           [
            0.5,
            "rgba(0,200,0,0.1)"
           ],
           [
            1,
            "rgba(0,0,200,0.1)"
           ]
          ]
         },
         "type": "parcoords"
        }
       ],
       "layout": {
        "template": {
         "data": {
          "bar": [
           {
            "error_x": {
             "color": "#2a3f5f"
            },
            "error_y": {
             "color": "#2a3f5f"
            },
            "marker": {
             "line": {
              "color": "#E5ECF6",
              "width": 0.5
             },
             "pattern": {
              "fillmode": "overlay",
              "size": 10,
              "solidity": 0.2
             }
            },
            "type": "bar"
           }
          ],
          "barpolar": [
           {
            "marker": {
             "line": {
              "color": "#E5ECF6",
              "width": 0.5
             },
             "pattern": {
              "fillmode": "overlay",
              "size": 10,
              "solidity": 0.2
             }
            },
            "type": "barpolar"
           }
          ],
          "carpet": [
           {
            "aaxis": {
             "endlinecolor": "#2a3f5f",
             "gridcolor": "white",
             "linecolor": "white",
             "minorgridcolor": "white",
             "startlinecolor": "#2a3f5f"
            },
            "baxis": {
             "endlinecolor": "#2a3f5f",
             "gridcolor": "white",
             "linecolor": "white",
             "minorgridcolor": "white",
             "startlinecolor": "#2a3f5f"
            },
            "type": "carpet"
           }
          ],
          "choropleth": [
           {
            "colorbar": {
             "outlinewidth": 0,
             "ticks": ""
            },
            "type": "choropleth"
           }
          ],
          "contour": [
           {
            "colorbar": {
             "outlinewidth": 0,
             "ticks": ""
            },
            "colorscale": [
             [
              0,
              "#0d0887"
             ],
             [
              0.1111111111111111,
              "#46039f"
             ],
             [
              0.2222222222222222,
              "#7201a8"
             ],
             [
              0.3333333333333333,
              "#9c179e"
             ],
             [
              0.4444444444444444,
              "#bd3786"
             ],
             [
              0.5555555555555556,
              "#d8576b"
             ],
             [
              0.6666666666666666,
              "#ed7953"
             ],
             [
              0.7777777777777778,
              "#fb9f3a"
             ],
             [
              0.8888888888888888,
              "#fdca26"
             ],
             [
              1,
              "#f0f921"
             ]
            ],
            "type": "contour"
           }
          ],
          "contourcarpet": [
           {
            "colorbar": {
             "outlinewidth": 0,
             "ticks": ""
            },
            "type": "contourcarpet"
           }
          ],
          "heatmap": [
           {
            "colorbar": {
             "outlinewidth": 0,
             "ticks": ""
            },
            "colorscale": [
             [
              0,
              "#0d0887"
             ],
             [
              0.1111111111111111,
              "#46039f"
             ],
             [
              0.2222222222222222,
              "#7201a8"
             ],
             [
              0.3333333333333333,
              "#9c179e"
             ],
             [
              0.4444444444444444,
              "#bd3786"
             ],
             [
              0.5555555555555556,
              "#d8576b"
             ],
             [
              0.6666666666666666,
              "#ed7953"
             ],
             [
              0.7777777777777778,
              "#fb9f3a"
             ],
             [
              0.8888888888888888,
              "#fdca26"
             ],
             [
              1,
              "#f0f921"
             ]
            ],
            "type": "heatmap"
           }
          ],
          "heatmapgl": [
           {
            "colorbar": {
             "outlinewidth": 0,
             "ticks": ""
            },
            "colorscale": [
             [
              0,
              "#0d0887"
             ],
             [
              0.1111111111111111,
              "#46039f"
             ],
             [
              0.2222222222222222,
              "#7201a8"
             ],
             [
              0.3333333333333333,
              "#9c179e"
             ],
             [
              0.4444444444444444,
              "#bd3786"
             ],
             [
              0.5555555555555556,
              "#d8576b"
             ],
             [
              0.6666666666666666,
              "#ed7953"
             ],
             [
              0.7777777777777778,
              "#fb9f3a"
             ],
             [
              0.8888888888888888,
              "#fdca26"
             ],
             [
              1,
              "#f0f921"
             ]
            ],
            "type": "heatmapgl"
           }
          ],
          "histogram": [
           {
            "marker": {
             "pattern": {
              "fillmode": "overlay",
              "size": 10,
              "solidity": 0.2
             }
            },
            "type": "histogram"
           }
          ],
          "histogram2d": [
           {
            "colorbar": {
             "outlinewidth": 0,
             "ticks": ""
            },
            "colorscale": [
             [
              0,
              "#0d0887"
             ],
             [
              0.1111111111111111,
              "#46039f"
             ],
             [
              0.2222222222222222,
              "#7201a8"
             ],
             [
              0.3333333333333333,
              "#9c179e"
             ],
             [
              0.4444444444444444,
              "#bd3786"
             ],
             [
              0.5555555555555556,
              "#d8576b"
             ],
             [
              0.6666666666666666,
              "#ed7953"
             ],
             [
              0.7777777777777778,
              "#fb9f3a"
             ],
             [
              0.8888888888888888,
              "#fdca26"
             ],
             [
              1,
              "#f0f921"
             ]
            ],
            "type": "histogram2d"
           }
          ],
          "histogram2dcontour": [
           {
            "colorbar": {
             "outlinewidth": 0,
             "ticks": ""
            },
            "colorscale": [
             [
              0,
              "#0d0887"
             ],
             [
              0.1111111111111111,
              "#46039f"
             ],
             [
              0.2222222222222222,
              "#7201a8"
             ],
             [
              0.3333333333333333,
              "#9c179e"
             ],
             [
              0.4444444444444444,
              "#bd3786"
             ],
             [
              0.5555555555555556,
              "#d8576b"
             ],
             [
              0.6666666666666666,
              "#ed7953"
             ],
             [
              0.7777777777777778,
              "#fb9f3a"
             ],
             [
              0.8888888888888888,
              "#fdca26"
             ],
             [
              1,
              "#f0f921"
             ]
            ],
            "type": "histogram2dcontour"
           }
          ],
          "mesh3d": [
           {
            "colorbar": {
             "outlinewidth": 0,
             "ticks": ""
            },
            "type": "mesh3d"
           }
          ],
          "parcoords": [
           {
            "line": {
             "colorbar": {
              "outlinewidth": 0,
              "ticks": ""
             }
            },
            "type": "parcoords"
           }
          ],
          "pie": [
           {
            "automargin": true,
            "type": "pie"
           }
          ],
          "scatter": [
           {
            "marker": {
             "colorbar": {
              "outlinewidth": 0,
              "ticks": ""
             }
            },
            "type": "scatter"
           }
          ],
          "scatter3d": [
           {
            "line": {
             "colorbar": {
              "outlinewidth": 0,
              "ticks": ""
             }
            },
            "marker": {
             "colorbar": {
              "outlinewidth": 0,
              "ticks": ""
             }
            },
            "type": "scatter3d"
           }
          ],
          "scattercarpet": [
           {
            "marker": {
             "colorbar": {
              "outlinewidth": 0,
              "ticks": ""
             }
            },
            "type": "scattercarpet"
           }
          ],
          "scattergeo": [
           {
            "marker": {
             "colorbar": {
              "outlinewidth": 0,
              "ticks": ""
             }
            },
            "type": "scattergeo"
           }
          ],
          "scattergl": [
           {
            "marker": {
             "colorbar": {
              "outlinewidth": 0,
              "ticks": ""
             }
            },
            "type": "scattergl"
           }
          ],
          "scattermapbox": [
           {
            "marker": {
             "colorbar": {
              "outlinewidth": 0,
              "ticks": ""
             }
            },
            "type": "scattermapbox"
           }
          ],
          "scatterpolar": [
           {
            "marker": {
             "colorbar": {
              "outlinewidth": 0,
              "ticks": ""
             }
            },
            "type": "scatterpolar"
           }
          ],
          "scatterpolargl": [
           {
            "marker": {
             "colorbar": {
              "outlinewidth": 0,
              "ticks": ""
             }
            },
            "type": "scatterpolargl"
           }
          ],
          "scatterternary": [
           {
            "marker": {
             "colorbar": {
              "outlinewidth": 0,
              "ticks": ""
             }
            },
            "type": "scatterternary"
           }
          ],
          "surface": [
           {
            "colorbar": {
             "outlinewidth": 0,
             "ticks": ""
            },
            "colorscale": [
             [
              0,
              "#0d0887"
             ],
             [
              0.1111111111111111,
              "#46039f"
             ],
             [
              0.2222222222222222,
              "#7201a8"
             ],
             [
              0.3333333333333333,
              "#9c179e"
             ],
             [
              0.4444444444444444,
              "#bd3786"
             ],
             [
              0.5555555555555556,
              "#d8576b"
             ],
             [
              0.6666666666666666,
              "#ed7953"
             ],
             [
              0.7777777777777778,
              "#fb9f3a"
             ],
             [
              0.8888888888888888,
              "#fdca26"
             ],
             [
              1,
              "#f0f921"
             ]
            ],
            "type": "surface"
           }
          ],
          "table": [
           {
            "cells": {
             "fill": {
              "color": "#EBF0F8"
             },
             "line": {
              "color": "white"
             }
            },
            "header": {
             "fill": {
              "color": "#C8D4E3"
             },
             "line": {
              "color": "white"
             }
            },
            "type": "table"
           }
          ]
         },
         "layout": {
          "annotationdefaults": {
           "arrowcolor": "#2a3f5f",
           "arrowhead": 0,
           "arrowwidth": 1
          },
          "autotypenumbers": "strict",
          "coloraxis": {
           "colorbar": {
            "outlinewidth": 0,
            "ticks": ""
           }
          },
          "colorscale": {
           "diverging": [
            [
             0,
             "#8e0152"
            ],
            [
             0.1,
             "#c51b7d"
            ],
            [
             0.2,
             "#de77ae"
            ],
            [
             0.3,
             "#f1b6da"
            ],
            [
             0.4,
             "#fde0ef"
            ],
            [
             0.5,
             "#f7f7f7"
            ],
            [
             0.6,
             "#e6f5d0"
            ],
            [
             0.7,
             "#b8e186"
            ],
            [
             0.8,
             "#7fbc41"
            ],
            [
             0.9,
             "#4d9221"
            ],
            [
             1,
             "#276419"
            ]
           ],
           "sequential": [
            [
             0,
             "#0d0887"
            ],
            [
             0.1111111111111111,
             "#46039f"
            ],
            [
             0.2222222222222222,
             "#7201a8"
            ],
            [
             0.3333333333333333,
             "#9c179e"
            ],
            [
             0.4444444444444444,
             "#bd3786"
            ],
            [
             0.5555555555555556,
             "#d8576b"
            ],
            [
             0.6666666666666666,
             "#ed7953"
            ],
            [
             0.7777777777777778,
             "#fb9f3a"
            ],
            [
             0.8888888888888888,
             "#fdca26"
            ],
            [
             1,
             "#f0f921"
            ]
           ],
           "sequentialminus": [
            [
             0,
             "#0d0887"
            ],
            [
             0.1111111111111111,
             "#46039f"
            ],
            [
             0.2222222222222222,
             "#7201a8"
            ],
            [
             0.3333333333333333,
             "#9c179e"
            ],
            [
             0.4444444444444444,
             "#bd3786"
            ],
            [
             0.5555555555555556,
             "#d8576b"
            ],
            [
             0.6666666666666666,
             "#ed7953"
            ],
            [
             0.7777777777777778,
             "#fb9f3a"
            ],
            [
             0.8888888888888888,
             "#fdca26"
            ],
            [
             1,
             "#f0f921"
            ]
           ]
          },
          "colorway": [
           "#636efa",
           "#EF553B",
           "#00cc96",
           "#ab63fa",
           "#FFA15A",
           "#19d3f3",
           "#FF6692",
           "#B6E880",
           "#FF97FF",
           "#FECB52"
          ],
          "font": {
           "color": "#2a3f5f"
          },
          "geo": {
           "bgcolor": "white",
           "lakecolor": "white",
           "landcolor": "#E5ECF6",
           "showlakes": true,
           "showland": true,
           "subunitcolor": "white"
          },
          "hoverlabel": {
           "align": "left"
          },
          "hovermode": "closest",
          "mapbox": {
           "style": "light"
          },
          "paper_bgcolor": "white",
          "plot_bgcolor": "#E5ECF6",
          "polar": {
           "angularaxis": {
            "gridcolor": "white",
            "linecolor": "white",
            "ticks": ""
           },
           "bgcolor": "#E5ECF6",
           "radialaxis": {
            "gridcolor": "white",
            "linecolor": "white",
            "ticks": ""
           }
          },
          "scene": {
           "xaxis": {
            "backgroundcolor": "#E5ECF6",
            "gridcolor": "white",
            "gridwidth": 2,
            "linecolor": "white",
            "showbackground": true,
            "ticks": "",
            "zerolinecolor": "white"
           },
           "yaxis": {
            "backgroundcolor": "#E5ECF6",
            "gridcolor": "white",
            "gridwidth": 2,
            "linecolor": "white",
            "showbackground": true,
            "ticks": "",
            "zerolinecolor": "white"
           },
           "zaxis": {
            "backgroundcolor": "#E5ECF6",
            "gridcolor": "white",
            "gridwidth": 2,
            "linecolor": "white",
            "showbackground": true,
            "ticks": "",
            "zerolinecolor": "white"
           }
          },
          "shapedefaults": {
           "line": {
            "color": "#2a3f5f"
           }
          },
          "ternary": {
           "aaxis": {
            "gridcolor": "white",
            "linecolor": "white",
            "ticks": ""
           },
           "baxis": {
            "gridcolor": "white",
            "linecolor": "white",
            "ticks": ""
           },
           "bgcolor": "#E5ECF6",
           "caxis": {
            "gridcolor": "white",
            "linecolor": "white",
            "ticks": ""
           }
          },
          "title": {
           "x": 0.05
          },
          "xaxis": {
           "automargin": true,
           "gridcolor": "white",
           "linecolor": "white",
           "ticks": "",
           "title": {
            "standoff": 15
           },
           "zerolinecolor": "white",
           "zerolinewidth": 2
          },
          "yaxis": {
           "automargin": true,
           "gridcolor": "white",
           "linecolor": "white",
           "ticks": "",
           "title": {
            "standoff": 15
           },
           "zerolinecolor": "white",
           "zerolinewidth": 2
          }
         }
        },
        "title": {
         "text": "Triathalon Results"
        }
       }
      }
     },
     "metadata": {},
     "output_type": "display_data"
    }
   ],
   "source": [
    "#fig = go.Figure(data=\n",
    " #   go.Parcoords(\n",
    "  #      line = dict(color = reduced2['Gender Place'], colorscale = [[0.5,'lime'], [0.5, 'tomato'], [0.5, 'dodgerblue']]),\n",
    "dimensions = list([\n",
    "            dict(range = [11,18.5],\n",
    "                label = 'Time After Swim', values = reduced2['Swim Minutes']),\n",
    "            dict(range = [17,23.5],\n",
    "                label = 'Time After First Transition', values = reduced2['Swim+T1']),\n",
    "            dict(range = [54,67.5],\n",
    "                label = 'Time After Bike', values = reduced2['Plus Bike']),\n",
    "            dict(range = [55.5,69],\n",
    "                label = 'Time After Second Transition', values = reduced2['Plus T2']),\n",
    "            dict(range = [79,93.5],\n",
    "                label = 'Total Time', values = reduced2['Total']),\n",
    "            dict(range=[0,reduced2['Gender Place'].max()], tickvals = reduced2['Gender Place'], ticktext = reduced2['Name'],\n",
    "                       label='Competitor', values=reduced2['Gender Place'])\n",
    "        ])\n",
    " #   )\n",
    "#)\n",
    "\n",
    "#Parcords.line.colorscale = make_plotly(cl.scales['3']['qual']['Set2'], repeat=True)\n",
    "\n",
    "fig = go.Figure(data=go.Parcoords(line = dict(color = reduced2['Gender Place'],\n",
    "                   colorscale = [[0,'rgba(200,0,0,0.1)'],[0.5,'rgba(0,200,0,0.1)'],[1,'rgba(0,0,200,0.1)']]), dimensions=dimensions))\n",
    "\n",
    "fig.update_layout(\n",
    "    title=\"Triathalon Results\"\n",
    ")\n",
    "\n",
    "fig.show()"
   ]
  },
  {
   "cell_type": "markdown",
   "id": "7c9f0eb2",
   "metadata": {},
   "source": [
    "https://stackoverflow.com/questions/64139316/plotly-how-to-insert-a-categorical-variable-into-a-parallel-coordinates-plot"
   ]
  }
 ],
 "metadata": {
  "kernelspec": {
   "display_name": "Python 3",
   "language": "python",
   "name": "python3"
  },
  "language_info": {
   "codemirror_mode": {
    "name": "ipython",
    "version": 3
   },
   "file_extension": ".py",
   "mimetype": "text/x-python",
   "name": "python",
   "nbconvert_exporter": "python",
   "pygments_lexer": "ipython3",
   "version": "3.8.8"
  }
 },
 "nbformat": 4,
 "nbformat_minor": 5
}
