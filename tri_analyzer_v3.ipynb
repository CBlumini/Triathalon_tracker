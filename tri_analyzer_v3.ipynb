{
 "cells": [
  {
   "cell_type": "markdown",
   "id": "bdf15cbf-ab0b-40e5-8275-10e39a418134",
   "metadata": {},
   "source": [
    "## Core Functions\n",
    "- Report the range of times for each event for the given data set (done)\n",
    "- Report the median time for each for the selected data set (done)\n",
    "- Report fastest for each event along with that person and the rest of their time (EX \"Christina Hepper has the fastest Swim at _____ and had the following other times...., Jamie Fend had the fastest T1 at _____ and had teh following other times....\" (done, but need to improve formatting of result)\n",
    "- Create functions\n",
    "-- function to convert to integer minutes (done)\n",
    "-- function for performance standardizing (done)\n",
    "- Compute the fastest theoretical time (done)\n",
    "- Compute the median theoretical time\n",
    "- Report how selected Bib Number did relative to lead (EX \"989 was 0.9x at swimming, 1.1x at T1....\")\n",
    "- Create a line plot with each event on the X, the Standardized Time on the Y (standardize to fastest?) and each line being an athlete, highlight the user and the median line\n",
    "- Need to cumsum the colums\n",
    "\n",
    "## Future\n",
    "- Use mongo db to store data\n",
    "- Automatically scrape the results\n",
    "- Compute a \"competitiveness\" score for each race (like FSAE world: https://fs-world.org/)\n",
    "- Calculate the percentile for eahc event for the user"
   ]
  },
  {
   "cell_type": "code",
   "execution_count": null,
   "id": "fa5d5a9c-37f8-4cc1-b3ee-0e09fac52558",
   "metadata": {},
   "outputs": [],
   "source": [
    "import pandas as pd\n",
    "import plotly.express as px\n",
    "import plotly.graph_objects as go\n",
    "# from bokeh.plotting import figure, show\n",
    "# from sqlalchemy import create_engine\n",
    "# pd.set_option(\"precision\", 2)"
   ]
  },
  {
   "cell_type": "code",
   "execution_count": null,
   "id": "3385b8ae-c16c-4269-a84d-877808016dfd",
   "metadata": {},
   "outputs": [],
   "source": [
    "data = pd.read_excel('santa_cruz_data.xlsx', header = 0, index_col=None)\n",
    "data.head()\n",
    "\n",
    "#testdf = pd.read_html(\"https://results.svetiming.com/Santa-Cruz-Triathlon/events/2021/Santa-Cruz-Triathlon/results\", attrs={'class': 'table table-condensed table-bordered table-striped table-hover'})"
   ]
  },
  {
   "cell_type": "markdown",
   "id": "bbe00456-8eb1-48a0-b86a-4ceacfb8c7c9",
   "metadata": {},
   "source": [
    "We need to convert the DataTime objects contatined in the data frame to integer minutes to do all of our nice math. Use the function and create new columsn to hold the data.\n",
    "\n",
    "Create a second set of parameters for cumulative times to use later"
   ]
  },
  {
   "cell_type": "code",
   "execution_count": null,
   "id": "3e2c3955",
   "metadata": {},
   "outputs": [],
   "source": [
    "actdf = testdf[0]\n",
    "type(actdf)\n",
    "\n",
    "actdf"
   ]
  },
  {
   "cell_type": "code",
   "execution_count": null,
   "id": "7ef338f4-31e9-4553-b46d-ab88648e0a26",
   "metadata": {},
   "outputs": [],
   "source": [
    "#create a function to convert the time to integer seconds\n",
    "#To create a new column, use the [] brackets with the new column name at the left side of the assignment.\n",
    "\n",
    "def convertTime (time):\n",
    "    timeMinutes = (time.hour*60)+(time.minute)+(time.second/60)\n",
    "    return timeMinutes\n",
    "\n",
    "#convert to integers\n",
    "data[\"Swim Minutes\"] = data[\"Swim\"].apply(convertTime)\n",
    "data[\"T1 Minutes\"] = data[\"T1\"].apply(convertTime)\n",
    "data[\"Bike Minutes\"] = data[\"Bike\"].apply(convertTime)\n",
    "data[\"T2 Minutes\"] = data[\"T2\"].apply(convertTime)\n",
    "data[\"Run Minutes\"] = data[\"Run\"].apply(convertTime)\n",
    "#data[\"Elapsed Minutes\"] = data[\"Chip Elapsed\"].apply(convertTime)\n",
    "\n",
    "#create cumulative times\n",
    "data[\"Swim+T1\"]=data[\"Swim Minutes\"]+data[\"T1 Minutes\"]\n",
    "data[\"Plus Bike\"]=data[\"Swim+T1\"]+data[\"Bike Minutes\"]\n",
    "data[\"Plus T2\"]=data[\"Plus Bike\"]+data[\"T2 Minutes\"]\n",
    "data[\"Total\"]=data[\"Plus T2\"]+data[\"Run Minutes\"]"
   ]
  },
  {
   "cell_type": "markdown",
   "id": "ff654fe1-6ce6-48d2-ab38-6216d0683a0a",
   "metadata": {},
   "source": [
    "Get statistical data about the event."
   ]
  },
  {
   "cell_type": "code",
   "execution_count": null,
   "id": "844c2b61-6482-41b1-823b-9bbe3e563765",
   "metadata": {},
   "outputs": [],
   "source": [
    "summary = data.describe()\n",
    "data[[\"Swim Minutes\", \"T1 Minutes\", \"Bike Minutes\", \"T2 Minutes\", \"Run Minutes\"]].describe()"
   ]
  },
  {
   "cell_type": "code",
   "execution_count": null,
   "id": "02cfa0e1-351f-4199-a55d-0563cfb2942c",
   "metadata": {},
   "outputs": [],
   "source": [
    "#assign user variable\n",
    "user = \"SAMANTHA DEWEES\"\n",
    "index = data.index[data['Name']==user].tolist()\n",
    "data.loc[index, [\"Name\", \"Age\", \"Gender Place\", \"Swim\", \"T1\", \"Bike\", \"T2\", \"Run\"]]"
   ]
  },
  {
   "cell_type": "code",
   "execution_count": null,
   "id": "b64ea014-75d7-452f-97e5-1626737b536c",
   "metadata": {},
   "outputs": [],
   "source": [
    "def getMinTime (stage):\n",
    "    minTime = data[stage].min()\n",
    "    minIndex = data[stage].idxmin()\n",
    "    #print(\"minTime is\", minTime)\n",
    "    #print(\"minIndex is\", minIndex)\n",
    "    return minTime, minIndex\n",
    "    \n",
    "def printResults (minIndex):\n",
    "    #need to make this so it doesnt print reduntant colums or prints something nicely formatted\n",
    "    print(data.iloc[minIndex,:])"
   ]
  },
  {
   "cell_type": "code",
   "execution_count": null,
   "id": "fd1da28c-9aa4-496d-9e86-41105e03d3b3",
   "metadata": {},
   "outputs": [],
   "source": [
    "events = ['Swim Minutes', 'T1 Minutes', 'Bike Minutes', 'T2 Minutes', 'Run Minutes']\n",
    "\n",
    "shortestTime = 0\n",
    "for stage in events:\n",
    "    minTime, minIndex = getMinTime(stage)\n",
    "    print(\"the fastest for \", stage)\n",
    "    printResults(minIndex)\n",
    "    shortestTime = shortestTime + minTime\n",
    "\n",
    "print(\"the shortest possible time is: \", shortestTime)\n",
    "#need to work on formatting"
   ]
  },
  {
   "cell_type": "code",
   "execution_count": null,
   "id": "765e7ddf",
   "metadata": {},
   "outputs": [],
   "source": [
    "reduced2 = data[[\"Name\",\"Swim Minutes\",\"Swim+T1\",\"Plus Bike\",\"Plus T2\",\"Total\",\"Gender Place\"]]\n",
    "reduced2[\"Start\"] = 0\n",
    "reduced2 = reduced2.drop(25)\n",
    "reduced2\n",
    "\n",
    "# color_nums = reduced2['Gender Place'].tolist()\n",
    "# color_names = reduced2['Name'].tolist()\n",
    "# colors_zip = zip(color_nums, color_names)\n",
    "\n",
    "# colors_zip"
   ]
  },
  {
   "cell_type": "code",
   "execution_count": null,
   "id": "019ef3e3-9ef0-4013-8a3e-848ced0e9b45",
   "metadata": {},
   "outputs": [],
   "source": [
    "dimensions = list([\n",
    "            dict(range = [0, 1],\n",
    "                label = 'Start', values = reduced2['Start']),            \n",
    "            dict(range = [reduced2[\"Swim Minutes\"].min(), reduced2[\"Swim Minutes\"].max()],\n",
    "                label = 'Time After Swim', values = reduced2['Swim Minutes']),\n",
    "            dict(range = [reduced2[\"Swim+T1\"].min(), reduced2[\"Swim+T1\"].max()],\n",
    "                label = 'Time After First Transition', values = reduced2['Swim+T1']),\n",
    "            dict(range = [reduced2[\"Plus Bike\"].min(), reduced2[\"Plus Bike\"].max()],\n",
    "                label = 'Time After Bike', values = reduced2['Plus Bike']),\n",
    "            dict(range = [reduced2[\"Plus T2\"].min(), reduced2[\"Plus T2\"].max()],\n",
    "                label = 'Time After Second Transition', values = reduced2['Plus T2']),\n",
    "            dict(range = [reduced2[\"Total\"].min(), reduced2[\"Total\"].max()],\n",
    "                label = 'Total Time', values = reduced2['Total']),\n",
    "            dict(range=[0,reduced2['Gender Place'].max()], tickvals = reduced2['Gender Place'], ticktext = reduced2['Name'],\n",
    "                       label='Competitor', values=reduced2['Gender Place'])\n",
    "        ])\n",
    "\n",
    "fig = go.Figure(data=go.Parcoords(line = dict(color = reduced2['Gender Place'],\n",
    "                   colorscale = [[.0,'rgba(255,0,0,0.1)'],[0.2,'rgba(0,255,0,0.1)'],[.4,'rgba(0,0,255,0.1)'], \n",
    "                                 [.6,'rgba(0,255,255,0.1)'], [.8, 'rgba(255,0,255,0.1)'], [1, 'rgba(0,0,0,0.1)']]), dimensions=dimensions))\n",
    "\n",
    "fig.update_layout(\n",
    "    title=\"Triathalon Results\",\n",
    "    width=1920,\n",
    "    height=1080\n",
    ")\n",
    "\n",
    "fig.show()"
   ]
  },
  {
   "cell_type": "code",
   "execution_count": null,
   "id": "7c9f0eb2",
   "metadata": {},
   "outputs": [],
   "source": [
    "https://stackoverflow.com/questions/64139316/plotly-how-to-insert-a-categorical-variable-into-a-parallel-coordinates-plot\n",
    "\n",
    "                   colorscale = [[.0,'rgba(218,79,79,0.1)'],[0.25,'rgba(148,218,79,0.1)'],[.5,'rgba(79,218,218,0.1)'], \n",
    "                                 [.75,'rgba(148,79,218,0.1)'], [1, 'rgba(0,0,0,0.1)']]), dimensions=dimensions))"
   ]
  },
  {
   "cell_type": "code",
   "execution_count": null,
   "id": "237f4e5b",
   "metadata": {},
   "outputs": [],
   "source": [
    "engine = create_engine('sqlite:///data.db', echo=False)"
   ]
  },
  {
   "cell_type": "code",
   "execution_count": null,
   "id": "de1f61ec",
   "metadata": {},
   "outputs": [],
   "source": [
    "sql_df = pd.read_sql('data.db', con=engine, index_col='ID')"
   ]
  },
  {
   "cell_type": "code",
   "execution_count": null,
   "id": "2f163996",
   "metadata": {},
   "outputs": [],
   "source": [
    "sql_df.head()"
   ]
  },
  {
   "cell_type": "code",
   "execution_count": null,
   "id": "2b27a371",
   "metadata": {},
   "outputs": [],
   "source": [
    "scatter = px.scatter(x=data['Age'], y=data['Gender Place'])\n",
    "scatter.show()\n"
   ]
  },
  {
   "cell_type": "code",
   "execution_count": null,
   "id": "b04aa6b4",
   "metadata": {},
   "outputs": [],
   "source": []
  }
 ],
 "metadata": {
  "kernelspec": {
   "display_name": "Python 3",
   "language": "python",
   "name": "python3"
  },
  "language_info": {
   "codemirror_mode": {
    "name": "ipython",
    "version": 3
   },
   "file_extension": ".py",
   "mimetype": "text/x-python",
   "name": "python",
   "nbconvert_exporter": "python",
   "pygments_lexer": "ipython3",
   "version": "3.8.9"
  }
 },
 "nbformat": 4,
 "nbformat_minor": 5
}
