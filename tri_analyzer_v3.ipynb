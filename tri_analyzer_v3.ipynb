{
 "cells": [
  {
   "cell_type": "markdown",
   "id": "bdf15cbf-ab0b-40e5-8275-10e39a418134",
   "metadata": {},
   "source": [
    "## Core Functions\n",
    "- Report the range of times for each event for the given data set (done)\n",
    "- Report the median time for each for the selected data set (done)\n",
    "- Report fastest for each event along with that person and the rest of their time (EX \"Christina Hepper has the fastest Swim at _____ and had the following other times...., Jamie Fend had the fastest T1 at _____ and had teh following other times....\" (done, but need to improve formatting of result)\n",
    "- Create functions\n",
    "-- function to convert to integer minutes (done)\n",
    "-- function for performance standardizing (done)\n",
    "- Compute the fastest theoretical time (done)\n",
    "- Compute the median theoretical time\n",
    "- Report how selected Bib Number did relative to lead (EX \"989 was 0.9x at swimming, 1.1x at T1....\")\n",
    "- Create a line plot with each event on the X, the Standardized Time on the Y (standardize to fastest?) and each line being an athlete, highlight the user and the median line\n",
    "- Need to cumsum the colums\n",
    "\n",
    "## Future\n",
    "- Use mongo db to store data\n",
    "- Automatically scrape the results\n",
    "- Compute a \"competitiveness\" score for each race (like FSAE world: https://fs-world.org/)\n",
    "- Calculate the percentile for eahc event for the user"
   ]
  },
  {
   "cell_type": "code",
   "execution_count": 2,
   "id": "fa5d5a9c-37f8-4cc1-b3ee-0e09fac52558",
   "metadata": {},
   "outputs": [],
   "source": [
    "import pandas as pd\n",
    "import plotly.express as px\n",
    "import plotly.graph_objects as goS\n",
    "from sqlalchemy import create_engine\n",
    "pd.set_option(\"precision\", 2)\n",
    "import time"
   ]
  },
  {
   "cell_type": "code",
   "execution_count": 4,
   "id": "3385b8ae-c16c-4269-a84d-877808016dfd",
   "metadata": {},
   "outputs": [
    {
     "data": {
      "text/html": [
       "<div>\n",
       "<style scoped>\n",
       "    .dataframe tbody tr th:only-of-type {\n",
       "        vertical-align: middle;\n",
       "    }\n",
       "\n",
       "    .dataframe tbody tr th {\n",
       "        vertical-align: top;\n",
       "    }\n",
       "\n",
       "    .dataframe thead th {\n",
       "        text-align: right;\n",
       "    }\n",
       "</style>\n",
       "<table border=\"1\" class=\"dataframe\">\n",
       "  <thead>\n",
       "    <tr style=\"text-align: right;\">\n",
       "      <th></th>\n",
       "      <th>Unnamed: 0</th>\n",
       "      <th>Bib</th>\n",
       "      <th>Name</th>\n",
       "      <th>Team Name</th>\n",
       "      <th>City</th>\n",
       "      <th>Start Time</th>\n",
       "      <th>Swim</th>\n",
       "      <th>T1</th>\n",
       "      <th>Bike</th>\n",
       "      <th>T2</th>\n",
       "      <th>Run</th>\n",
       "      <th>Chip Elapsed</th>\n",
       "      <th>Division</th>\n",
       "      <th>Div Place</th>\n",
       "      <th>Age</th>\n",
       "      <th>Age Place</th>\n",
       "      <th>Gender</th>\n",
       "      <th>Gender Place</th>\n",
       "    </tr>\n",
       "  </thead>\n",
       "  <tbody>\n",
       "    <tr>\n",
       "      <th>0</th>\n",
       "      <td>0</td>\n",
       "      <td>1051</td>\n",
       "      <td>MANUEL HUECKEL</td>\n",
       "      <td>TEAM WY55</td>\n",
       "      <td>SAN FRANCISCO</td>\n",
       "      <td>09:35:00</td>\n",
       "      <td>00:10:11</td>\n",
       "      <td>00:03:08</td>\n",
       "      <td>00:31:19</td>\n",
       "      <td>00:00:44</td>\n",
       "      <td>00:19:10</td>\n",
       "      <td>01:04:34</td>\n",
       "      <td>SPRINT-AGE GROUP</td>\n",
       "      <td>1</td>\n",
       "      <td>23</td>\n",
       "      <td>O/A</td>\n",
       "      <td>M</td>\n",
       "      <td>1</td>\n",
       "    </tr>\n",
       "    <tr>\n",
       "      <th>1</th>\n",
       "      <td>1</td>\n",
       "      <td>978</td>\n",
       "      <td>TYLER CURRAN</td>\n",
       "      <td>NaN</td>\n",
       "      <td>WHITE PLAINS</td>\n",
       "      <td>09:35:00</td>\n",
       "      <td>00:09:28</td>\n",
       "      <td>00:02:59</td>\n",
       "      <td>00:31:42</td>\n",
       "      <td>00:00:52</td>\n",
       "      <td>00:20:14</td>\n",
       "      <td>01:05:16</td>\n",
       "      <td>SPRINT-AGE GROUP</td>\n",
       "      <td>2</td>\n",
       "      <td>24</td>\n",
       "      <td>O/A</td>\n",
       "      <td>M</td>\n",
       "      <td>2</td>\n",
       "    </tr>\n",
       "    <tr>\n",
       "      <th>2</th>\n",
       "      <td>2</td>\n",
       "      <td>924</td>\n",
       "      <td>BRIAN BERGER</td>\n",
       "      <td>GOLD COUNTRY TRIATHLON CLUB</td>\n",
       "      <td>LINCOLN</td>\n",
       "      <td>09:35:00</td>\n",
       "      <td>00:09:33</td>\n",
       "      <td>00:03:53</td>\n",
       "      <td>00:33:12</td>\n",
       "      <td>00:01:25</td>\n",
       "      <td>00:22:02</td>\n",
       "      <td>01:10:08</td>\n",
       "      <td>SPRINT-AGE GROUP</td>\n",
       "      <td>3</td>\n",
       "      <td>25</td>\n",
       "      <td>O/A</td>\n",
       "      <td>M</td>\n",
       "      <td>3</td>\n",
       "    </tr>\n",
       "    <tr>\n",
       "      <th>3</th>\n",
       "      <td>3</td>\n",
       "      <td>1187</td>\n",
       "      <td>CLAY ROBBINS</td>\n",
       "      <td>NaN</td>\n",
       "      <td>REDWOOD CITY</td>\n",
       "      <td>09:35:00</td>\n",
       "      <td>00:11:30</td>\n",
       "      <td>00:03:42</td>\n",
       "      <td>00:34:03</td>\n",
       "      <td>00:01:37</td>\n",
       "      <td>00:19:26</td>\n",
       "      <td>01:10:19</td>\n",
       "      <td>SPRINT-AGE GROUP</td>\n",
       "      <td>4</td>\n",
       "      <td>30</td>\n",
       "      <td>1</td>\n",
       "      <td>M</td>\n",
       "      <td>4</td>\n",
       "    </tr>\n",
       "    <tr>\n",
       "      <th>4</th>\n",
       "      <td>4</td>\n",
       "      <td>943</td>\n",
       "      <td>ANDREW BUNNER</td>\n",
       "      <td>NaN</td>\n",
       "      <td>BELMONT</td>\n",
       "      <td>09:40:00</td>\n",
       "      <td>00:11:46</td>\n",
       "      <td>00:03:49</td>\n",
       "      <td>00:33:34</td>\n",
       "      <td>00:01:06</td>\n",
       "      <td>00:20:54</td>\n",
       "      <td>01:11:12</td>\n",
       "      <td>SPRINT-AGE GROUP</td>\n",
       "      <td>5</td>\n",
       "      <td>44</td>\n",
       "      <td>1</td>\n",
       "      <td>M</td>\n",
       "      <td>5</td>\n",
       "    </tr>\n",
       "  </tbody>\n",
       "</table>\n",
       "</div>"
      ],
      "text/plain": [
       "   Unnamed: 0   Bib            Name                    Team Name  \\\n",
       "0           0  1051  MANUEL HUECKEL                    TEAM WY55   \n",
       "1           1   978    TYLER CURRAN                          NaN   \n",
       "2           2   924    BRIAN BERGER  GOLD COUNTRY TRIATHLON CLUB   \n",
       "3           3  1187    CLAY ROBBINS                          NaN   \n",
       "4           4   943   ANDREW BUNNER                          NaN   \n",
       "\n",
       "            City Start Time      Swim        T1      Bike        T2       Run  \\\n",
       "0  SAN FRANCISCO   09:35:00  00:10:11  00:03:08  00:31:19  00:00:44  00:19:10   \n",
       "1   WHITE PLAINS   09:35:00  00:09:28  00:02:59  00:31:42  00:00:52  00:20:14   \n",
       "2        LINCOLN   09:35:00  00:09:33  00:03:53  00:33:12  00:01:25  00:22:02   \n",
       "3   REDWOOD CITY   09:35:00  00:11:30  00:03:42  00:34:03  00:01:37  00:19:26   \n",
       "4        BELMONT   09:40:00  00:11:46  00:03:49  00:33:34  00:01:06  00:20:54   \n",
       "\n",
       "  Chip Elapsed          Division  Div Place  Age Age Place Gender  \\\n",
       "0     01:04:34  SPRINT-AGE GROUP          1   23       O/A      M   \n",
       "1     01:05:16  SPRINT-AGE GROUP          2   24       O/A      M   \n",
       "2     01:10:08  SPRINT-AGE GROUP          3   25       O/A      M   \n",
       "3     01:10:19  SPRINT-AGE GROUP          4   30         1      M   \n",
       "4     01:11:12  SPRINT-AGE GROUP          5   44         1      M   \n",
       "\n",
       "   Gender Place  \n",
       "0             1  \n",
       "1             2  \n",
       "2             3  \n",
       "3             4  \n",
       "4             5  "
      ]
     },
     "execution_count": 4,
     "metadata": {},
     "output_type": "execute_result"
    }
   ],
   "source": [
    "#data = pd.read_excel('santa_cruz_data.xlsx', header = 0, index_col=None)\n",
    "data = pd.read_csv('Santa-Cruz-Sprint.csv')\n",
    "data.head()\n"
   ]
  },
  {
   "cell_type": "markdown",
   "id": "bbe00456-8eb1-48a0-b86a-4ceacfb8c7c9",
   "metadata": {},
   "source": [
    "We need to convert the DataTime objects contatined in the data frame to integer minutes to do all of our nice math. Use the function and create new columsn to hold the data.\n",
    "\n",
    "Create a second set of parameters for cumulative times to use later"
   ]
  },
  {
   "cell_type": "code",
   "execution_count": 24,
   "id": "3e2c3955",
   "metadata": {},
   "outputs": [
    {
     "name": "stdout",
     "output_type": "stream",
     "text": [
      "9.55\n"
     ]
    }
   ],
   "source": [
    "test_df = pd.to_datetime(data[\"Start Time\"])\n",
    "#print(type(data.iloc[2][\"Swim\"]))\n",
    "playtime = data.iloc[2][\"Swim\"]\n",
    "#playtime\n",
    "\n",
    "#testhing = time.strftime(playtime, )\n",
    "\n",
    "def convertTime (time):\n",
    "    temp = time.split(':')\n",
    "    timeMinutes = (int(temp[0])*60)+int(temp[1])+int(temp[2])/60\n",
    "    return timeMinutes\n",
    "\n",
    "print(convertTime(playtime))"
   ]
  },
  {
   "cell_type": "code",
   "execution_count": 25,
   "id": "7ef338f4-31e9-4553-b46d-ab88648e0a26",
   "metadata": {},
   "outputs": [],
   "source": [
    "#create a function to convert the time to integer seconds\n",
    "#To create a new column, use the [] brackets with the new column name at the left side of the assignment.\n",
    "\n",
    "def convertTime (time):\n",
    "    temp = time.split(':')\n",
    "    timeMinutes = (int(temp[0])*60)+int(temp[1])+int(temp[2])/60\n",
    "    return timeMinutes\n",
    "\n",
    "#convert to integers\n",
    "data[\"Swim Minutes\"] = data[\"Swim\"].apply(convertTime)\n",
    "data[\"T1 Minutes\"] = data[\"T1\"].apply(convertTime)\n",
    "data[\"Bike Minutes\"] = data[\"Bike\"].apply(convertTime)\n",
    "data[\"T2 Minutes\"] = data[\"T2\"].apply(convertTime)\n",
    "data[\"Run Minutes\"] = data[\"Run\"].apply(convertTime)\n",
    "#data[\"Elapsed Minutes\"] = data[\"Chip Elapsed\"].apply(convertTime)\n",
    "\n",
    "#create cumulative times\n",
    "data[\"Swim+T1\"]=data[\"Swim Minutes\"]+data[\"T1 Minutes\"]\n",
    "data[\"Plus Bike\"]=data[\"Swim+T1\"]+data[\"Bike Minutes\"]\n",
    "data[\"Plus T2\"]=data[\"Plus Bike\"]+data[\"T2 Minutes\"]\n",
    "data[\"Total\"]=data[\"Plus T2\"]+data[\"Run Minutes\"]"
   ]
  },
  {
   "cell_type": "markdown",
   "id": "ff654fe1-6ce6-48d2-ab38-6216d0683a0a",
   "metadata": {},
   "source": [
    "Get statistical data about the event."
   ]
  },
  {
   "cell_type": "code",
   "execution_count": 26,
   "id": "844c2b61-6482-41b1-823b-9bbe3e563765",
   "metadata": {},
   "outputs": [
    {
     "data": {
      "text/html": [
       "<div>\n",
       "<style scoped>\n",
       "    .dataframe tbody tr th:only-of-type {\n",
       "        vertical-align: middle;\n",
       "    }\n",
       "\n",
       "    .dataframe tbody tr th {\n",
       "        vertical-align: top;\n",
       "    }\n",
       "\n",
       "    .dataframe thead th {\n",
       "        text-align: right;\n",
       "    }\n",
       "</style>\n",
       "<table border=\"1\" class=\"dataframe\">\n",
       "  <thead>\n",
       "    <tr style=\"text-align: right;\">\n",
       "      <th></th>\n",
       "      <th>Swim Minutes</th>\n",
       "      <th>T1 Minutes</th>\n",
       "      <th>Bike Minutes</th>\n",
       "      <th>T2 Minutes</th>\n",
       "      <th>Run Minutes</th>\n",
       "    </tr>\n",
       "  </thead>\n",
       "  <tbody>\n",
       "    <tr>\n",
       "      <th>count</th>\n",
       "      <td>369.00</td>\n",
       "      <td>369.00</td>\n",
       "      <td>369.00</td>\n",
       "      <td>369.00</td>\n",
       "      <td>369.00</td>\n",
       "    </tr>\n",
       "    <tr>\n",
       "      <th>mean</th>\n",
       "      <td>14.01</td>\n",
       "      <td>6.06</td>\n",
       "      <td>35.91</td>\n",
       "      <td>1.97</td>\n",
       "      <td>25.52</td>\n",
       "    </tr>\n",
       "    <tr>\n",
       "      <th>std</th>\n",
       "      <td>7.70</td>\n",
       "      <td>3.95</td>\n",
       "      <td>18.46</td>\n",
       "      <td>2.97</td>\n",
       "      <td>16.02</td>\n",
       "    </tr>\n",
       "    <tr>\n",
       "      <th>min</th>\n",
       "      <td>0.00</td>\n",
       "      <td>0.00</td>\n",
       "      <td>0.00</td>\n",
       "      <td>0.00</td>\n",
       "      <td>0.00</td>\n",
       "    </tr>\n",
       "    <tr>\n",
       "      <th>25%</th>\n",
       "      <td>12.48</td>\n",
       "      <td>4.35</td>\n",
       "      <td>35.98</td>\n",
       "      <td>1.08</td>\n",
       "      <td>22.82</td>\n",
       "    </tr>\n",
       "    <tr>\n",
       "      <th>50%</th>\n",
       "      <td>15.18</td>\n",
       "      <td>6.22</td>\n",
       "      <td>42.03</td>\n",
       "      <td>1.68</td>\n",
       "      <td>27.28</td>\n",
       "    </tr>\n",
       "    <tr>\n",
       "      <th>75%</th>\n",
       "      <td>18.38</td>\n",
       "      <td>8.17</td>\n",
       "      <td>46.87</td>\n",
       "      <td>2.38</td>\n",
       "      <td>32.22</td>\n",
       "    </tr>\n",
       "    <tr>\n",
       "      <th>max</th>\n",
       "      <td>36.28</td>\n",
       "      <td>27.78</td>\n",
       "      <td>68.60</td>\n",
       "      <td>43.70</td>\n",
       "      <td>131.02</td>\n",
       "    </tr>\n",
       "  </tbody>\n",
       "</table>\n",
       "</div>"
      ],
      "text/plain": [
       "       Swim Minutes  T1 Minutes  Bike Minutes  T2 Minutes  Run Minutes\n",
       "count        369.00      369.00        369.00      369.00       369.00\n",
       "mean          14.01        6.06         35.91        1.97        25.52\n",
       "std            7.70        3.95         18.46        2.97        16.02\n",
       "min            0.00        0.00          0.00        0.00         0.00\n",
       "25%           12.48        4.35         35.98        1.08        22.82\n",
       "50%           15.18        6.22         42.03        1.68        27.28\n",
       "75%           18.38        8.17         46.87        2.38        32.22\n",
       "max           36.28       27.78         68.60       43.70       131.02"
      ]
     },
     "execution_count": 26,
     "metadata": {},
     "output_type": "execute_result"
    }
   ],
   "source": [
    "summary = data.describe()\n",
    "data[[\"Swim Minutes\", \"T1 Minutes\", \"Bike Minutes\", \"T2 Minutes\", \"Run Minutes\"]].describe()"
   ]
  },
  {
   "cell_type": "code",
   "execution_count": 29,
   "id": "02cfa0e1-351f-4199-a55d-0563cfb2942c",
   "metadata": {},
   "outputs": [
    {
     "data": {
      "text/html": [
       "<div>\n",
       "<style scoped>\n",
       "    .dataframe tbody tr th:only-of-type {\n",
       "        vertical-align: middle;\n",
       "    }\n",
       "\n",
       "    .dataframe tbody tr th {\n",
       "        vertical-align: top;\n",
       "    }\n",
       "\n",
       "    .dataframe thead th {\n",
       "        text-align: right;\n",
       "    }\n",
       "</style>\n",
       "<table border=\"1\" class=\"dataframe\">\n",
       "  <thead>\n",
       "    <tr style=\"text-align: right;\">\n",
       "      <th></th>\n",
       "      <th>Name</th>\n",
       "      <th>Age</th>\n",
       "      <th>Gender Place</th>\n",
       "      <th>Swim</th>\n",
       "      <th>T1</th>\n",
       "      <th>Bike</th>\n",
       "      <th>T2</th>\n",
       "      <th>Run</th>\n",
       "    </tr>\n",
       "  </thead>\n",
       "  <tbody>\n",
       "    <tr>\n",
       "      <th>12</th>\n",
       "      <td>SAMANTHA DEWEES</td>\n",
       "      <td>25.0</td>\n",
       "      <td>13.0</td>\n",
       "      <td>00:15:02</td>\n",
       "      <td>00:07:04</td>\n",
       "      <td>00:39:39</td>\n",
       "      <td>00:02:13</td>\n",
       "      <td>00:23:38</td>\n",
       "    </tr>\n",
       "  </tbody>\n",
       "</table>\n",
       "</div>"
      ],
      "text/plain": [
       "               Name   Age  Gender Place      Swim        T1      Bike  \\\n",
       "12  SAMANTHA DEWEES  25.0          13.0  00:15:02  00:07:04  00:39:39   \n",
       "\n",
       "          T2       Run  \n",
       "12  00:02:13  00:23:38  "
      ]
     },
     "execution_count": 29,
     "metadata": {},
     "output_type": "execute_result"
    }
   ],
   "source": [
    "#assign user variable\n",
    "user = \"SAMANTHA DEWEES\"\n",
    "index = data.index[data['Name']==user].tolist()\n",
    "data.loc[index, [\"Name\", \"Age\", \"Gender Place\", \"Swim\", \"T1\", \"Bike\", \"T2\", \"Run\"]]"
   ]
  },
  {
   "cell_type": "code",
   "execution_count": 30,
   "id": "b64ea014-75d7-452f-97e5-1626737b536c",
   "metadata": {},
   "outputs": [],
   "source": [
    "def getMinTime (stage):\n",
    "    minTime = data[stage].min()\n",
    "    minIndex = data[stage].idxmin()\n",
    "    #print(\"minTime is\", minTime)\n",
    "    #print(\"minIndex is\", minIndex)\n",
    "    return minTime, minIndex\n",
    "    \n",
    "def printResults (minIndex):\n",
    "    #need to make this so it doesnt print reduntant colums or prints something nicely formatted\n",
    "    print(data.iloc[minIndex,:])"
   ]
  },
  {
   "cell_type": "code",
   "execution_count": 31,
   "id": "fd1da28c-9aa4-496d-9e86-41105e03d3b3",
   "metadata": {},
   "outputs": [
    {
     "name": "stdout",
     "output_type": "stream",
     "text": [
      "the fastest for  Swim Minutes\n",
      "Bib                         1288\n",
      "Name            CAROLE YOSHIWARA\n",
      "Team Name                    NaN\n",
      "City                   SUNNYVALE\n",
      "Start Time              09:45:00\n",
      "Swim                    00:11:51\n",
      "T1                      00:05:18\n",
      "Bike                    00:42:36\n",
      "T2                      00:01:27\n",
      "Run                     00:24:47\n",
      "Chip Elapsed            01:26:02\n",
      "Division        SPRINT-AGE GROUP\n",
      "Div Place                   52.0\n",
      "Age                         33.0\n",
      "Age Place                      2\n",
      "Gender                         F\n",
      "Gender Place                10.0\n",
      "Swim Minutes               11.85\n",
      "T1 Minutes                   5.3\n",
      "Bike Minutes                42.6\n",
      "T2 Minutes                  1.45\n",
      "Run Minutes                24.78\n",
      "Swim+T1                    17.15\n",
      "Plus Bike                  59.75\n",
      "Plus T2                     61.2\n",
      "Total                      85.98\n",
      "Name: 9, dtype: object\n",
      "the fastest for  T1 Minutes\n",
      "Bib                                         1006\n",
      "Name                                  JAMIE FEND\n",
      "Team Name       SANTA CRUZ TRIATHLON ASSOCIATION\n",
      "City                                       APTOS\n",
      "Start Time                              09:45:00\n",
      "Swim                                    00:15:14\n",
      "T1                                      00:04:14\n",
      "Bike                                    00:38:08\n",
      "T2                                      00:01:20\n",
      "Run                                     00:22:48\n",
      "Chip Elapsed                            01:21:46\n",
      "Division                        SPRINT-AGE GROUP\n",
      "Div Place                                   32.0\n",
      "Age                                         46.0\n",
      "Age Place                                    O/A\n",
      "Gender                                         F\n",
      "Gender Place                                 2.0\n",
      "Swim Minutes                               15.23\n",
      "T1 Minutes                                  4.23\n",
      "Bike Minutes                               38.13\n",
      "T2 Minutes                                  1.33\n",
      "Run Minutes                                 22.8\n",
      "Swim+T1                                    19.47\n",
      "Plus Bike                                   57.6\n",
      "Plus T2                                    58.93\n",
      "Total                                      81.73\n",
      "Name: 1, dtype: object\n",
      "the fastest for  Bike Minutes\n",
      "Bib                         1039\n",
      "Name            CHRISTINA HEPPER\n",
      "Team Name                    NaN\n",
      "City                 MORGAN HILL\n",
      "Start Time              09:45:00\n",
      "Swim                    00:14:00\n",
      "T1                      00:04:15\n",
      "Bike                    00:36:02\n",
      "T2                      00:01:20\n",
      "Run                     00:23:40\n",
      "Chip Elapsed            01:19:20\n",
      "Division        SPRINT-AGE GROUP\n",
      "Div Place                   25.0\n",
      "Age                         53.0\n",
      "Age Place                    O/A\n",
      "Gender                         F\n",
      "Gender Place                 1.0\n",
      "Swim Minutes                14.0\n",
      "T1 Minutes                  4.25\n",
      "Bike Minutes               36.03\n",
      "T2 Minutes                  1.33\n",
      "Run Minutes                23.67\n",
      "Swim+T1                    18.25\n",
      "Plus Bike                  54.28\n",
      "Plus T2                    55.62\n",
      "Total                      79.28\n",
      "Name: 0, dtype: object\n",
      "the fastest for  T2 Minutes\n",
      "Bib                          946\n",
      "Name               DENISE BUTLER\n",
      "Team Name                    NaN\n",
      "City               MOUNTAIN VIEW\n",
      "Start Time              09:45:00\n",
      "Swim                    00:12:34\n",
      "T1                      00:04:37\n",
      "Bike                    00:40:08\n",
      "T2                      00:00:49\n",
      "Run                     00:24:46\n",
      "Chip Elapsed            01:22:56\n",
      "Division        SPRINT-AGE GROUP\n",
      "Div Place                   39.0\n",
      "Age                         34.0\n",
      "Age Place                      1\n",
      "Gender                         F\n",
      "Gender Place                 5.0\n",
      "Swim Minutes               12.57\n",
      "T1 Minutes                  4.62\n",
      "Bike Minutes               40.13\n",
      "T2 Minutes                  0.82\n",
      "Run Minutes                24.77\n",
      "Swim+T1                    17.18\n",
      "Plus Bike                  57.32\n",
      "Plus T2                    58.13\n",
      "Total                       82.9\n",
      "Name: 4, dtype: object\n",
      "the fastest for  Run Minutes\n",
      "Bib                         1112\n",
      "Name              ALEXANDRA LUZI\n",
      "Team Name                    NaN\n",
      "City               SAN FRANCISCO\n",
      "Start Time              09:45:00\n",
      "Swim                    00:12:50\n",
      "T1                      00:06:41\n",
      "Bike                    00:38:04\n",
      "T2                      00:01:48\n",
      "Run                     00:22:44\n",
      "Chip Elapsed            01:22:08\n",
      "Division        SPRINT-AGE GROUP\n",
      "Div Place                   35.0\n",
      "Age                         30.0\n",
      "Age Place                    O/A\n",
      "Gender                         F\n",
      "Gender Place                 3.0\n",
      "Swim Minutes               12.83\n",
      "T1 Minutes                  6.68\n",
      "Bike Minutes               38.07\n",
      "T2 Minutes                   1.8\n",
      "Run Minutes                22.73\n",
      "Swim+T1                    19.52\n",
      "Plus Bike                  57.58\n",
      "Plus T2                    59.38\n",
      "Total                      82.12\n",
      "Name: 2, dtype: object\n",
      "the shortest possible time is:  75.66666666666666\n"
     ]
    }
   ],
   "source": [
    "events = ['Swim Minutes', 'T1 Minutes', 'Bike Minutes', 'T2 Minutes', 'Run Minutes']\n",
    "\n",
    "shortestTime = 0\n",
    "for stage in events:\n",
    "    minTime, minIndex = getMinTime(stage)\n",
    "    print(\"the fastest for \", stage)\n",
    "    printResults(minIndex)\n",
    "    shortestTime = shortestTime + minTime\n",
    "\n",
    "print(\"the shortest possible time is: \", shortestTime)\n",
    "#need to work on formatting"
   ]
  },
  {
   "cell_type": "code",
   "execution_count": 32,
   "id": "765e7ddf",
   "metadata": {},
   "outputs": [
    {
     "name": "stderr",
     "output_type": "stream",
     "text": [
      "<ipython-input-32-16d8c57e1e0f>:2: SettingWithCopyWarning:\n",
      "\n",
      "\n",
      "A value is trying to be set on a copy of a slice from a DataFrame.\n",
      "Try using .loc[row_indexer,col_indexer] = value instead\n",
      "\n",
      "See the caveats in the documentation: https://pandas.pydata.org/pandas-docs/stable/user_guide/indexing.html#returning-a-view-versus-a-copy\n",
      "\n"
     ]
    },
    {
     "data": {
      "text/html": [
       "<div>\n",
       "<style scoped>\n",
       "    .dataframe tbody tr th:only-of-type {\n",
       "        vertical-align: middle;\n",
       "    }\n",
       "\n",
       "    .dataframe tbody tr th {\n",
       "        vertical-align: top;\n",
       "    }\n",
       "\n",
       "    .dataframe thead th {\n",
       "        text-align: right;\n",
       "    }\n",
       "</style>\n",
       "<table border=\"1\" class=\"dataframe\">\n",
       "  <thead>\n",
       "    <tr style=\"text-align: right;\">\n",
       "      <th></th>\n",
       "      <th>Name</th>\n",
       "      <th>Swim Minutes</th>\n",
       "      <th>Swim+T1</th>\n",
       "      <th>Plus Bike</th>\n",
       "      <th>Plus T2</th>\n",
       "      <th>Total</th>\n",
       "      <th>Gender Place</th>\n",
       "      <th>Start</th>\n",
       "    </tr>\n",
       "  </thead>\n",
       "  <tbody>\n",
       "    <tr>\n",
       "      <th>0</th>\n",
       "      <td>CHRISTINA HEPPER</td>\n",
       "      <td>14.00</td>\n",
       "      <td>18.25</td>\n",
       "      <td>54.28</td>\n",
       "      <td>55.62</td>\n",
       "      <td>79.28</td>\n",
       "      <td>1.0</td>\n",
       "      <td>0</td>\n",
       "    </tr>\n",
       "    <tr>\n",
       "      <th>1</th>\n",
       "      <td>JAMIE FEND</td>\n",
       "      <td>15.23</td>\n",
       "      <td>19.47</td>\n",
       "      <td>57.60</td>\n",
       "      <td>58.93</td>\n",
       "      <td>81.73</td>\n",
       "      <td>2.0</td>\n",
       "      <td>0</td>\n",
       "    </tr>\n",
       "    <tr>\n",
       "      <th>2</th>\n",
       "      <td>ALEXANDRA LUZI</td>\n",
       "      <td>12.83</td>\n",
       "      <td>19.52</td>\n",
       "      <td>57.58</td>\n",
       "      <td>59.38</td>\n",
       "      <td>82.12</td>\n",
       "      <td>3.0</td>\n",
       "      <td>0</td>\n",
       "    </tr>\n",
       "    <tr>\n",
       "      <th>3</th>\n",
       "      <td>SUMI HACHMANN</td>\n",
       "      <td>14.27</td>\n",
       "      <td>18.93</td>\n",
       "      <td>57.53</td>\n",
       "      <td>58.72</td>\n",
       "      <td>82.65</td>\n",
       "      <td>4.0</td>\n",
       "      <td>0</td>\n",
       "    </tr>\n",
       "    <tr>\n",
       "      <th>4</th>\n",
       "      <td>DENISE BUTLER</td>\n",
       "      <td>12.57</td>\n",
       "      <td>17.18</td>\n",
       "      <td>57.32</td>\n",
       "      <td>58.13</td>\n",
       "      <td>82.90</td>\n",
       "      <td>5.0</td>\n",
       "      <td>0</td>\n",
       "    </tr>\n",
       "    <tr>\n",
       "      <th>5</th>\n",
       "      <td>SHARON BARCLAY</td>\n",
       "      <td>14.52</td>\n",
       "      <td>18.95</td>\n",
       "      <td>55.17</td>\n",
       "      <td>56.55</td>\n",
       "      <td>83.22</td>\n",
       "      <td>6.0</td>\n",
       "      <td>0</td>\n",
       "    </tr>\n",
       "    <tr>\n",
       "      <th>6</th>\n",
       "      <td>AMY PEARSON</td>\n",
       "      <td>13.50</td>\n",
       "      <td>17.98</td>\n",
       "      <td>56.98</td>\n",
       "      <td>58.67</td>\n",
       "      <td>83.47</td>\n",
       "      <td>7.0</td>\n",
       "      <td>0</td>\n",
       "    </tr>\n",
       "    <tr>\n",
       "      <th>7</th>\n",
       "      <td>NOEL KOSIEK</td>\n",
       "      <td>13.57</td>\n",
       "      <td>17.92</td>\n",
       "      <td>56.97</td>\n",
       "      <td>58.18</td>\n",
       "      <td>85.33</td>\n",
       "      <td>8.0</td>\n",
       "      <td>0</td>\n",
       "    </tr>\n",
       "    <tr>\n",
       "      <th>8</th>\n",
       "      <td>CATHERINE LONDON</td>\n",
       "      <td>14.13</td>\n",
       "      <td>19.78</td>\n",
       "      <td>59.65</td>\n",
       "      <td>62.62</td>\n",
       "      <td>85.88</td>\n",
       "      <td>9.0</td>\n",
       "      <td>0</td>\n",
       "    </tr>\n",
       "    <tr>\n",
       "      <th>9</th>\n",
       "      <td>CAROLE YOSHIWARA</td>\n",
       "      <td>11.85</td>\n",
       "      <td>17.15</td>\n",
       "      <td>59.75</td>\n",
       "      <td>61.20</td>\n",
       "      <td>85.98</td>\n",
       "      <td>10.0</td>\n",
       "      <td>0</td>\n",
       "    </tr>\n",
       "    <tr>\n",
       "      <th>10</th>\n",
       "      <td>JACKI PHELPS</td>\n",
       "      <td>13.82</td>\n",
       "      <td>18.88</td>\n",
       "      <td>60.13</td>\n",
       "      <td>62.10</td>\n",
       "      <td>87.47</td>\n",
       "      <td>11.0</td>\n",
       "      <td>0</td>\n",
       "    </tr>\n",
       "    <tr>\n",
       "      <th>11</th>\n",
       "      <td>HELENA SCUTT</td>\n",
       "      <td>14.48</td>\n",
       "      <td>20.27</td>\n",
       "      <td>60.65</td>\n",
       "      <td>62.85</td>\n",
       "      <td>87.53</td>\n",
       "      <td>12.0</td>\n",
       "      <td>0</td>\n",
       "    </tr>\n",
       "    <tr>\n",
       "      <th>12</th>\n",
       "      <td>SAMANTHA DEWEES</td>\n",
       "      <td>15.03</td>\n",
       "      <td>22.10</td>\n",
       "      <td>61.75</td>\n",
       "      <td>63.97</td>\n",
       "      <td>87.60</td>\n",
       "      <td>13.0</td>\n",
       "      <td>0</td>\n",
       "    </tr>\n",
       "    <tr>\n",
       "      <th>13</th>\n",
       "      <td>CARA HIPSKIND</td>\n",
       "      <td>12.93</td>\n",
       "      <td>17.18</td>\n",
       "      <td>59.07</td>\n",
       "      <td>60.68</td>\n",
       "      <td>87.75</td>\n",
       "      <td>14.0</td>\n",
       "      <td>0</td>\n",
       "    </tr>\n",
       "    <tr>\n",
       "      <th>14</th>\n",
       "      <td>AYA TANGE</td>\n",
       "      <td>14.32</td>\n",
       "      <td>19.95</td>\n",
       "      <td>59.70</td>\n",
       "      <td>61.58</td>\n",
       "      <td>87.78</td>\n",
       "      <td>15.0</td>\n",
       "      <td>0</td>\n",
       "    </tr>\n",
       "    <tr>\n",
       "      <th>15</th>\n",
       "      <td>CHRISTA ZADO</td>\n",
       "      <td>18.30</td>\n",
       "      <td>23.15</td>\n",
       "      <td>62.83</td>\n",
       "      <td>64.35</td>\n",
       "      <td>89.52</td>\n",
       "      <td>16.0</td>\n",
       "      <td>0</td>\n",
       "    </tr>\n",
       "    <tr>\n",
       "      <th>16</th>\n",
       "      <td>KERRY SKEMP</td>\n",
       "      <td>16.50</td>\n",
       "      <td>22.10</td>\n",
       "      <td>64.80</td>\n",
       "      <td>65.78</td>\n",
       "      <td>90.58</td>\n",
       "      <td>17.0</td>\n",
       "      <td>0</td>\n",
       "    </tr>\n",
       "    <tr>\n",
       "      <th>17</th>\n",
       "      <td>VYLANA TRANG</td>\n",
       "      <td>13.03</td>\n",
       "      <td>19.37</td>\n",
       "      <td>62.97</td>\n",
       "      <td>64.87</td>\n",
       "      <td>90.65</td>\n",
       "      <td>18.0</td>\n",
       "      <td>0</td>\n",
       "    </tr>\n",
       "    <tr>\n",
       "      <th>18</th>\n",
       "      <td>CHRIS ENGEN</td>\n",
       "      <td>14.47</td>\n",
       "      <td>19.78</td>\n",
       "      <td>60.20</td>\n",
       "      <td>61.70</td>\n",
       "      <td>91.00</td>\n",
       "      <td>19.0</td>\n",
       "      <td>0</td>\n",
       "    </tr>\n",
       "    <tr>\n",
       "      <th>19</th>\n",
       "      <td>EMILY SHEPARD</td>\n",
       "      <td>13.90</td>\n",
       "      <td>21.97</td>\n",
       "      <td>61.68</td>\n",
       "      <td>63.97</td>\n",
       "      <td>91.68</td>\n",
       "      <td>20.0</td>\n",
       "      <td>0</td>\n",
       "    </tr>\n",
       "    <tr>\n",
       "      <th>20</th>\n",
       "      <td>MARISA LENCI</td>\n",
       "      <td>15.18</td>\n",
       "      <td>20.30</td>\n",
       "      <td>63.17</td>\n",
       "      <td>64.45</td>\n",
       "      <td>91.73</td>\n",
       "      <td>21.0</td>\n",
       "      <td>0</td>\n",
       "    </tr>\n",
       "    <tr>\n",
       "      <th>21</th>\n",
       "      <td>MARIE CHAISSON</td>\n",
       "      <td>15.83</td>\n",
       "      <td>21.05</td>\n",
       "      <td>62.35</td>\n",
       "      <td>64.05</td>\n",
       "      <td>92.22</td>\n",
       "      <td>22.0</td>\n",
       "      <td>0</td>\n",
       "    </tr>\n",
       "    <tr>\n",
       "      <th>22</th>\n",
       "      <td>HANNAH VOELKER</td>\n",
       "      <td>12.65</td>\n",
       "      <td>19.92</td>\n",
       "      <td>67.47</td>\n",
       "      <td>68.77</td>\n",
       "      <td>92.30</td>\n",
       "      <td>23.0</td>\n",
       "      <td>0</td>\n",
       "    </tr>\n",
       "    <tr>\n",
       "      <th>23</th>\n",
       "      <td>KATHERINE LEE</td>\n",
       "      <td>16.62</td>\n",
       "      <td>21.27</td>\n",
       "      <td>63.22</td>\n",
       "      <td>64.72</td>\n",
       "      <td>93.13</td>\n",
       "      <td>24.0</td>\n",
       "      <td>0</td>\n",
       "    </tr>\n",
       "    <tr>\n",
       "      <th>24</th>\n",
       "      <td>TINA SOMERS</td>\n",
       "      <td>14.88</td>\n",
       "      <td>21.20</td>\n",
       "      <td>64.32</td>\n",
       "      <td>65.40</td>\n",
       "      <td>93.18</td>\n",
       "      <td>25.0</td>\n",
       "      <td>0</td>\n",
       "    </tr>\n",
       "  </tbody>\n",
       "</table>\n",
       "</div>"
      ],
      "text/plain": [
       "                Name  Swim Minutes  Swim+T1  Plus Bike  Plus T2  Total  \\\n",
       "0   CHRISTINA HEPPER         14.00    18.25      54.28    55.62  79.28   \n",
       "1         JAMIE FEND         15.23    19.47      57.60    58.93  81.73   \n",
       "2     ALEXANDRA LUZI         12.83    19.52      57.58    59.38  82.12   \n",
       "3      SUMI HACHMANN         14.27    18.93      57.53    58.72  82.65   \n",
       "4      DENISE BUTLER         12.57    17.18      57.32    58.13  82.90   \n",
       "5     SHARON BARCLAY         14.52    18.95      55.17    56.55  83.22   \n",
       "6        AMY PEARSON         13.50    17.98      56.98    58.67  83.47   \n",
       "7        NOEL KOSIEK         13.57    17.92      56.97    58.18  85.33   \n",
       "8   CATHERINE LONDON         14.13    19.78      59.65    62.62  85.88   \n",
       "9   CAROLE YOSHIWARA         11.85    17.15      59.75    61.20  85.98   \n",
       "10      JACKI PHELPS         13.82    18.88      60.13    62.10  87.47   \n",
       "11      HELENA SCUTT         14.48    20.27      60.65    62.85  87.53   \n",
       "12   SAMANTHA DEWEES         15.03    22.10      61.75    63.97  87.60   \n",
       "13     CARA HIPSKIND         12.93    17.18      59.07    60.68  87.75   \n",
       "14         AYA TANGE         14.32    19.95      59.70    61.58  87.78   \n",
       "15      CHRISTA ZADO         18.30    23.15      62.83    64.35  89.52   \n",
       "16       KERRY SKEMP         16.50    22.10      64.80    65.78  90.58   \n",
       "17      VYLANA TRANG         13.03    19.37      62.97    64.87  90.65   \n",
       "18       CHRIS ENGEN         14.47    19.78      60.20    61.70  91.00   \n",
       "19     EMILY SHEPARD         13.90    21.97      61.68    63.97  91.68   \n",
       "20      MARISA LENCI         15.18    20.30      63.17    64.45  91.73   \n",
       "21    MARIE CHAISSON         15.83    21.05      62.35    64.05  92.22   \n",
       "22    HANNAH VOELKER         12.65    19.92      67.47    68.77  92.30   \n",
       "23     KATHERINE LEE         16.62    21.27      63.22    64.72  93.13   \n",
       "24       TINA SOMERS         14.88    21.20      64.32    65.40  93.18   \n",
       "\n",
       "    Gender Place  Start  \n",
       "0            1.0      0  \n",
       "1            2.0      0  \n",
       "2            3.0      0  \n",
       "3            4.0      0  \n",
       "4            5.0      0  \n",
       "5            6.0      0  \n",
       "6            7.0      0  \n",
       "7            8.0      0  \n",
       "8            9.0      0  \n",
       "9           10.0      0  \n",
       "10          11.0      0  \n",
       "11          12.0      0  \n",
       "12          13.0      0  \n",
       "13          14.0      0  \n",
       "14          15.0      0  \n",
       "15          16.0      0  \n",
       "16          17.0      0  \n",
       "17          18.0      0  \n",
       "18          19.0      0  \n",
       "19          20.0      0  \n",
       "20          21.0      0  \n",
       "21          22.0      0  \n",
       "22          23.0      0  \n",
       "23          24.0      0  \n",
       "24          25.0      0  "
      ]
     },
     "execution_count": 32,
     "metadata": {},
     "output_type": "execute_result"
    }
   ],
   "source": [
    "reduced2 = data[[\"Name\",\"Swim Minutes\",\"Swim+T1\",\"Plus Bike\",\"Plus T2\",\"Total\",\"Gender Place\"]]\n",
    "reduced2[\"Start\"] = 0\n",
    "reduced2 = reduced2.drop(25)\n",
    "reduced2\n",
    "\n",
    "# color_nums = reduced2['Gender Place'].tolist()\n",
    "# color_names = reduced2['Name'].tolist()\n",
    "# colors_zip = zip(color_nums, color_names)\n",
    "\n",
    "# colors_zip"
   ]
  },
  {
   "cell_type": "code",
   "execution_count": 33,
   "id": "019ef3e3-9ef0-4013-8a3e-848ced0e9b45",
   "metadata": {},
   "outputs": [
    {
     "data": {
      "application/vnd.plotly.v1+json": {
       "config": {
        "plotlyServerURL": "https://plot.ly"
       },
       "data": [
        {
         "dimensions": [
          {
           "label": "Start",
           "range": [
            0,
            1
           ],
           "values": [
            0,
            0,
            0,
            0,
            0,
            0,
            0,
            0,
            0,
            0,
            0,
            0,
            0,
            0,
            0,
            0,
            0,
            0,
            0,
            0,
            0,
            0,
            0,
            0,
            0
           ]
          },
          {
           "label": "Time After Swim",
           "range": [
            11.85,
            18.3
           ],
           "values": [
            14,
            15.233333333333333,
            12.833333333333334,
            14.266666666666667,
            12.566666666666666,
            14.516666666666667,
            13.5,
            13.566666666666666,
            14.133333333333333,
            11.85,
            13.816666666666666,
            14.483333333333333,
            15.033333333333333,
            12.933333333333334,
            14.316666666666666,
            18.3,
            16.5,
            13.033333333333333,
            14.466666666666667,
            13.9,
            15.183333333333334,
            15.833333333333334,
            12.65,
            16.616666666666667,
            14.883333333333333
           ]
          },
          {
           "label": "Time After First Transition",
           "range": [
            17.15,
            23.15
           ],
           "values": [
            18.25,
            19.466666666666665,
            19.516666666666666,
            18.933333333333334,
            17.183333333333334,
            18.950000000000003,
            17.983333333333334,
            17.916666666666664,
            19.78333333333333,
            17.15,
            18.883333333333333,
            20.266666666666666,
            22.1,
            17.183333333333334,
            19.95,
            23.15,
            22.1,
            19.366666666666667,
            19.78333333333333,
            21.96666666666667,
            20.3,
            21.05,
            19.916666666666668,
            21.266666666666666,
            21.2
           ]
          },
          {
           "label": "Time After Bike",
           "range": [
            54.28333333333333,
            67.46666666666667
           ],
           "values": [
            54.28333333333333,
            57.599999999999994,
            57.583333333333336,
            57.53333333333333,
            57.31666666666666,
            55.16666666666667,
            56.983333333333334,
            56.96666666666666,
            59.65,
            59.75,
            60.13333333333333,
            60.65,
            61.75,
            59.06666666666666,
            59.7,
            62.83333333333333,
            64.80000000000001,
            62.96666666666667,
            60.199999999999996,
            61.68333333333334,
            63.16666666666667,
            62.349999999999994,
            67.46666666666667,
            63.21666666666667,
            64.31666666666666
           ]
          },
          {
           "label": "Time After Second Transition",
           "range": [
            55.61666666666667,
            68.76666666666667
           ],
           "values": [
            55.61666666666667,
            58.93333333333333,
            59.38333333333333,
            58.71666666666666,
            58.13333333333333,
            56.550000000000004,
            58.666666666666664,
            58.18333333333333,
            62.61666666666667,
            61.2,
            62.1,
            62.85,
            63.96666666666667,
            60.68333333333333,
            61.583333333333336,
            64.35,
            65.78333333333335,
            64.86666666666667,
            61.699999999999996,
            63.96666666666667,
            64.45,
            64.05,
            68.76666666666667,
            64.71666666666667,
            65.39999999999999
           ]
          },
          {
           "label": "Total Time",
           "range": [
            79.28333333333333,
            93.18333333333332
           ],
           "values": [
            79.28333333333333,
            81.73333333333333,
            82.11666666666667,
            82.64999999999999,
            82.9,
            83.21666666666667,
            83.46666666666667,
            85.33333333333333,
            85.88333333333333,
            85.98333333333333,
            87.46666666666667,
            87.53333333333333,
            87.6,
            87.75,
            87.78333333333333,
            89.51666666666667,
            90.58333333333334,
            90.65,
            91,
            91.68333333333334,
            91.73333333333333,
            92.21666666666667,
            92.3,
            93.13333333333334,
            93.18333333333332
           ]
          },
          {
           "label": "Competitor",
           "range": [
            0,
            25
           ],
           "ticktext": [
            "CHRISTINA HEPPER",
            "JAMIE FEND",
            "ALEXANDRA LUZI",
            "SUMI HACHMANN",
            "DENISE BUTLER",
            "SHARON BARCLAY",
            "AMY PEARSON",
            "NOEL KOSIEK",
            "CATHERINE LONDON",
            "CAROLE YOSHIWARA",
            "JACKI PHELPS",
            "HELENA SCUTT",
            "SAMANTHA DEWEES",
            "CARA HIPSKIND",
            "AYA TANGE",
            "CHRISTA ZADO",
            "KERRY SKEMP",
            "VYLANA TRANG",
            "CHRIS ENGEN",
            "EMILY SHEPARD",
            "MARISA LENCI",
            "MARIE CHAISSON",
            "HANNAH VOELKER",
            "KATHERINE LEE",
            "TINA SOMERS"
           ],
           "tickvals": [
            1,
            2,
            3,
            4,
            5,
            6,
            7,
            8,
            9,
            10,
            11,
            12,
            13,
            14,
            15,
            16,
            17,
            18,
            19,
            20,
            21,
            22,
            23,
            24,
            25
           ],
           "values": [
            1,
            2,
            3,
            4,
            5,
            6,
            7,
            8,
            9,
            10,
            11,
            12,
            13,
            14,
            15,
            16,
            17,
            18,
            19,
            20,
            21,
            22,
            23,
            24,
            25
           ]
          }
         ],
         "line": {
          "color": [
           1,
           2,
           3,
           4,
           5,
           6,
           7,
           8,
           9,
           10,
           11,
           12,
           13,
           14,
           15,
           16,
           17,
           18,
           19,
           20,
           21,
           22,
           23,
           24,
           25
          ],
          "colorscale": [
           [
            0,
            "rgba(255,0,0,0.1)"
           ],
           [
            0.2,
            "rgba(0,255,0,0.1)"
           ],
           [
            0.4,
            "rgba(0,0,255,0.1)"
           ],
           [
            0.6,
            "rgba(0,255,255,0.1)"
           ],
           [
            0.8,
            "rgba(255,0,255,0.1)"
           ],
           [
            1,
            "rgba(0,0,0,0.1)"
           ]
          ]
         },
         "type": "parcoords"
        }
       ],
       "layout": {
        "height": 1080,
        "template": {
         "data": {
          "bar": [
           {
            "error_x": {
             "color": "#2a3f5f"
            },
            "error_y": {
             "color": "#2a3f5f"
            },
            "marker": {
             "line": {
              "color": "#E5ECF6",
              "width": 0.5
             },
             "pattern": {
              "fillmode": "overlay",
              "size": 10,
              "solidity": 0.2
             }
            },
            "type": "bar"
           }
          ],
          "barpolar": [
           {
            "marker": {
             "line": {
              "color": "#E5ECF6",
              "width": 0.5
             },
             "pattern": {
              "fillmode": "overlay",
              "size": 10,
              "solidity": 0.2
             }
            },
            "type": "barpolar"
           }
          ],
          "carpet": [
           {
            "aaxis": {
             "endlinecolor": "#2a3f5f",
             "gridcolor": "white",
             "linecolor": "white",
             "minorgridcolor": "white",
             "startlinecolor": "#2a3f5f"
            },
            "baxis": {
             "endlinecolor": "#2a3f5f",
             "gridcolor": "white",
             "linecolor": "white",
             "minorgridcolor": "white",
             "startlinecolor": "#2a3f5f"
            },
            "type": "carpet"
           }
          ],
          "choropleth": [
           {
            "colorbar": {
             "outlinewidth": 0,
             "ticks": ""
            },
            "type": "choropleth"
           }
          ],
          "contour": [
           {
            "colorbar": {
             "outlinewidth": 0,
             "ticks": ""
            },
            "colorscale": [
             [
              0,
              "#0d0887"
             ],
             [
              0.1111111111111111,
              "#46039f"
             ],
             [
              0.2222222222222222,
              "#7201a8"
             ],
             [
              0.3333333333333333,
              "#9c179e"
             ],
             [
              0.4444444444444444,
              "#bd3786"
             ],
             [
              0.5555555555555556,
              "#d8576b"
             ],
             [
              0.6666666666666666,
              "#ed7953"
             ],
             [
              0.7777777777777778,
              "#fb9f3a"
             ],
             [
              0.8888888888888888,
              "#fdca26"
             ],
             [
              1,
              "#f0f921"
             ]
            ],
            "type": "contour"
           }
          ],
          "contourcarpet": [
           {
            "colorbar": {
             "outlinewidth": 0,
             "ticks": ""
            },
            "type": "contourcarpet"
           }
          ],
          "heatmap": [
           {
            "colorbar": {
             "outlinewidth": 0,
             "ticks": ""
            },
            "colorscale": [
             [
              0,
              "#0d0887"
             ],
             [
              0.1111111111111111,
              "#46039f"
             ],
             [
              0.2222222222222222,
              "#7201a8"
             ],
             [
              0.3333333333333333,
              "#9c179e"
             ],
             [
              0.4444444444444444,
              "#bd3786"
             ],
             [
              0.5555555555555556,
              "#d8576b"
             ],
             [
              0.6666666666666666,
              "#ed7953"
             ],
             [
              0.7777777777777778,
              "#fb9f3a"
             ],
             [
              0.8888888888888888,
              "#fdca26"
             ],
             [
              1,
              "#f0f921"
             ]
            ],
            "type": "heatmap"
           }
          ],
          "heatmapgl": [
           {
            "colorbar": {
             "outlinewidth": 0,
             "ticks": ""
            },
            "colorscale": [
             [
              0,
              "#0d0887"
             ],
             [
              0.1111111111111111,
              "#46039f"
             ],
             [
              0.2222222222222222,
              "#7201a8"
             ],
             [
              0.3333333333333333,
              "#9c179e"
             ],
             [
              0.4444444444444444,
              "#bd3786"
             ],
             [
              0.5555555555555556,
              "#d8576b"
             ],
             [
              0.6666666666666666,
              "#ed7953"
             ],
             [
              0.7777777777777778,
              "#fb9f3a"
             ],
             [
              0.8888888888888888,
              "#fdca26"
             ],
             [
              1,
              "#f0f921"
             ]
            ],
            "type": "heatmapgl"
           }
          ],
          "histogram": [
           {
            "marker": {
             "pattern": {
              "fillmode": "overlay",
              "size": 10,
              "solidity": 0.2
             }
            },
            "type": "histogram"
           }
          ],
          "histogram2d": [
           {
            "colorbar": {
             "outlinewidth": 0,
             "ticks": ""
            },
            "colorscale": [
             [
              0,
              "#0d0887"
             ],
             [
              0.1111111111111111,
              "#46039f"
             ],
             [
              0.2222222222222222,
              "#7201a8"
             ],
             [
              0.3333333333333333,
              "#9c179e"
             ],
             [
              0.4444444444444444,
              "#bd3786"
             ],
             [
              0.5555555555555556,
              "#d8576b"
             ],
             [
              0.6666666666666666,
              "#ed7953"
             ],
             [
              0.7777777777777778,
              "#fb9f3a"
             ],
             [
              0.8888888888888888,
              "#fdca26"
             ],
             [
              1,
              "#f0f921"
             ]
            ],
            "type": "histogram2d"
           }
          ],
          "histogram2dcontour": [
           {
            "colorbar": {
             "outlinewidth": 0,
             "ticks": ""
            },
            "colorscale": [
             [
              0,
              "#0d0887"
             ],
             [
              0.1111111111111111,
              "#46039f"
             ],
             [
              0.2222222222222222,
              "#7201a8"
             ],
             [
              0.3333333333333333,
              "#9c179e"
             ],
             [
              0.4444444444444444,
              "#bd3786"
             ],
             [
              0.5555555555555556,
              "#d8576b"
             ],
             [
              0.6666666666666666,
              "#ed7953"
             ],
             [
              0.7777777777777778,
              "#fb9f3a"
             ],
             [
              0.8888888888888888,
              "#fdca26"
             ],
             [
              1,
              "#f0f921"
             ]
            ],
            "type": "histogram2dcontour"
           }
          ],
          "mesh3d": [
           {
            "colorbar": {
             "outlinewidth": 0,
             "ticks": ""
            },
            "type": "mesh3d"
           }
          ],
          "parcoords": [
           {
            "line": {
             "colorbar": {
              "outlinewidth": 0,
              "ticks": ""
             }
            },
            "type": "parcoords"
           }
          ],
          "pie": [
           {
            "automargin": true,
            "type": "pie"
           }
          ],
          "scatter": [
           {
            "marker": {
             "colorbar": {
              "outlinewidth": 0,
              "ticks": ""
             }
            },
            "type": "scatter"
           }
          ],
          "scatter3d": [
           {
            "line": {
             "colorbar": {
              "outlinewidth": 0,
              "ticks": ""
             }
            },
            "marker": {
             "colorbar": {
              "outlinewidth": 0,
              "ticks": ""
             }
            },
            "type": "scatter3d"
           }
          ],
          "scattercarpet": [
           {
            "marker": {
             "colorbar": {
              "outlinewidth": 0,
              "ticks": ""
             }
            },
            "type": "scattercarpet"
           }
          ],
          "scattergeo": [
           {
            "marker": {
             "colorbar": {
              "outlinewidth": 0,
              "ticks": ""
             }
            },
            "type": "scattergeo"
           }
          ],
          "scattergl": [
           {
            "marker": {
             "colorbar": {
              "outlinewidth": 0,
              "ticks": ""
             }
            },
            "type": "scattergl"
           }
          ],
          "scattermapbox": [
           {
            "marker": {
             "colorbar": {
              "outlinewidth": 0,
              "ticks": ""
             }
            },
            "type": "scattermapbox"
           }
          ],
          "scatterpolar": [
           {
            "marker": {
             "colorbar": {
              "outlinewidth": 0,
              "ticks": ""
             }
            },
            "type": "scatterpolar"
           }
          ],
          "scatterpolargl": [
           {
            "marker": {
             "colorbar": {
              "outlinewidth": 0,
              "ticks": ""
             }
            },
            "type": "scatterpolargl"
           }
          ],
          "scatterternary": [
           {
            "marker": {
             "colorbar": {
              "outlinewidth": 0,
              "ticks": ""
             }
            },
            "type": "scatterternary"
           }
          ],
          "surface": [
           {
            "colorbar": {
             "outlinewidth": 0,
             "ticks": ""
            },
            "colorscale": [
             [
              0,
              "#0d0887"
             ],
             [
              0.1111111111111111,
              "#46039f"
             ],
             [
              0.2222222222222222,
              "#7201a8"
             ],
             [
              0.3333333333333333,
              "#9c179e"
             ],
             [
              0.4444444444444444,
              "#bd3786"
             ],
             [
              0.5555555555555556,
              "#d8576b"
             ],
             [
              0.6666666666666666,
              "#ed7953"
             ],
             [
              0.7777777777777778,
              "#fb9f3a"
             ],
             [
              0.8888888888888888,
              "#fdca26"
             ],
             [
              1,
              "#f0f921"
             ]
            ],
            "type": "surface"
           }
          ],
          "table": [
           {
            "cells": {
             "fill": {
              "color": "#EBF0F8"
             },
             "line": {
              "color": "white"
             }
            },
            "header": {
             "fill": {
              "color": "#C8D4E3"
             },
             "line": {
              "color": "white"
             }
            },
            "type": "table"
           }
          ]
         },
         "layout": {
          "annotationdefaults": {
           "arrowcolor": "#2a3f5f",
           "arrowhead": 0,
           "arrowwidth": 1
          },
          "autotypenumbers": "strict",
          "coloraxis": {
           "colorbar": {
            "outlinewidth": 0,
            "ticks": ""
           }
          },
          "colorscale": {
           "diverging": [
            [
             0,
             "#8e0152"
            ],
            [
             0.1,
             "#c51b7d"
            ],
            [
             0.2,
             "#de77ae"
            ],
            [
             0.3,
             "#f1b6da"
            ],
            [
             0.4,
             "#fde0ef"
            ],
            [
             0.5,
             "#f7f7f7"
            ],
            [
             0.6,
             "#e6f5d0"
            ],
            [
             0.7,
             "#b8e186"
            ],
            [
             0.8,
             "#7fbc41"
            ],
            [
             0.9,
             "#4d9221"
            ],
            [
             1,
             "#276419"
            ]
           ],
           "sequential": [
            [
             0,
             "#0d0887"
            ],
            [
             0.1111111111111111,
             "#46039f"
            ],
            [
             0.2222222222222222,
             "#7201a8"
            ],
            [
             0.3333333333333333,
             "#9c179e"
            ],
            [
             0.4444444444444444,
             "#bd3786"
            ],
            [
             0.5555555555555556,
             "#d8576b"
            ],
            [
             0.6666666666666666,
             "#ed7953"
            ],
            [
             0.7777777777777778,
             "#fb9f3a"
            ],
            [
             0.8888888888888888,
             "#fdca26"
            ],
            [
             1,
             "#f0f921"
            ]
           ],
           "sequentialminus": [
            [
             0,
             "#0d0887"
            ],
            [
             0.1111111111111111,
             "#46039f"
            ],
            [
             0.2222222222222222,
             "#7201a8"
            ],
            [
             0.3333333333333333,
             "#9c179e"
            ],
            [
             0.4444444444444444,
             "#bd3786"
            ],
            [
             0.5555555555555556,
             "#d8576b"
            ],
            [
             0.6666666666666666,
             "#ed7953"
            ],
            [
             0.7777777777777778,
             "#fb9f3a"
            ],
            [
             0.8888888888888888,
             "#fdca26"
            ],
            [
             1,
             "#f0f921"
            ]
           ]
          },
          "colorway": [
           "#636efa",
           "#EF553B",
           "#00cc96",
           "#ab63fa",
           "#FFA15A",
           "#19d3f3",
           "#FF6692",
           "#B6E880",
           "#FF97FF",
           "#FECB52"
          ],
          "font": {
           "color": "#2a3f5f"
          },
          "geo": {
           "bgcolor": "white",
           "lakecolor": "white",
           "landcolor": "#E5ECF6",
           "showlakes": true,
           "showland": true,
           "subunitcolor": "white"
          },
          "hoverlabel": {
           "align": "left"
          },
          "hovermode": "closest",
          "mapbox": {
           "style": "light"
          },
          "paper_bgcolor": "white",
          "plot_bgcolor": "#E5ECF6",
          "polar": {
           "angularaxis": {
            "gridcolor": "white",
            "linecolor": "white",
            "ticks": ""
           },
           "bgcolor": "#E5ECF6",
           "radialaxis": {
            "gridcolor": "white",
            "linecolor": "white",
            "ticks": ""
           }
          },
          "scene": {
           "xaxis": {
            "backgroundcolor": "#E5ECF6",
            "gridcolor": "white",
            "gridwidth": 2,
            "linecolor": "white",
            "showbackground": true,
            "ticks": "",
            "zerolinecolor": "white"
           },
           "yaxis": {
            "backgroundcolor": "#E5ECF6",
            "gridcolor": "white",
            "gridwidth": 2,
            "linecolor": "white",
            "showbackground": true,
            "ticks": "",
            "zerolinecolor": "white"
           },
           "zaxis": {
            "backgroundcolor": "#E5ECF6",
            "gridcolor": "white",
            "gridwidth": 2,
            "linecolor": "white",
            "showbackground": true,
            "ticks": "",
            "zerolinecolor": "white"
           }
          },
          "shapedefaults": {
           "line": {
            "color": "#2a3f5f"
           }
          },
          "ternary": {
           "aaxis": {
            "gridcolor": "white",
            "linecolor": "white",
            "ticks": ""
           },
           "baxis": {
            "gridcolor": "white",
            "linecolor": "white",
            "ticks": ""
           },
           "bgcolor": "#E5ECF6",
           "caxis": {
            "gridcolor": "white",
            "linecolor": "white",
            "ticks": ""
           }
          },
          "title": {
           "x": 0.05
          },
          "xaxis": {
           "automargin": true,
           "gridcolor": "white",
           "linecolor": "white",
           "ticks": "",
           "title": {
            "standoff": 15
           },
           "zerolinecolor": "white",
           "zerolinewidth": 2
          },
          "yaxis": {
           "automargin": true,
           "gridcolor": "white",
           "linecolor": "white",
           "ticks": "",
           "title": {
            "standoff": 15
           },
           "zerolinecolor": "white",
           "zerolinewidth": 2
          }
         }
        },
        "title": {
         "text": "Triathalon Results"
        },
        "width": 1920
       }
      }
     },
     "metadata": {},
     "output_type": "display_data"
    }
   ],
   "source": [
    "dimensions = list([\n",
    "            dict(range = [0, 1],\n",
    "                label = 'Start', values = reduced2['Start']),            \n",
    "            dict(range = [reduced2[\"Swim Minutes\"].min(), reduced2[\"Swim Minutes\"].max()],\n",
    "                label = 'Time After Swim', values = reduced2['Swim Minutes']),\n",
    "            dict(range = [reduced2[\"Swim+T1\"].min(), reduced2[\"Swim+T1\"].max()],\n",
    "                label = 'Time After First Transition', values = reduced2['Swim+T1']),\n",
    "            dict(range = [reduced2[\"Plus Bike\"].min(), reduced2[\"Plus Bike\"].max()],\n",
    "                label = 'Time After Bike', values = reduced2['Plus Bike']),\n",
    "            dict(range = [reduced2[\"Plus T2\"].min(), reduced2[\"Plus T2\"].max()],\n",
    "                label = 'Time After Second Transition', values = reduced2['Plus T2']),\n",
    "            dict(range = [reduced2[\"Total\"].min(), reduced2[\"Total\"].max()],\n",
    "                label = 'Total Time', values = reduced2['Total']),\n",
    "            dict(range=[0,reduced2['Gender Place'].max()], tickvals = reduced2['Gender Place'], ticktext = reduced2['Name'],\n",
    "                       label='Competitor', values=reduced2['Gender Place'])\n",
    "        ])\n",
    "\n",
    "fig = go.Figure(data=go.Parcoords(line = dict(color = reduced2['Gender Place'],\n",
    "                   colorscale = [[.0,'rgba(255,0,0,0.1)'],[0.2,'rgba(0,255,0,0.1)'],[.4,'rgba(0,0,255,0.1)'], \n",
    "                                 [.6,'rgba(0,255,255,0.1)'], [.8, 'rgba(255,0,255,0.1)'], [1, 'rgba(0,0,0,0.1)']]), dimensions=dimensions))\n",
    "\n",
    "fig.update_layout(\n",
    "    title=\"Triathalon Results\",\n",
    "    width=1920,\n",
    "    height=1080\n",
    ")\n",
    "\n",
    "fig.show()"
   ]
  },
  {
   "cell_type": "code",
   "execution_count": 15,
   "id": "237f4e5b",
   "metadata": {},
   "outputs": [],
   "source": [
    "engine = create_engine('sqlite:///data.db', echo=False)"
   ]
  },
  {
   "cell_type": "code",
   "execution_count": 16,
   "id": "de1f61ec",
   "metadata": {},
   "outputs": [],
   "source": [
    "sql_df = pd.read_sql('data.db', con=engine, index_col='ID')"
   ]
  },
  {
   "cell_type": "code",
   "execution_count": 17,
   "id": "2f163996",
   "metadata": {},
   "outputs": [
    {
     "data": {
      "text/html": [
       "<div>\n",
       "<style scoped>\n",
       "    .dataframe tbody tr th:only-of-type {\n",
       "        vertical-align: middle;\n",
       "    }\n",
       "\n",
       "    .dataframe tbody tr th {\n",
       "        vertical-align: top;\n",
       "    }\n",
       "\n",
       "    .dataframe thead th {\n",
       "        text-align: right;\n",
       "    }\n",
       "</style>\n",
       "<table border=\"1\" class=\"dataframe\">\n",
       "  <thead>\n",
       "    <tr style=\"text-align: right;\">\n",
       "      <th></th>\n",
       "      <th>Bib</th>\n",
       "      <th>Name</th>\n",
       "      <th>Team Name</th>\n",
       "      <th>City</th>\n",
       "      <th>Start Time</th>\n",
       "      <th>Swim</th>\n",
       "      <th>T1</th>\n",
       "      <th>Bike</th>\n",
       "      <th>T2</th>\n",
       "      <th>Run</th>\n",
       "      <th>Chip Elapsed</th>\n",
       "      <th>Division</th>\n",
       "      <th>Div Place</th>\n",
       "      <th>Age</th>\n",
       "      <th>Age Place</th>\n",
       "      <th>Gender</th>\n",
       "      <th>Gender Place</th>\n",
       "    </tr>\n",
       "    <tr>\n",
       "      <th>ID</th>\n",
       "      <th></th>\n",
       "      <th></th>\n",
       "      <th></th>\n",
       "      <th></th>\n",
       "      <th></th>\n",
       "      <th></th>\n",
       "      <th></th>\n",
       "      <th></th>\n",
       "      <th></th>\n",
       "      <th></th>\n",
       "      <th></th>\n",
       "      <th></th>\n",
       "      <th></th>\n",
       "      <th></th>\n",
       "      <th></th>\n",
       "      <th></th>\n",
       "      <th></th>\n",
       "    </tr>\n",
       "  </thead>\n",
       "  <tbody>\n",
       "    <tr>\n",
       "      <th>0</th>\n",
       "      <td>1051</td>\n",
       "      <td>MANUEL HUECKEL</td>\n",
       "      <td>TEAM WY55</td>\n",
       "      <td>SAN FRANCISCO</td>\n",
       "      <td>09:35:00</td>\n",
       "      <td>00:10:11</td>\n",
       "      <td>00:03:08</td>\n",
       "      <td>00:31:19</td>\n",
       "      <td>00:00:44</td>\n",
       "      <td>00:19:10</td>\n",
       "      <td>01:04:34</td>\n",
       "      <td>SPRINT-AGE GROUP</td>\n",
       "      <td>1</td>\n",
       "      <td>23</td>\n",
       "      <td>O/A</td>\n",
       "      <td>M</td>\n",
       "      <td>1</td>\n",
       "    </tr>\n",
       "    <tr>\n",
       "      <th>1</th>\n",
       "      <td>978</td>\n",
       "      <td>TYLER CURRAN</td>\n",
       "      <td></td>\n",
       "      <td>WHITE PLAINS</td>\n",
       "      <td>09:35:00</td>\n",
       "      <td>00:09:28</td>\n",
       "      <td>00:02:59</td>\n",
       "      <td>00:31:42</td>\n",
       "      <td>00:00:52</td>\n",
       "      <td>00:20:14</td>\n",
       "      <td>01:05:16</td>\n",
       "      <td>SPRINT-AGE GROUP</td>\n",
       "      <td>2</td>\n",
       "      <td>24</td>\n",
       "      <td>O/A</td>\n",
       "      <td>M</td>\n",
       "      <td>2</td>\n",
       "    </tr>\n",
       "    <tr>\n",
       "      <th>2</th>\n",
       "      <td>924</td>\n",
       "      <td>BRIAN BERGER</td>\n",
       "      <td>GOLD COUNTRY TRIATHLON CLUB</td>\n",
       "      <td>LINCOLN</td>\n",
       "      <td>09:35:00</td>\n",
       "      <td>00:09:33</td>\n",
       "      <td>00:03:53</td>\n",
       "      <td>00:33:12</td>\n",
       "      <td>00:01:25</td>\n",
       "      <td>00:22:02</td>\n",
       "      <td>01:10:08</td>\n",
       "      <td>SPRINT-AGE GROUP</td>\n",
       "      <td>3</td>\n",
       "      <td>25</td>\n",
       "      <td>O/A</td>\n",
       "      <td>M</td>\n",
       "      <td>3</td>\n",
       "    </tr>\n",
       "    <tr>\n",
       "      <th>3</th>\n",
       "      <td>1187</td>\n",
       "      <td>CLAY ROBBINS</td>\n",
       "      <td></td>\n",
       "      <td>REDWOOD CITY</td>\n",
       "      <td>09:35:00</td>\n",
       "      <td>00:11:30</td>\n",
       "      <td>00:03:42</td>\n",
       "      <td>00:34:03</td>\n",
       "      <td>00:01:37</td>\n",
       "      <td>00:19:26</td>\n",
       "      <td>01:10:19</td>\n",
       "      <td>SPRINT-AGE GROUP</td>\n",
       "      <td>4</td>\n",
       "      <td>30</td>\n",
       "      <td>1</td>\n",
       "      <td>M</td>\n",
       "      <td>4</td>\n",
       "    </tr>\n",
       "    <tr>\n",
       "      <th>4</th>\n",
       "      <td>943</td>\n",
       "      <td>ANDREW BUNNER</td>\n",
       "      <td></td>\n",
       "      <td>BELMONT</td>\n",
       "      <td>09:40:00</td>\n",
       "      <td>00:11:46</td>\n",
       "      <td>00:03:49</td>\n",
       "      <td>00:33:34</td>\n",
       "      <td>00:01:06</td>\n",
       "      <td>00:20:54</td>\n",
       "      <td>01:11:12</td>\n",
       "      <td>SPRINT-AGE GROUP</td>\n",
       "      <td>5</td>\n",
       "      <td>44</td>\n",
       "      <td>1</td>\n",
       "      <td>M</td>\n",
       "      <td>5</td>\n",
       "    </tr>\n",
       "  </tbody>\n",
       "</table>\n",
       "</div>"
      ],
      "text/plain": [
       "     Bib            Name                    Team Name           City  \\\n",
       "ID                                                                     \n",
       "0   1051  MANUEL HUECKEL                    TEAM WY55  SAN FRANCISCO   \n",
       "1    978    TYLER CURRAN                                WHITE PLAINS   \n",
       "2    924    BRIAN BERGER  GOLD COUNTRY TRIATHLON CLUB        LINCOLN   \n",
       "3   1187    CLAY ROBBINS                                REDWOOD CITY   \n",
       "4    943   ANDREW BUNNER                                     BELMONT   \n",
       "\n",
       "   Start Time      Swim        T1      Bike        T2       Run Chip Elapsed  \\\n",
       "ID                                                                             \n",
       "0    09:35:00  00:10:11  00:03:08  00:31:19  00:00:44  00:19:10     01:04:34   \n",
       "1    09:35:00  00:09:28  00:02:59  00:31:42  00:00:52  00:20:14     01:05:16   \n",
       "2    09:35:00  00:09:33  00:03:53  00:33:12  00:01:25  00:22:02     01:10:08   \n",
       "3    09:35:00  00:11:30  00:03:42  00:34:03  00:01:37  00:19:26     01:10:19   \n",
       "4    09:40:00  00:11:46  00:03:49  00:33:34  00:01:06  00:20:54     01:11:12   \n",
       "\n",
       "            Division Div Place Age Age Place Gender Gender Place  \n",
       "ID                                                                \n",
       "0   SPRINT-AGE GROUP         1  23       O/A      M            1  \n",
       "1   SPRINT-AGE GROUP         2  24       O/A      M            2  \n",
       "2   SPRINT-AGE GROUP         3  25       O/A      M            3  \n",
       "3   SPRINT-AGE GROUP         4  30         1      M            4  \n",
       "4   SPRINT-AGE GROUP         5  44         1      M            5  "
      ]
     },
     "execution_count": 17,
     "metadata": {},
     "output_type": "execute_result"
    }
   ],
   "source": [
    "sql_df.head()"
   ]
  }
 ],
 "metadata": {
  "kernelspec": {
   "display_name": "Python 3",
   "language": "python",
   "name": "python3"
  },
  "language_info": {
   "codemirror_mode": {
    "name": "ipython",
    "version": 3
   },
   "file_extension": ".py",
   "mimetype": "text/x-python",
   "name": "python",
   "nbconvert_exporter": "python",
   "pygments_lexer": "ipython3",
   "version": "3.8.8"
  }
 },
 "nbformat": 4,
 "nbformat_minor": 5
}
