{
 "cells": [
  {
   "cell_type": "markdown",
   "metadata": {},
   "source": [
    "https://towardsdatascience.com/how-to-use-selenium-to-web-scrape-with-example-80f9b23a843a\n",
    "https://www.browserstack.com/guide/find-element-by-xpath-in-selenium\n",
    "https://stackoverflow.com/questions/3030487/is-there-a-way-to-get-the-xpath-in-google-chrome\n",
    "https://www.guru99.com/selenium-webtable.html\n",
    "https://stackoverflow.com/questions/19200497/python-selenium-webscraping-nosuchelementexception-not-recognized\n",
    "\n",
    "\n",
    "USe try and catch exceptions to stop iterating and go to the next page or line\n",
    "https://www.scrapingbee.com/blog/selenium-python/\n",
    "\n",
    "Selecting from a dropdown\n",
    "https://stackoverflow.com/questions/7867537/how-to-select-a-drop-down-menu-value-with-selenium-using-python\n",
    "\n",
    "waiting for page load\n",
    "https://stackoverflow.com/questions/26566799/wait-until-page-is-loaded-with-selenium-webdriver-for-python\n",
    "https://www.browserstack.com/guide/selenium-wait-for-page-to-load\n",
    "https://www.askpython.com/python/examples/python-wait-for-a-specific-time\n",
    "\n",
    "\n",
    "\n",
    "1. run loop for the column until the end of the row where NoSuchEl exception is trigger\n",
    "2. have the outer loop move to the next column\n",
    "3. run loop for the column until the end of the row where NoSuchEl exception is trigger\n",
    "4. continue until last column which which will tirgger another no such elem exception\n",
    "5. have selenium click the next page (third outer loop)\n",
    "6. repeat steps 1-4 until an error is triggered which stops all looping\n",
    "7. clean up text and send to mySQL db\n"
   ]
  },
  {
   "cell_type": "markdown",
   "metadata": {},
   "source": [
    "Header start and end xpaths, use this for the outer loop\n",
    "Start: //*[@id=\"pagedResults\"]/div[2]/table/thead/tr/th[1]\n",
    "End: //*[@id=\"pagedResults\"]/div[2]/table/thead/tr/th[17]\n",
    "\n",
    "Row 1, col 1\n",
    "//*[@id=\"pagedResults\"]/div[2]/table/tbody/tr[1]/td[1]\n",
    "\n",
    "Ro1 1, col 2\n",
    "//*[@id=\"pagedResults\"]/div[2]/table/tbody/tr[1]/td[2]"
   ]
  },
  {
   "cell_type": "code",
   "execution_count": 208,
   "metadata": {},
   "outputs": [],
   "source": [
    "from selenium import webdriver\n",
    "#from selenium.webdriver.common.keys import Keys\n",
    "from selenium.webdriver.support.ui import Select\n",
    "from selenium.common.exceptions import NoSuchElementException\n",
    "from selenium.webdriver.support.ui import WebDriverWait\n",
    "from selenium.webdriver.support import expected_conditions as EC\n",
    "from selenium.webdriver.common.by import By\n",
    "from selenium.common.exceptions import TimeoutException\n",
    "#from collections import defaultdict\n",
    "import time\n",
    "import pandas as pd"
   ]
  },
  {
   "cell_type": "code",
   "execution_count": 199,
   "metadata": {},
   "outputs": [],
   "source": [
    "driver = webdriver.Chrome(r\"C:/Users/Charlie/Documents/GitHub/chromedriver.exe\")"
   ]
  },
  {
   "cell_type": "code",
   "execution_count": 200,
   "metadata": {},
   "outputs": [],
   "source": [
    "url = 'https://results.svetiming.com/Santa-Cruz-Triathlon/events/2021/Santa-Cruz-Triathlon/results'\n",
    "driver.get(url)"
   ]
  },
  {
   "cell_type": "code",
   "execution_count": null,
   "metadata": {},
   "outputs": [],
   "source": [
    "page_num_data = driver.find_element_by_xpath('//*[@id=\"pagedResults\"]/div[1]/div[2]/div/div/span[2]') #look up how many pages\n",
    "page_num_text = page_num_data.text\n",
    "page_num_list = page_num_text.split(\" \")\n",
    "page_num = int(page_num_list[1])\n",
    "print(page_num)\n",
    "\n",
    "page_num = 2 #overide for debugging\n",
    "olympic = dict.fromkeys(['Bib','Name', 'Team Name', 'City', 'Start Time', 'Swim', 'T1', 'Bike', 'T2', 'Run', 'Chip Elapsed', 'Division', 'Div Place', 'Age', 'Age Place', 'Gender', 'Gender Place'])\n",
    "delay = 5\n",
    "\n",
    "print(type(olympic[\"Bike\"]))\n",
    "\n",
    "for page in range(0,page_num):\n",
    "    i = 1\n",
    "    print(page)\n",
    "    for key in olympic:\n",
    "        rows = []\n",
    "        for r in range(1,55):\n",
    "            try:\n",
    "                rows.append(driver.find_element_by_xpath('//*[@id=\"pagedResults\"]/div[2]/table/tbody/tr[' + str(r) + ']/td[' + str(i) + ']').text)\n",
    "                #print(rows)\n",
    "            except  NoSuchElementException:\n",
    "                #print('nse')\n",
    "                break\n",
    "        if olympic[key] is None:\n",
    "            olympic[key]=rows\n",
    "        else:\n",
    "            olympic[key].append(rows)\n",
    "        i=i+1\n",
    "    #click to the next page of records\n",
    "    print(\"im clicking\")\n",
    "    apply = driver.find_element_by_xpath('//*[@id=\"pagedResults\"]/div[1]/div[2]/ul/li[3]/a')\n",
    "    apply.click()\n",
    "    print(\"im waiting\")\n",
    "    #driver.implicitly_wait(10)\n",
    "    time.sleep(5)\n",
    "    print(\"done waiting\")\n",
    "\n",
    "       \n",
    "\n",
    "print(olympic)"
   ]
  },
  {
   "cell_type": "code",
   "execution_count": null,
   "metadata": {},
   "outputs": [],
   "source": [
    "#get the data for the sprint\n",
    "\n",
    "catagory = Select(driver.find_element_by_id('SelectedDivisionName'))\n",
    "catagory.select_by_visible_text('SPRINT-AGE GROUP')\n",
    "\n",
    "apply = driver.find_element_by_xpath('//*[@id=\"searchEventResults\"]/div/div/span/button')\n",
    "apply.click()"
   ]
  },
  {
   "cell_type": "code",
   "execution_count": null,
   "metadata": {},
   "outputs": [],
   "source": [
    "event_dict2 = dict.fromkeys(['Bib','Name', 'Team Name', 'City', 'Start Time', 'Swim', 'T1', 'Bike', 'T2', 'Run', 'Chip Elapsed', 'Division', 'Div Place', 'Age', 'Age Place', 'Gender', 'Gender Place'])\n",
    "\n",
    "\n",
    "i = 1\n",
    "for key in event_dict2:\n",
    "    rows = []\n",
    "    for r in range(1,55):\n",
    "        try:\n",
    "            rows.append(driver.find_element_by_xpath('//*[@id=\"pagedResults\"]/div[2]/table/tbody/tr[' + str(r) + ']/td[' + str(i) + ']').text)\n",
    "            #print(rows)\n",
    "        except  NoSuchElementException:\n",
    "            #print('nse')\n",
    "            break\n",
    "    event_dict2[key]=rows\n",
    "    i=i+1\n",
    "\n",
    "\n",
    "\n",
    "\n",
    "\n",
    "print(event_dict2)"
   ]
  },
  {
   "cell_type": "code",
   "execution_count": null,
   "metadata": {},
   "outputs": [],
   "source": [
    "    try:\n",
    "        myElem = WebDriverWait(driver, delay).until(EC.presence_of_element_located((By.XPATH, '//*[@id=\"pagedResults\"]/div[2]/table/thead/tr/th[1]')))\n",
    "        print (\"Page is ready!\")\n",
    "    except TimeoutException:\n",
    "        print (\"Loading took too much time!\")\n"
   ]
  }
 ],
 "metadata": {
  "interpreter": {
   "hash": "109c97d19a338056cdf4abe9c54b25f1208393da3a14093d2fe719bfd0bdff89"
  },
  "kernelspec": {
   "display_name": "Python 3.8.8 64-bit ('base': conda)",
   "language": "python",
   "name": "python3"
  },
  "language_info": {
   "codemirror_mode": {
    "name": "ipython",
    "version": 3
   },
   "file_extension": ".py",
   "mimetype": "text/x-python",
   "name": "python",
   "nbconvert_exporter": "python",
   "pygments_lexer": "ipython3",
   "version": "3.8.8"
  },
  "orig_nbformat": 4
 },
 "nbformat": 4,
 "nbformat_minor": 2
}
