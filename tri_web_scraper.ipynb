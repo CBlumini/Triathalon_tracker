{
 "cells": [
  {
   "cell_type": "markdown",
   "metadata": {},
   "source": [
    "https://towardsdatascience.com/how-to-use-selenium-to-web-scrape-with-example-80f9b23a843a\n",
    "https://www.browserstack.com/guide/find-element-by-xpath-in-selenium\n",
    "https://stackoverflow.com/questions/3030487/is-there-a-way-to-get-the-xpath-in-google-chrome\n",
    "https://www.guru99.com/selenium-webtable.html\n",
    "https://stackoverflow.com/questions/19200497/python-selenium-webscraping-nosuchelementexception-not-recognized\n",
    "\n",
    "\n",
    "USe try and catch exceptions to stop iterating and go to the next page or line\n",
    "https://www.scrapingbee.com/blog/selenium-python/\n",
    "\n",
    "\n",
    "1: run loop for the column until the end of the row where NoSuchEl exception is trigger\n",
    "2: have the outer loop move to the next column\n",
    "3: run loop for the column until the end of the row where NoSuchEl exception is trigger\n",
    "4: continue until last column which which will tirgger another no such elem exception\n",
    "5: have selenium click the next page (third outer loop)\n",
    "6: repeat steps 1-4 until an error is triggered which stops all looping\n",
    "7: clean up text and send to mySQL db\n"
   ]
  },
  {
   "cell_type": "markdown",
   "metadata": {},
   "source": [
    "Header start and end xpaths, use this for the outer loop\n",
    "Start: //*[@id=\"pagedResults\"]/div[2]/table/thead/tr/th[1]\n",
    "End: //*[@id=\"pagedResults\"]/div[2]/table/thead/tr/th[17]\n",
    "\n",
    "Row 1, col 1\n",
    "//*[@id=\"pagedResults\"]/div[2]/table/tbody/tr[1]/td[1]\n",
    "\n",
    "Ro1 1, col 2\n",
    "//*[@id=\"pagedResults\"]/div[2]/table/tbody/tr[1]/td[2]"
   ]
  },
  {
   "cell_type": "code",
   "execution_count": 118,
   "metadata": {},
   "outputs": [],
   "source": [
    "from selenium import webdriver\n",
    "from selenium.webdriver.common.keys import Keys\n",
    "from selenium.common.exceptions import NoSuchElementException\n",
    "import pandas as pd"
   ]
  },
  {
   "cell_type": "code",
   "execution_count": 119,
   "metadata": {},
   "outputs": [],
   "source": [
    "driver = webdriver.Chrome(r\"C:/Users/Charlie/Documents/GitHub/chromedriver.exe\")"
   ]
  },
  {
   "cell_type": "code",
   "execution_count": 120,
   "metadata": {},
   "outputs": [],
   "source": [
    "url = 'https://results.svetiming.com/Santa-Cruz-Triathlon/events/2021/Santa-Cruz-Triathlon/results'\n",
    "driver.get(url)"
   ]
  },
  {
   "cell_type": "code",
   "execution_count": 121,
   "metadata": {},
   "outputs": [],
   "source": [
    "header = driver.find_element_by_xpath('//*[@id=\"pagedResults\"]/div[2]/table/thead/tr/th[1]')\n",
    "#elem = driver.find_element(by.XPATH,'/html/body/div[2]/div[2]/div[2]/div[3]/div[2]/div[1]/div[2]/div/div/div[2]/table/thead/tr/th[1]').text\n",
    "#text = driver.find_elements_by_class_name(\"text-overflow-ellipsis\").text\n",
    "#name = driver.find_element_by_xpath('/html/body/div[2]/div[2]/div[2]/div[3]/div[2]/div[1]/div[2]/div/div/div[2]/table/tbody/tr[1]/td[2]/a/text()')\n",
    "winners = driver.find_elements_by_xpath('//tr[@class = \"overAllWinner clickable\"]')\n",
    "losers = driver.find_elements_by_xpath('//tr[@class = \"clickable\"]')\n",
    "acell = driver.find_element_by_xpath('//*[@id=\"pagedResults\"]/div[2]/table/tbody/tr[50]/td[1]/span')\n",
    "#use the NoSuchElementException to stop iterating and move on to the next column\n",
    "#run loop for the column until the end of the row where NoSuchEl exception is trigger\n",
    "#have the outer loop move to the next colum"
   ]
  },
  {
   "cell_type": "code",
   "execution_count": 122,
   "metadata": {},
   "outputs": [
    {
     "name": "stdout",
     "output_type": "stream",
     "text": [
      "//*[@id=\"pagedResults\"]/div[2]/table/tbody/tr[1]/td[1]\n",
      "//*[@id=\"pagedResults\"]/div[2]/table/tbody/tr[2]/td[1]\n",
      "//*[@id=\"pagedResults\"]/div[2]/table/tbody/tr[3]/td[1]\n",
      "//*[@id=\"pagedResults\"]/div[2]/table/tbody/tr[4]/td[1]\n"
     ]
    }
   ],
   "source": [
    "for i in range(1,5):\n",
    "    print('//*[@id=\"pagedResults\"]/div[2]/table/tbody/tr[' + str(i) + ']/td[1]')"
   ]
  },
  {
   "cell_type": "code",
   "execution_count": 133,
   "metadata": {},
   "outputs": [
    {
     "name": "stdout",
     "output_type": "stream",
     "text": [
      "{'Bib': ['815', '564', '389', '141', '644', '665', '612', '182', '260', '211', '546', '723', '85', '699', '84', '494', '268', '426', '458', '72', '509', '399', '136', '398', '316', '107', '344', '352', '720', '335', '479', '13', '828', '752', '350', '34', '823', '655', '453', '833', '830', '562', '496', '146', '553', '694', '364', '473', '446', '594'], 'Name': ['DOMINIC POLLIZZI', 'STEFANO PROFUMO', 'BRIAN LAVELLE', 'BRANTON CURT', 'JIMMY SOPKO', 'JAMIE SULLIVAN', 'YUTARO SANO', 'BLAINE EGAN', 'ANNA GUZMAN', 'RONAN FOUCHER', 'NATHAN PERRY', 'MATTHEW WAN', 'MILES CAMERON', 'KEES VAN DER MEER', 'ANDY CAHOY', 'CAMERON NAWOSAD', 'BRIAN HAMPTON', 'GAVIN LYNCH', 'SVEN MAWSON', 'LEO BUC', 'MARK OFOSU', 'BENJAMIN YVES LELEVIER MARTINEZ', 'PAUL COUSINEAU', 'JARNO LEKKERKERKER', 'JOHN HUTCHINSON', 'MIKE CHEN', 'JAMES KELLEY', 'MICHAEL KIEDEL', 'ANDREY VYRVICH', 'SEAN JUDKINS-BOERI', 'CHRISTOPHER MISHIMA', 'MIKE ALLEN', 'SARAH ANNE KIETZER', 'MATTHEW XUEREB', 'PATRICK KENNY', 'TROY BARBA', 'DENNIS VANDERMEER', 'KURT STIEHL', 'ANDREW MASON', 'TREVOR TAYLOR', 'CATHERINE BREED', 'EMIL PRAUN', 'MEGHAN NESBIT', 'LIAM DAVIS', 'SIARGEY PISARCHYK', 'SEAN UPSON', 'BEN KORTLANG', 'WILLIE MENDELSON', 'BARRETT MARTIN', 'VILEN RODESKI'], 'Team Name': ['', 'SANTA CRUZ TRACK CLUB', '', '', 'TEEM SHEEPER', 'TEEM SHEEPER', '', 'HANSYM RACING', '', 'KIWAMI RACING', '', '', 'NORTHWESTERN TRIATHLON CLUB', '', '', '', '', '', 'TRIFORCE', '', '', 'JOBY AVIATION', '', 'TEAM ZOOT', 'TRI GRIT', 'SILICON VALLEY TRIATHLON CLUB', '', '', 'GOLDEN GATE TRI CLUB', 'GOLDEN GATE TRI CLUB', 'GOLDEN GATE TRI CLUB', '', '', '', 'GOLDEN GATE TRI CLUB', 'HINGE HEALTH', 'VAN DER MEER RACING', '', '', 'KAIN PERFORMANCE', '', '', '', 'NA', 'TRIFORCE CA', '', '', '', '', 'KAIN PERFORMANCE'], 'City': ['ROCKLIN', 'SANTA CRUZ', 'RIO DEL MAR', 'CAMPBELL', 'MENLO PARK', 'MENLO PARK', 'MILL VALLEY', 'SAN FRANCISCO', 'SAN JOSE', 'REDWOOD CITY', '', 'WILSON', 'RENO', 'SANTA CRUZ', 'PORTOLA VALLY', 'MOUNTAIN VIW', 'MOUNTAIN VIEW', '', 'WOODSIDE', 'UKIAH', 'DAVIS', 'TEMPE', 'BURLINGAME', 'CUPERTINO', 'SAN RAFAEL', 'PALO ALTO', 'BRENTWOOD', 'PALOMAR PARK', 'SAN FRANCISCO', 'SAN FRANCISCO', 'EL CERRITO', 'LIVERMORE', 'SANTA CRUZ', 'SAN CARLOS', 'SAN FRANCISCO', 'CUPERTINO', 'SANTA CRUZ', 'LOS GATOS', 'APTOS', 'LOS GATOS', 'MILL VALLEY', 'UNION CITY', 'SACRAMENTO', 'CHICO', 'SUNNYVALE', 'HAYWARD', 'PORTOLA VALLY', 'BOSTON', 'MONTEREY', 'SANTA CLARA'], 'Start Time': ['08:00:00', '08:20:00', '08:25:00', '08:10:00', '08:10:00', '08:00:00', '08:10:00', '08:20:00', '08:05:00', '08:10:00', '08:00:00', '08:00:00', '08:00:00', '08:00:00', '08:10:00', '08:00:00', '08:20:00', '08:00:00', '08:20:00', '08:10:00', '08:00:00', '08:00:00', '08:30:00', '08:25:00', '08:20:00', '08:10:00', '08:00:00', '08:25:00', '08:10:00', '08:00:00', '08:10:00', '08:10:00', '08:05:00', '08:00:00', '08:10:00', '08:25:00', '08:00:00', '08:10:00', '08:10:00', '08:25:00', '08:05:00', '08:25:00', '08:05:00', '08:00:00', '08:20:00', '08:00:00', '08:25:00', '08:00:00', '08:10:00', '08:10:00'], 'Swim': ['00:23:50', '00:23:21', '00:20:21', '00:23:37', '00:24:30', '00:23:51', '00:21:38', '00:24:07', '00:21:30', '00:26:02', '00:20:07', '00:24:01', '00:23:27', '00:22:04', '00:27:10', '00:26:39', '00:25:30', '00:23:53', '00:22:30', '00:27:37', '00:25:19', '00:26:35', '00:21:22', '00:28:37', '00:25:47', '00:28:30', '00:23:22', '00:19:52', '00:26:44', '00:25:28', '00:28:05', '00:28:12', '00:21:03', '00:27:29', '00:28:30', '00:28:02', '00:28:07', '00:28:14', '00:25:50', '00:26:58', '00:19:00', '00:26:57', '00:24:22', '00:00:00', '00:28:53', '00:26:25', '00:28:09', '00:23:31', '00:32:07', '00:32:50'], 'T1': ['00:02:32', '00:02:35', '00:02:55', '00:04:01', '00:03:16', '00:03:52', '00:03:08', '00:03:33', '00:05:41', '00:04:02', '00:03:21', '00:03:53', '00:03:56', '00:03:41', '00:02:51', '00:03:37', '00:03:51', '00:04:51', '00:05:03', '00:03:33', '00:03:41', '00:03:00', '00:04:57', '00:03:36', '00:03:02', '00:03:49', '00:03:08', '00:04:28', '00:04:32', '00:03:55', '00:01:40', '00:05:01', '00:03:36', '00:03:35', '00:03:40', '00:04:07', '00:03:49', '00:03:50', '00:04:59', '00:03:54', '00:03:05', '00:03:20', '00:03:19', '00:00:00', '00:04:26', '00:04:58', '00:03:42', '00:05:56', '00:05:16', '00:01:29'], 'Bike': ['00:58:38', '01:02:51', '01:04:28', '01:00:03', '01:03:13', '01:09:47', '01:07:34', '01:04:51', '01:06:27', '01:03:54', '01:12:00', '01:11:09', '01:07:46', '01:12:25', '01:08:49', '01:06:15', '01:06:43', '01:08:37', '01:08:13', '01:05:06', '01:10:54', '01:12:23', '01:10:19', '01:05:01', '01:08:31', '01:07:44', '01:10:04', '01:08:40', '01:07:02', '01:09:36', '01:06:44', '01:07:37', '01:13:42', '01:10:24', '01:10:45', '01:08:36', '00:00:00', '01:09:05', '01:08:57', '01:07:41', '01:13:37', '01:07:02', '01:14:09', '01:38:44', '01:11:36', '01:13:17', '01:10:09', '01:09:37', '01:08:36', '01:05:39'], 'T2': ['00:01:05', '00:00:59', '00:00:44', '00:01:04', '00:01:33', '00:00:54', '00:01:05', '00:01:36', '00:01:20', '00:01:16', '00:00:59', '00:01:20', '00:01:07', '00:00:44', '00:00:49', '00:01:35', '00:00:56', '00:01:04', '00:00:43', '00:00:57', '00:00:52', '00:01:24', '00:02:31', '00:01:16', '00:00:49', '00:00:58', '00:00:56', '00:00:46', '00:01:05', '00:01:16', '00:00:56', '00:01:50', '00:01:00', '00:01:22', '00:01:32', '00:01:32', '00:00:00', '00:01:13', '00:01:38', '00:01:29', '00:00:52', '00:01:11', '00:00:56', '00:01:20', '00:01:03', '00:01:24', '00:01:19', '00:01:37', '00:01:29', '00:01:00'], 'Run': ['00:37:12', '00:36:08', '00:39:26', '00:41:49', '00:38:15', '00:34:11', '00:39:47', '00:39:47', '00:39:07', '00:40:31', '00:39:30', '00:35:51', '00:40:33', '00:38:01', '00:37:20', '00:39:07', '00:40:20', '00:39:44', '00:43:19', '00:42:53', '00:39:38', '00:37:24', '00:41:41', '00:42:31', '00:42:52', '00:40:17', '00:43:51', '00:47:42', '00:42:11', '00:41:45', '00:44:40', '00:40:37', '00:44:08', '00:40:50', '00:39:18', '00:42:02', '02:24:21', '00:41:59', '00:43:00', '00:44:30', '00:48:05', '00:46:14', '00:42:01', '00:44:52', '00:39:18', '00:39:29', '00:42:15', '00:45:18', '00:39:04', '00:45:46'], 'Chip Elapsed': ['02:03:19', '02:05:56', '02:07:55', '02:10:37', '02:10:49', '02:12:38', '02:13:15', '02:13:54', '02:14:07', '02:15:48', '02:16:00', '02:16:16', '02:16:51', '02:16:57', '02:17:02', '02:17:15', '02:17:22', '02:18:11', '02:19:49', '02:20:08', '02:20:26', '02:20:48', '02:20:52', '02:21:03', '02:21:03', '02:21:22', '02:21:22', '02:21:29', '02:21:36', '02:22:01', '02:22:07', '02:23:20', '02:23:31', '02:23:42', '02:23:47', '02:24:21', '02:24:21', '02:24:23', '02:24:26', '02:24:34', '02:24:40', '02:24:46', '02:24:50', '02:24:57', '02:25:17', '02:25:35', '02:25:37', '02:26:02', '02:26:34', '02:26:46'], 'Division': ['OLYMPIC-AGE GROUP', 'OLYMPIC-AGE GROUP', 'OLYMPIC-AGE GROUP', 'OLYMPIC-AGE GROUP', 'OLYMPIC-AGE GROUP', 'OLYMPIC-AGE GROUP', 'OLYMPIC-AGE GROUP', 'OLYMPIC-AGE GROUP', 'OLYMPIC-AGE GROUP', 'OLYMPIC-AGE GROUP', 'OLYMPIC-AGE GROUP', 'OLYMPIC-AGE GROUP', 'OLYMPIC-AGE GROUP', 'OLYMPIC-AGE GROUP', 'OLYMPIC-AGE GROUP', 'OLYMPIC-AGE GROUP', 'OLYMPIC-AGE GROUP', 'OLYMPIC-AGE GROUP', 'OLYMPIC-AGE GROUP', 'OLYMPIC-AGE GROUP', 'OLYMPIC-AGE GROUP', 'OLYMPIC-AGE GROUP', 'OLYMPIC-AGE GROUP', 'OLYMPIC-AGE GROUP', 'OLYMPIC-AGE GROUP', 'OLYMPIC-AGE GROUP', 'OLYMPIC-AGE GROUP', 'OLYMPIC-AGE GROUP', 'OLYMPIC-AGE GROUP', 'OLYMPIC-AGE GROUP', 'OLYMPIC-AGE GROUP', 'OLYMPIC-AGE GROUP', 'OLYMPIC-AGE GROUP', 'OLYMPIC-AGE GROUP', 'OLYMPIC-AGE GROUP', 'OLYMPIC-AGE GROUP', 'OLYMPIC-AGE GROUP', 'OLYMPIC-AGE GROUP', 'OLYMPIC-AGE GROUP', 'OLYMPIC-AGE GROUP', 'OLYMPIC-AGE GROUP', 'OLYMPIC-AGE GROUP', 'OLYMPIC-AGE GROUP', 'OLYMPIC-AGE GROUP', 'OLYMPIC-AGE GROUP', 'OLYMPIC-AGE GROUP', 'OLYMPIC-AGE GROUP', 'OLYMPIC-AGE GROUP', 'OLYMPIC-AGE GROUP', 'OLYMPIC-AGE GROUP'], 'Div Place': ['1', '2', '3', '4', '5', '6', '7', '8', '9', '10', '11', '12', '13', '14', '15', '16', '17', '18', '19', '20', '21', '22', '23', '24', '25', '26', '27', '28', '29', '30', '31', '32', '33', '34', '35', '36', '37', '38', '39', '40', '41', '42', '43', '44', '45', '46', '47', '48', '49', '50'], 'Age': ['20', '43', '46', '35', '39', '26', '33', '40', '32', '39', '15', '23', '23', '15', '35', '26', '41', '17', '44', '37', '29', '26', '50', '45', '43', '30', '23', '46', '37', '29', '32', '32', '29', '29', '31', '45', '58', '37', '38', '49', '28', '46', '26', '21', '41', '28', '46', '29', '32', '39'], 'Age Place': ['O/A', 'O/A', 'O/A', '1', '2', '1', '1', '1', 'O/A', '3', '1', '1', '2', '2', '4', '2', '2', '3', '3', '5', '3', '4', '1', '1', '4', '2', '3', '2', '6', '5', '3', '4', 'O/A', '6', '5', '3', '1', '7', '8', '4', 'O/A', '5', '1', '4', '5', '7', '6', '8', '6', '9'], 'Gender': ['M', 'M', 'M', 'M', 'M', 'M', 'M', 'M', 'F', 'M', 'M', 'M', 'M', 'M', 'M', 'M', 'M', 'M', 'M', 'M', 'M', 'M', 'M', 'M', 'M', 'M', 'M', 'M', 'M', 'M', 'M', 'M', 'F', 'M', 'M', 'M', 'M', 'M', 'M', 'M', 'F', 'M', 'F', 'M', 'M', 'M', 'M', 'M', 'M', 'M'], 'Gender Place': ['1', '2', '3', '4', '5', '6', '7', '8', '1', '9', '10', '11', '12', '13', '14', '15', '16', '17', '18', '19', '20', '21', '22', '23', '24', '25', '26', '27', '28', '29', '30', '31', '2', '32', '33', '34', '35', '36', '37', '38', '3', '39', '4', '40', '41', '42', '43', '44', '45', '46']}\n"
     ]
    }
   ],
   "source": [
    "event_dict = dict.fromkeys(['Bib','Name', 'Team Name', 'City', 'Start Time', 'Swim', 'T1', 'Bike', 'T2', 'Run', 'Chip Elapsed', 'Division', 'Div Place', 'Age', 'Age Place', 'Gender', 'Gender Place'])\n",
    "\n",
    "\n",
    "i = 1\n",
    "for key in event_dict:\n",
    "    rows = []\n",
    "    for r in range(1,55):\n",
    "        try:\n",
    "            rows.append(driver.find_element_by_xpath('//*[@id=\"pagedResults\"]/div[2]/table/tbody/tr[' + str(r) + ']/td[' + str(i) + ']').text)\n",
    "            #print(rows)\n",
    "        except  NoSuchElementException:\n",
    "            #print('nse')\n",
    "            break\n",
    "    event_dict[key]=rows\n",
    "    i=i+1\n",
    "\n",
    "\n",
    "\n",
    "\n",
    "\n",
    "print(event_dict)"
   ]
  },
  {
   "cell_type": "code",
   "execution_count": 124,
   "metadata": {},
   "outputs": [
    {
     "name": "stdout",
     "output_type": "stream",
     "text": [
      "the inner is 1 the outer is 1\n",
      "the inner is 2 the outer is 1\n",
      "the inner is 3 the outer is 1\n",
      "the inner is 4 the outer is 1\n",
      "the inner is 5 the outer is 1\n",
      "the inner is 6 the outer is 1\n",
      "the inner is 7 the outer is 1\n",
      "the inner is 8 the outer is 1\n",
      "the inner is 9 the outer is 1\n",
      "the inner is 1 the outer is 2\n",
      "the inner is 2 the outer is 2\n",
      "the inner is 3 the outer is 2\n",
      "the inner is 4 the outer is 2\n",
      "the inner is 5 the outer is 2\n",
      "the inner is 6 the outer is 2\n",
      "the inner is 7 the outer is 2\n",
      "the inner is 8 the outer is 2\n",
      "the inner is 9 the outer is 2\n",
      "the inner is 1 the outer is 3\n",
      "the inner is 2 the outer is 3\n",
      "the inner is 3 the outer is 3\n",
      "the inner is 4 the outer is 3\n",
      "the inner is 5 the outer is 3\n",
      "the inner is 6 the outer is 3\n",
      "the inner is 7 the outer is 3\n",
      "the inner is 8 the outer is 3\n",
      "the inner is 9 the outer is 3\n",
      "the inner is 1 the outer is 4\n",
      "the inner is 2 the outer is 4\n",
      "the inner is 3 the outer is 4\n",
      "the inner is 4 the outer is 4\n",
      "the inner is 5 the outer is 4\n",
      "the inner is 6 the outer is 4\n",
      "the inner is 7 the outer is 4\n",
      "the inner is 8 the outer is 4\n",
      "the inner is 9 the outer is 4\n",
      "the inner is 1 the outer is 5\n",
      "the inner is 2 the outer is 5\n",
      "the inner is 3 the outer is 5\n",
      "the inner is 4 the outer is 5\n",
      "the inner is 5 the outer is 5\n",
      "the inner is 6 the outer is 5\n",
      "the inner is 7 the outer is 5\n",
      "the inner is 8 the outer is 5\n",
      "the inner is 9 the outer is 5\n",
      "the inner is 1 the outer is 6\n",
      "the inner is 2 the outer is 6\n",
      "the inner is 3 the outer is 6\n",
      "the inner is 4 the outer is 6\n",
      "the inner is 5 the outer is 6\n",
      "the inner is 6 the outer is 6\n",
      "the inner is 7 the outer is 6\n",
      "the inner is 8 the outer is 6\n",
      "the inner is 9 the outer is 6\n",
      "the inner is 1 the outer is 7\n",
      "the inner is 2 the outer is 7\n",
      "the inner is 3 the outer is 7\n",
      "the inner is 4 the outer is 7\n",
      "the inner is 5 the outer is 7\n",
      "the inner is 6 the outer is 7\n",
      "the inner is 7 the outer is 7\n",
      "the inner is 8 the outer is 7\n",
      "the inner is 9 the outer is 7\n",
      "the inner is 1 the outer is 8\n",
      "the inner is 2 the outer is 8\n",
      "the inner is 3 the outer is 8\n",
      "the inner is 4 the outer is 8\n",
      "the inner is 5 the outer is 8\n",
      "the inner is 6 the outer is 8\n",
      "the inner is 7 the outer is 8\n",
      "the inner is 8 the outer is 8\n",
      "the inner is 9 the outer is 8\n",
      "the inner is 1 the outer is 9\n",
      "the inner is 2 the outer is 9\n",
      "the inner is 3 the outer is 9\n",
      "the inner is 4 the outer is 9\n",
      "the inner is 5 the outer is 9\n",
      "the inner is 6 the outer is 9\n",
      "the inner is 7 the outer is 9\n",
      "the inner is 8 the outer is 9\n",
      "the inner is 9 the outer is 9\n"
     ]
    }
   ],
   "source": [
    "for i in range (1,10):\n",
    "    for k in range (1,10):\n",
    "        print(\"the inner is \" + str(k) + \" the outer is \" + str(i))"
   ]
  },
  {
   "cell_type": "code",
   "execution_count": 125,
   "metadata": {},
   "outputs": [],
   "source": [
    "    while success:\n",
    "        try:\n",
    "            rows.append(driver.find_element_by_xpath('//*[@id=\"pagedResults\"]/div[2]/table/tbody/tr[' + str(r) + ']/td[' + str(col) + ']').text)\n",
    "            #print(acell.text)\n",
    "            r=r+1\n",
    "            print(col)\n",
    "        except  NoSuchElementException:\n",
    "            success = False"
   ]
  }
 ],
 "metadata": {
  "interpreter": {
   "hash": "109c97d19a338056cdf4abe9c54b25f1208393da3a14093d2fe719bfd0bdff89"
  },
  "kernelspec": {
   "display_name": "Python 3.8.8 64-bit ('base': conda)",
   "language": "python",
   "name": "python3"
  },
  "language_info": {
   "codemirror_mode": {
    "name": "ipython",
    "version": 3
   },
   "file_extension": ".py",
   "mimetype": "text/x-python",
   "name": "python",
   "nbconvert_exporter": "python",
   "pygments_lexer": "ipython3",
   "version": "3.8.8"
  },
  "orig_nbformat": 4
 },
 "nbformat": 4,
 "nbformat_minor": 2
}
