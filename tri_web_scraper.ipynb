{
 "cells": [
  {
   "cell_type": "markdown",
   "metadata": {},
   "source": [
    "https://towardsdatascience.com/how-to-use-selenium-to-web-scrape-with-example-80f9b23a843a\n",
    "https://www.browserstack.com/guide/find-element-by-xpath-in-selenium\n",
    "https://stackoverflow.com/questions/3030487/is-there-a-way-to-get-the-xpath-in-google-chrome\n",
    "https://www.guru99.com/selenium-webtable.html\n",
    "https://stackoverflow.com/questions/19200497/python-selenium-webscraping-nosuchelementexception-not-recognized\n",
    "\n",
    "\n",
    "USe try and catch exceptions to stop iterating and go to the next page or line\n",
    "https://www.scrapingbee.com/blog/selenium-python/\n",
    "\n",
    "Selecting from a dropdown\n",
    "https://stackoverflow.com/questions/7867537/how-to-select-a-drop-down-menu-value-with-selenium-using-python\n",
    "\n",
    "waiting for page load\n",
    "https://stackoverflow.com/questions/26566799/wait-until-page-is-loaded-with-selenium-webdriver-for-python\n",
    "\n",
    "\n",
    "1: run loop for the column until the end of the row where NoSuchEl exception is trigger\n",
    "2: have the outer loop move to the next column\n",
    "3: run loop for the column until the end of the row where NoSuchEl exception is trigger\n",
    "4: continue until last column which which will tirgger another no such elem exception\n",
    "5: have selenium click the next page (third outer loop)\n",
    "6: repeat steps 1-4 until an error is triggered which stops all looping\n",
    "7: clean up text and send to mySQL db\n"
   ]
  },
  {
   "cell_type": "markdown",
   "metadata": {},
   "source": [
    "Header start and end xpaths, use this for the outer loop\n",
    "Start: //*[@id=\"pagedResults\"]/div[2]/table/thead/tr/th[1]\n",
    "End: //*[@id=\"pagedResults\"]/div[2]/table/thead/tr/th[17]\n",
    "\n",
    "Row 1, col 1\n",
    "//*[@id=\"pagedResults\"]/div[2]/table/tbody/tr[1]/td[1]\n",
    "\n",
    "Ro1 1, col 2\n",
    "//*[@id=\"pagedResults\"]/div[2]/table/tbody/tr[1]/td[2]"
   ]
  },
  {
   "cell_type": "code",
   "execution_count": 208,
   "metadata": {},
   "outputs": [],
   "source": [
    "from selenium import webdriver\n",
    "#from selenium.webdriver.common.keys import Keys\n",
    "from selenium.webdriver.support.ui import Select\n",
    "from selenium.common.exceptions import NoSuchElementException\n",
    "from selenium.webdriver.support.ui import WebDriverWait\n",
    "from selenium.webdriver.support import expected_conditions as EC\n",
    "from selenium.webdriver.common.by import By\n",
    "from selenium.common.exceptions import TimeoutException\n",
    "from collections import defaultdict\n",
    "import time\n",
    "import pandas as pd"
   ]
  },
  {
   "cell_type": "code",
   "execution_count": 199,
   "metadata": {},
   "outputs": [],
   "source": [
    "driver = webdriver.Chrome(r\"C:/Users/Charlie/Documents/GitHub/chromedriver.exe\")"
   ]
  },
  {
   "cell_type": "code",
   "execution_count": 200,
   "metadata": {},
   "outputs": [],
   "source": [
    "url = 'https://results.svetiming.com/Santa-Cruz-Triathlon/events/2021/Santa-Cruz-Triathlon/results'\n",
    "driver.get(url)"
   ]
  },
  {
   "cell_type": "code",
   "execution_count": 201,
   "metadata": {},
   "outputs": [
    {
     "data": {
      "text/plain": [
       "'Bib'"
      ]
     },
     "execution_count": 201,
     "metadata": {},
     "output_type": "execute_result"
    }
   ],
   "source": [
    "header = driver.find_element_by_xpath('//*[@id=\"pagedResults\"]/div[2]/table/thead/tr/th[1]')\n",
    "header.text\n"
   ]
  },
  {
   "cell_type": "code",
   "execution_count": 202,
   "metadata": {},
   "outputs": [
    {
     "name": "stdout",
     "output_type": "stream",
     "text": [
      "14\n"
     ]
    }
   ],
   "source": [
    "page_num_data = driver.find_element_by_xpath('//*[@id=\"pagedResults\"]/div[1]/div[2]/div/div/span[2]')\n",
    "page_num_text = page_num_data.text\n",
    "page_num_list = page_num_text.split(\" \")\n",
    "page_num = int(page_num_list[1])\n",
    "print(page_num)\n"
   ]
  },
  {
   "cell_type": "code",
   "execution_count": 203,
   "metadata": {},
   "outputs": [],
   "source": [
    "apply = driver.find_element_by_xpath('//*[@id=\"pagedResults\"]/div[1]/div[2]/ul/li[3]/a')\n",
    "apply.click()"
   ]
  },
  {
   "cell_type": "code",
   "execution_count": 216,
   "metadata": {},
   "outputs": [
    {
     "name": "stdout",
     "output_type": "stream",
     "text": [
      "14\n",
      "<class 'NoneType'>\n",
      "0\n",
      "im clicking\n",
      "im waiting\n",
      "done waiting\n",
      "1\n",
      "im clicking\n",
      "im waiting\n",
      "done waiting\n",
      "{'Bib': ['815', '564', '389', '141', '644', '665', '612', '182', '260', '211', '546', '723', '85', '699', '84', '494', '268', '426', '458', '72', '509', '399', '136', '398', '316', '107', '344', '352', '720', '335', '479', '13', '828', '752', '350', '34', '823', '655', '453', '833', '830', '562', '496', '146', '553', '694', '364', '473', '446', '594', ['690', '836', '584', '291', '101', '649', '236', '597', '153', '475', '706', '492', '737', '540', '827', '375', '280', '123', '209', '661', '294', '744', '432', '831', '196', '681', '708', '178', '527', '315', '711', '829', '284', '267', '631', '113', '811', '657', '276', '465', '382', '166', '164', '579', '551', '763', '705', '513', '692', '674']], 'Name': ['DOMINIC POLLIZZI', 'STEFANO PROFUMO', 'BRIAN LAVELLE', 'BRANTON CURT', 'JIMMY SOPKO', 'JAMIE SULLIVAN', 'YUTARO SANO', 'BLAINE EGAN', 'ANNA GUZMAN', 'RONAN FOUCHER', 'NATHAN PERRY', 'MATTHEW WAN', 'MILES CAMERON', 'KEES VAN DER MEER', 'ANDY CAHOY', 'CAMERON NAWOSAD', 'BRIAN HAMPTON', 'GAVIN LYNCH', 'SVEN MAWSON', 'LEO BUC', 'MARK OFOSU', 'BENJAMIN YVES LELEVIER MARTINEZ', 'PAUL COUSINEAU', 'JARNO LEKKERKERKER', 'JOHN HUTCHINSON', 'MIKE CHEN', 'JAMES KELLEY', 'MICHAEL KIEDEL', 'ANDREY VYRVICH', 'SEAN JUDKINS-BOERI', 'CHRISTOPHER MISHIMA', 'MIKE ALLEN', 'SARAH ANNE KIETZER', 'MATTHEW XUEREB', 'PATRICK KENNY', 'TROY BARBA', 'DENNIS VANDERMEER', 'KURT STIEHL', 'ANDREW MASON', 'TREVOR TAYLOR', 'CATHERINE BREED', 'EMIL PRAUN', 'MEGHAN NESBIT', 'LIAM DAVIS', 'SIARGEY PISARCHYK', 'SEAN UPSON', 'BEN KORTLANG', 'WILLIE MENDELSON', 'BARRETT MARTIN', 'VILEN RODESKI', ['CLEMENT TUSSIOT', 'THORNTON WEILER', 'JUSTIN RICE', 'ANDREW HELMS', 'MITCHELL CHANCELLOR', 'COLE SPOONER', 'PAUL GIRAUD', 'HAL ROONEY', 'NICOLAS DELECROIX', 'THYS MICHELS', 'LUC VANTALON', 'JIMMY NAM', 'KATHY WINKLER', 'ELYSSA PEDOTE', 'DAVE LEROY', 'ZOE LAM', 'THOMAS HATHAWAY', 'JEFF COLLINS', 'MARC FLORES', 'TREVOR STRINGER', 'THOMAS HERGET', 'AARON WOOD', 'JOHN MADDEN', 'SETH WILKIE', 'LUCA FASOLI', 'JORGE TIRADO', 'JOSHUA VASQUEZ', 'JIMMY DWORKIN', 'SUSAN PARKINSON', 'ERIC HULBURD', 'KENZO VELASQUEZ', 'DOUGLAS MADGIC', 'STEVEN HE', 'RYAN HAMMON', 'CHRISTIAN SIMONSEN', 'IAN CHRISTIE', 'KELLY TRAN', 'MAXIME STINNETT', 'RAELEIGH HARRIS', 'SCOTT MCINTYRE', 'DAVID LANGHALS', 'MATTHEW DOLPH', 'SHANE DOLAN', 'JAMES REINHART', 'AJ PHILLIPS', 'ZACK ZIMBALIST', 'JEAN-FRANCOIS VANREUSEL', 'NICHOLAI OLSON', 'KIMI UEDA', 'TYLER TATE']], 'Team Name': ['', 'SANTA CRUZ TRACK CLUB', '', '', 'TEEM SHEEPER', 'TEEM SHEEPER', '', 'HANSYM RACING', '', 'KIWAMI RACING', '', '', 'NORTHWESTERN TRIATHLON CLUB', '', '', '', '', '', 'TRIFORCE', '', '', 'JOBY AVIATION', '', 'TEAM ZOOT', 'TRI GRIT', 'SILICON VALLEY TRIATHLON CLUB', '', '', 'GOLDEN GATE TRI CLUB', 'GOLDEN GATE TRI CLUB', 'GOLDEN GATE TRI CLUB', '', '', '', 'GOLDEN GATE TRI CLUB', 'HINGE HEALTH', 'VAN DER MEER RACING', '', '', 'KAIN PERFORMANCE', '', '', '', 'NA', 'TRIFORCE CA', '', '', '', '', 'KAIN PERFORMANCE', ['GOLDEN GATE TRI CLUB', 'EAST BAY TRIATHLON CLUB EBTC', 'TRI-ACTIVE ENDURANCE', 'SUMMIT BICYCLES', 'WOLFPACK', 'BANANA TRIATHLETES', '', 'KAIN PERFORMANCE', '', '', 'SANTA CRUZ TRIATHLON ASSOCIATION', '', 'TRIFINITI', 'THE OLYMPIC CLUB', '', '', 'TRIATHLON CLUB OF MONTEREY', 'CAL TRIATHLON', '', '', 'TEEM SHEEPER', '', 'ALL-MADDEN TRI CLUB', '', '', 'TEAM ZOOT', 'LA TRI CLUB', 'SILICON VALLEY TRIATHLON CLUB', 'HUNDOP', 'OAKLAND TRIATHLON CLUB', 'GOLDEN GATE TRI CLUB', '', 'GOLDEN GATE TRI CLUB', '', '', 'SUMMIT BICYCLES', 'GOLDEN GATE TRI CLUB', 'TRI-ACTIVE ENDURANCE', 'ETPA', 'MCINTYRE', '', '', 'GOLDEN GATE TRI CLUB', '', '', '', 'KELP KRAWLERS', '', 'GOLDEN GATE TRI CLUB', '']], 'City': ['ROCKLIN', 'SANTA CRUZ', 'RIO DEL MAR', 'CAMPBELL', 'MENLO PARK', 'MENLO PARK', 'MILL VALLEY', 'SAN FRANCISCO', 'SAN JOSE', 'REDWOOD CITY', '', 'WILSON', 'RENO', 'SANTA CRUZ', 'PORTOLA VALLY', 'MOUNTAIN VIW', 'MOUNTAIN VIEW', '', 'WOODSIDE', 'UKIAH', 'DAVIS', 'TEMPE', 'BURLINGAME', 'CUPERTINO', 'SAN RAFAEL', 'PALO ALTO', 'BRENTWOOD', 'PALOMAR PARK', 'SAN FRANCISCO', 'SAN FRANCISCO', 'EL CERRITO', 'LIVERMORE', 'SANTA CRUZ', 'SAN CARLOS', 'SAN FRANCISCO', 'CUPERTINO', 'SANTA CRUZ', 'LOS GATOS', 'APTOS', 'LOS GATOS', 'MILL VALLEY', 'UNION CITY', 'SACRAMENTO', 'CHICO', 'SUNNYVALE', 'HAYWARD', 'PORTOLA VALLY', 'BOSTON', 'MONTEREY', 'SANTA CLARA', ['SAN FRANCISCO', 'ALAMEDA', 'UNION CITY', 'SANTA CRUZ', 'SAN JOSE', 'MOUNTAIN VIEW', 'SAN FRANCISCO', 'SAN JOSE', 'SANTA CLARA', 'SARATOGA', 'SANTA CRUZ', 'NOVATO', 'MILL VALLEY', 'SAN GABRIEL', 'LOS GATOS', 'LOS GATOS', 'MONTEREY', 'CARMEL VALLEY', 'FOLSOM', 'SAN JOSE', 'MENLO PARK', 'MOUNTAIN VIEW', 'EMERALD HILLS', '', 'CAMPBELL', 'SAN JUAN', 'LONG BEACH', 'MOUNTAIN VIEW', 'EL CERRITO', 'OAKLAND', 'SAN FRANCISCO', 'SAN MATEO', 'SAN FRANCISCO', 'BEL TIBURON', 'MORGAN HILL', 'SANTA CRUZ', 'SAN FRANCISCO', 'OAKLAND', 'TRUCKEE', 'FAIR OAKS', 'SEATTLE', 'SEATTLE', 'SAN FRANCISCO', 'SANTA CRUZ', 'STANFORD', 'WASHINGTON', 'PEBBLE BEACH', 'SANTA CRUZ', 'SAN FRANCISCO', 'SAN FRANCISCO']], 'Start Time': ['08:00:00', '08:20:00', '08:25:00', '08:10:00', '08:10:00', '08:00:00', '08:10:00', '08:20:00', '08:05:00', '08:10:00', '08:00:00', '08:00:00', '08:00:00', '08:00:00', '08:10:00', '08:00:00', '08:20:00', '08:00:00', '08:20:00', '08:10:00', '08:00:00', '08:00:00', '08:30:00', '08:25:00', '08:20:00', '08:10:00', '08:00:00', '08:25:00', '08:10:00', '08:00:00', '08:10:00', '08:10:00', '08:05:00', '08:00:00', '08:10:00', '08:25:00', '08:00:00', '08:10:00', '08:10:00', '08:25:00', '08:05:00', '08:25:00', '08:05:00', '08:00:00', '08:20:00', '08:00:00', '08:25:00', '08:00:00', '08:10:00', '08:10:00', ['08:10:00', '08:30:00', '08:10:00', '08:10:00', '08:10:00', '08:00:00', '08:00:00', '08:30:00', '08:10:00', '08:10:00', '08:30:00', '08:30:00', '08:15:00', '08:05:00', '08:30:00', '08:05:00', '08:10:00', '08:20:00', '08:25:00', '08:20:00', '08:30:00', '08:00:00', '08:20:00', '08:00:00', '08:30:00', '08:00:00', '08:10:00', '08:30:00', '08:15:00', '08:10:00', '08:00:00', '08:30:00', '08:10:00', '08:10:00', '08:00:00', '08:10:00', '08:05:00', '08:10:00', '08:15:00', '08:30:00', '08:10:00', '08:10:00', '08:10:00', '08:20:00', '08:00:00', '08:10:00', '08:30:00', '08:10:00', '08:15:00', '08:10:00']], 'Swim': ['00:23:50', '00:23:21', '00:20:21', '00:23:37', '00:24:30', '00:23:51', '00:21:38', '00:24:07', '00:21:30', '00:26:02', '00:20:07', '00:24:01', '00:23:27', '00:22:04', '00:27:10', '00:26:39', '00:25:30', '00:23:53', '00:22:30', '00:27:37', '00:25:19', '00:26:35', '00:21:22', '00:28:37', '00:25:47', '00:28:30', '00:23:22', '00:19:52', '00:26:44', '00:25:28', '00:28:05', '00:28:12', '00:21:03', '00:27:29', '00:28:30', '00:28:02', '00:28:07', '00:28:14', '00:25:50', '00:26:58', '00:19:00', '00:26:57', '00:24:22', '00:00:00', '00:28:53', '00:26:25', '00:28:09', '00:23:31', '00:32:07', '00:32:50', ['00:28:42', '00:24:30', '00:30:14', '00:26:39', '00:33:02', '00:28:38', '00:25:29', '00:30:15', '00:27:20', '00:17:27', '00:23:09', '00:25:07', '00:25:01', '00:22:03', '00:26:04', '00:24:06', '00:28:01', '00:25:34', '00:37:09', '00:27:36', '00:29:26', '00:23:39', '00:25:54', '00:48:25', '00:29:24', '00:23:41', '00:30:44', '00:23:48', '00:25:48', '00:26:56', '00:25:07', '00:29:32', '00:31:02', '00:27:05', '00:29:09', '00:35:53', '00:27:10', '00:28:10', '00:29:29', '00:28:32', '00:24:37', '00:31:19', '00:30:09', '00:28:08', '00:27:48', '00:24:00', '00:30:20', '00:26:25', '00:30:49', '00:29:22']], 'T1': ['00:02:32', '00:02:35', '00:02:55', '00:04:01', '00:03:16', '00:03:52', '00:03:08', '00:03:33', '00:05:41', '00:04:02', '00:03:21', '00:03:53', '00:03:56', '00:03:41', '00:02:51', '00:03:37', '00:03:51', '00:04:51', '00:05:03', '00:03:33', '00:03:41', '00:03:00', '00:04:57', '00:03:36', '00:03:02', '00:03:49', '00:03:08', '00:04:28', '00:04:32', '00:03:55', '00:01:40', '00:05:01', '00:03:36', '00:03:35', '00:03:40', '00:04:07', '00:03:49', '00:03:50', '00:04:59', '00:03:54', '00:03:05', '00:03:20', '00:03:19', '00:00:00', '00:04:26', '00:04:58', '00:03:42', '00:05:56', '00:05:16', '00:01:29', ['00:04:07', '00:04:23', '00:04:06', '00:03:44', '00:01:50', '00:03:11', '00:03:30', '00:04:50', '00:05:58', '00:05:14', '00:03:30', '00:03:56', '00:04:12', '00:04:01', '00:03:19', '00:03:43', '00:05:45', '00:03:11', '00:01:38', '00:05:36', '00:04:11', '00:04:22', '00:04:03', '00:20:50', '00:04:04', '00:04:18', '00:04:10', '00:04:23', '00:03:29', '00:05:26', '00:05:08', '00:04:03', '00:04:22', '00:04:18', '00:03:52', '00:03:52', '00:04:01', '00:04:29', '00:04:43', '00:06:01', '00:06:35', '00:04:40', '00:03:56', '00:05:14', '00:05:54', '00:04:38', '00:04:20', '00:05:34', '00:04:19', '00:05:31']], 'Bike': ['00:58:38', '01:02:51', '01:04:28', '01:00:03', '01:03:13', '01:09:47', '01:07:34', '01:04:51', '01:06:27', '01:03:54', '01:12:00', '01:11:09', '01:07:46', '01:12:25', '01:08:49', '01:06:15', '01:06:43', '01:08:37', '01:08:13', '01:05:06', '01:10:54', '01:12:23', '01:10:19', '01:05:01', '01:08:31', '01:07:44', '01:10:04', '01:08:40', '01:07:02', '01:09:36', '01:06:44', '01:07:37', '01:13:42', '01:10:24', '01:10:45', '01:08:36', '00:00:00', '01:09:05', '01:08:57', '01:07:41', '01:13:37', '01:07:02', '01:14:09', '01:38:44', '01:11:36', '01:13:17', '01:10:09', '01:09:37', '01:08:36', '01:05:39', ['01:10:54', '01:11:18', '01:08:47', '01:10:24', '01:05:42', '01:11:16', '01:14:34', '01:06:45', '01:19:29', '01:12:16', '01:09:05', '01:12:23', '01:12:45', '01:13:54', '01:12:20', '01:13:48', '01:14:05', '01:12:54', '01:10:23', '01:07:05', '01:08:32', '01:14:19', '01:10:21', '00:47:09', '01:14:41', '01:14:00', '01:11:11', '01:11:58', '01:15:12', '01:12:29', '01:13:32', '01:13:15', '01:13:07', '01:13:34', '01:15:37', '01:05:21', '01:13:42', '01:15:14', '01:11:33', '01:11:12', '01:16:12', '01:16:30', '01:16:01', '01:15:09', '01:13:11', '01:19:18', '01:12:59', '01:18:51', '01:08:50', '01:09:19']], 'T2': ['00:01:05', '00:00:59', '00:00:44', '00:01:04', '00:01:33', '00:00:54', '00:01:05', '00:01:36', '00:01:20', '00:01:16', '00:00:59', '00:01:20', '00:01:07', '00:00:44', '00:00:49', '00:01:35', '00:00:56', '00:01:04', '00:00:43', '00:00:57', '00:00:52', '00:01:24', '00:02:31', '00:01:16', '00:00:49', '00:00:58', '00:00:56', '00:00:46', '00:01:05', '00:01:16', '00:00:56', '00:01:50', '00:01:00', '00:01:22', '00:01:32', '00:01:32', '00:00:00', '00:01:13', '00:01:38', '00:01:29', '00:00:52', '00:01:11', '00:00:56', '00:01:20', '00:01:03', '00:01:24', '00:01:19', '00:01:37', '00:01:29', '00:01:00', ['00:01:15', '00:01:34', '00:01:08', '00:01:24', '00:02:25', '00:01:10', '00:01:14', '00:01:54', '00:02:25', '00:01:13', '00:01:27', '00:00:50', '00:01:16', '00:00:58', '00:01:17', '00:01:14', '00:02:07', '00:00:52', '00:01:21', '00:02:27', '00:01:04', '00:01:12', '00:02:25', '00:01:35', '00:01:06', '00:01:21', '00:01:58', '00:01:02', '00:00:49', '00:03:16', '00:01:11', '00:00:58', '00:01:00', '00:01:52', '00:00:51', '00:01:07', '00:01:06', '00:01:32', '00:01:29', '00:01:46', '00:02:37', '00:02:15', '00:01:36', '00:01:29', '00:02:11', '00:00:53', '00:01:23', '00:01:24', '00:01:43', '00:01:49']], 'Run': ['00:37:12', '00:36:08', '00:39:26', '00:41:49', '00:38:15', '00:34:11', '00:39:47', '00:39:47', '00:39:07', '00:40:31', '00:39:30', '00:35:51', '00:40:33', '00:38:01', '00:37:20', '00:39:07', '00:40:20', '00:39:44', '00:43:19', '00:42:53', '00:39:38', '00:37:24', '00:41:41', '00:42:31', '00:42:52', '00:40:17', '00:43:51', '00:47:42', '00:42:11', '00:41:45', '00:44:40', '00:40:37', '00:44:08', '00:40:50', '00:39:18', '00:42:02', '02:24:21', '00:41:59', '00:43:00', '00:44:30', '00:48:05', '00:46:14', '00:42:01', '00:44:52', '00:39:18', '00:39:29', '00:42:15', '00:45:18', '00:39:04', '00:45:46', ['00:41:53', '00:45:16', '00:42:46', '00:45:02', '00:44:16', '00:43:06', '00:42:42', '00:44:16', '00:32:47', '00:51:56', '00:51:12', '00:46:16', '00:45:20', '00:47:39', '00:45:44', '00:45:58', '00:39:16', '00:46:51', '00:38:56', '00:47:16', '00:46:46', '00:46:34', '00:48:09', '00:32:55', '00:41:51', '00:47:47', '00:43:26', '00:50:19', '00:46:14', '00:43:34', '00:46:46', '00:44:07', '00:42:28', '00:45:13', '00:42:49', '00:46:26', '00:47:04', '00:43:48', '00:45:59', '00:45:44', '00:43:15', '00:38:34', '00:41:43', '00:43:25', '00:44:28', '00:44:49', '00:44:46', '00:41:50', '00:48:23', '00:48:06']], 'Chip Elapsed': ['02:03:19', '02:05:56', '02:07:55', '02:10:37', '02:10:49', '02:12:38', '02:13:15', '02:13:54', '02:14:07', '02:15:48', '02:16:00', '02:16:16', '02:16:51', '02:16:57', '02:17:02', '02:17:15', '02:17:22', '02:18:11', '02:19:49', '02:20:08', '02:20:26', '02:20:48', '02:20:52', '02:21:03', '02:21:03', '02:21:22', '02:21:22', '02:21:29', '02:21:36', '02:22:01', '02:22:07', '02:23:20', '02:23:31', '02:23:42', '02:23:47', '02:24:21', '02:24:21', '02:24:23', '02:24:26', '02:24:34', '02:24:40', '02:24:46', '02:24:50', '02:24:57', '02:25:17', '02:25:35', '02:25:37', '02:26:02', '02:26:34', '02:26:46', ['02:26:52', '02:27:02', '02:27:03', '02:27:15', '02:27:17', '02:27:23', '02:27:32', '02:28:01', '02:28:02', '02:28:07', '02:28:25', '02:28:34', '02:28:36', '02:28:37', '02:28:46', '02:28:51', '02:29:16', '02:29:25', '02:29:28', '02:30:01', '02:30:02', '02:30:07', '02:30:54', '02:30:55', '02:31:08', '02:31:08', '02:31:32', '02:31:32', '02:31:34', '02:31:44', '02:31:47', '02:31:57', '02:32:01', '02:32:05', '02:32:20', '02:32:42', '02:33:04', '02:33:14', '02:33:16', '02:33:18', '02:33:18', '02:33:19', '02:33:26', '02:33:28', '02:33:34', '02:33:40', '02:33:50', '02:34:06', '02:34:06', '02:34:09']], 'Division': ['OLYMPIC-AGE GROUP', 'OLYMPIC-AGE GROUP', 'OLYMPIC-AGE GROUP', 'OLYMPIC-AGE GROUP', 'OLYMPIC-AGE GROUP', 'OLYMPIC-AGE GROUP', 'OLYMPIC-AGE GROUP', 'OLYMPIC-AGE GROUP', 'OLYMPIC-AGE GROUP', 'OLYMPIC-AGE GROUP', 'OLYMPIC-AGE GROUP', 'OLYMPIC-AGE GROUP', 'OLYMPIC-AGE GROUP', 'OLYMPIC-AGE GROUP', 'OLYMPIC-AGE GROUP', 'OLYMPIC-AGE GROUP', 'OLYMPIC-AGE GROUP', 'OLYMPIC-AGE GROUP', 'OLYMPIC-AGE GROUP', 'OLYMPIC-AGE GROUP', 'OLYMPIC-AGE GROUP', 'OLYMPIC-AGE GROUP', 'OLYMPIC-AGE GROUP', 'OLYMPIC-AGE GROUP', 'OLYMPIC-AGE GROUP', 'OLYMPIC-AGE GROUP', 'OLYMPIC-AGE GROUP', 'OLYMPIC-AGE GROUP', 'OLYMPIC-AGE GROUP', 'OLYMPIC-AGE GROUP', 'OLYMPIC-AGE GROUP', 'OLYMPIC-AGE GROUP', 'OLYMPIC-AGE GROUP', 'OLYMPIC-AGE GROUP', 'OLYMPIC-AGE GROUP', 'OLYMPIC-AGE GROUP', 'OLYMPIC-AGE GROUP', 'OLYMPIC-AGE GROUP', 'OLYMPIC-AGE GROUP', 'OLYMPIC-AGE GROUP', 'OLYMPIC-AGE GROUP', 'OLYMPIC-AGE GROUP', 'OLYMPIC-AGE GROUP', 'OLYMPIC-AGE GROUP', 'OLYMPIC-AGE GROUP', 'OLYMPIC-AGE GROUP', 'OLYMPIC-AGE GROUP', 'OLYMPIC-AGE GROUP', 'OLYMPIC-AGE GROUP', 'OLYMPIC-AGE GROUP', ['OLYMPIC-AGE GROUP', 'OLYMPIC-AGE GROUP', 'OLYMPIC-AGE GROUP', 'OLYMPIC-AGE GROUP', 'OLYMPIC-AGE GROUP', 'OLYMPIC-AGE GROUP', 'OLYMPIC-AGE GROUP', 'OLYMPIC-AGE GROUP', 'OLYMPIC-AGE GROUP', 'OLYMPIC-AGE GROUP', 'OLYMPIC-AGE GROUP', 'OLYMPIC-AGE GROUP', 'OLYMPIC-AGE GROUP', 'OLYMPIC-AGE GROUP', 'OLYMPIC-AGE GROUP', 'OLYMPIC-AGE GROUP', 'OLYMPIC-AGE GROUP', 'OLYMPIC-AGE GROUP', 'OLYMPIC-AGE GROUP', 'OLYMPIC-AGE GROUP', 'OLYMPIC-AGE GROUP', 'OLYMPIC-AGE GROUP', 'OLYMPIC-AGE GROUP', 'OLYMPIC-AGE GROUP', 'OLYMPIC-AGE GROUP', 'OLYMPIC-AGE GROUP', 'OLYMPIC-AGE GROUP', 'OLYMPIC-AGE GROUP', 'OLYMPIC-AGE GROUP', 'OLYMPIC-AGE GROUP', 'OLYMPIC-AGE GROUP', 'OLYMPIC-AGE GROUP', 'OLYMPIC-AGE GROUP', 'OLYMPIC-AGE GROUP', 'OLYMPIC-AGE GROUP', 'OLYMPIC-AGE GROUP', 'OLYMPIC-AGE GROUP', 'OLYMPIC-AGE GROUP', 'OLYMPIC-AGE GROUP', 'OLYMPIC-AGE GROUP', 'OLYMPIC-AGE GROUP', 'OLYMPIC-AGE GROUP', 'OLYMPIC-AGE GROUP', 'OLYMPIC-AGE GROUP', 'OLYMPIC-AGE GROUP', 'OLYMPIC-AGE GROUP', 'OLYMPIC-AGE GROUP', 'OLYMPIC-AGE GROUP', 'OLYMPIC-AGE GROUP', 'OLYMPIC-AGE GROUP']], 'Div Place': ['1', '2', '3', '4', '5', '6', '7', '8', '9', '10', '11', '12', '13', '14', '15', '16', '17', '18', '19', '20', '21', '22', '23', '24', '25', '26', '27', '28', '29', '30', '31', '32', '33', '34', '35', '36', '37', '38', '39', '40', '41', '42', '43', '44', '45', '46', '47', '48', '49', '50', ['51', '52', '53', '54', '55', '56', '57', '58', '59', '60', '61', '62', '63', '64', '65', '66', '67', '68', '69', '70', '71', '72', '73', '74', '75', '76', '77', '78', '79', '80', '81', '82', '83', '84', '85', '86', '87', '88', '89', '90', '91', '92', '93', '94', '95', '96', '97', '98', '99', '100']], 'Age': ['20', '43', '46', '35', '39', '26', '33', '40', '32', '39', '15', '23', '23', '15', '35', '26', '41', '17', '44', '37', '29', '26', '50', '45', '43', '30', '23', '46', '37', '29', '32', '32', '29', '29', '31', '45', '58', '37', '38', '49', '28', '46', '26', '21', '41', '28', '46', '29', '32', '39', ['38', '56', '33', '35', '32', '27', '23', '64', '37', '36', '56', '53', '55', '28', '58', '23', '34', '44', '49', '42', '63', '23', '44', '23', '53', '27', '31', '54', '44', '35', '24', '55', '34', '37', '29', '34', '32', '31', '50', '61', '30', '31', '30', '42', '23', '36', '52', '31', '47', '34']], 'Age Place': ['O/A', 'O/A', 'O/A', '1', '2', '1', '1', '1', 'O/A', '3', '1', '1', '2', '2', '4', '2', '2', '3', '3', '5', '3', '4', '1', '1', '4', '2', '3', '2', '6', '5', '3', '4', 'O/A', '6', '5', '3', '1', '7', '8', '4', 'O/A', '5', '1', '4', '5', '7', '6', '8', '6', '9', ['10', '2', '7', '11', '8', '9', '5', '1', '12', '13', '3', '2', '1', '2', '4', '1', '9', '6', '7', '7', '2', '6', '8', '7', '3', '10', '10', '4', '1', '14', '8', '5', '11', '15', '11', '12', '1', '13', '1', '3', '14', '15', '16', '9', '9', '16', '5', '17', '1', '18']], 'Gender': ['M', 'M', 'M', 'M', 'M', 'M', 'M', 'M', 'F', 'M', 'M', 'M', 'M', 'M', 'M', 'M', 'M', 'M', 'M', 'M', 'M', 'M', 'M', 'M', 'M', 'M', 'M', 'M', 'M', 'M', 'M', 'M', 'F', 'M', 'M', 'M', 'M', 'M', 'M', 'M', 'F', 'M', 'F', 'M', 'M', 'M', 'M', 'M', 'M', 'M', ['M', 'M', 'M', 'M', 'M', 'M', 'M', 'M', 'M', 'M', 'M', 'M', 'F', 'F', 'M', 'F', 'M', 'M', 'M', 'M', 'M', 'M', 'M', 'M', 'M', 'M', 'M', 'M', 'F', 'M', 'M', 'M', 'M', 'M', 'M', 'M', 'F', 'M', 'F', 'M', 'M', 'M', 'M', 'M', 'M', 'M', 'M', 'M', 'F', 'M']], 'Gender Place': ['1', '2', '3', '4', '5', '6', '7', '8', '1', '9', '10', '11', '12', '13', '14', '15', '16', '17', '18', '19', '20', '21', '22', '23', '24', '25', '26', '27', '28', '29', '30', '31', '2', '32', '33', '34', '35', '36', '37', '38', '3', '39', '4', '40', '41', '42', '43', '44', '45', '46', ['47', '48', '49', '50', '51', '52', '53', '54', '55', '56', '57', '58', '5', '6', '59', '7', '60', '61', '62', '63', '64', '65', '66', '67', '68', '69', '70', '71', '8', '72', '73', '74', '75', '76', '77', '78', '9', '79', '10', '80', '81', '82', '83', '84', '85', '86', '87', '88', '11', '89']]}\n"
     ]
    }
   ],
   "source": [
    "page_num_data = driver.find_element_by_xpath('//*[@id=\"pagedResults\"]/div[1]/div[2]/div/div/span[2]')\n",
    "page_num_text = page_num_data.text\n",
    "page_num_list = page_num_text.split(\" \")\n",
    "page_num = int(page_num_list[1])\n",
    "print(page_num)\n",
    "\n",
    "page_num = 2 #overide for debugging\n",
    "olympic = dict.fromkeys(['Bib','Name', 'Team Name', 'City', 'Start Time', 'Swim', 'T1', 'Bike', 'T2', 'Run', 'Chip Elapsed', 'Division', 'Div Place', 'Age', 'Age Place', 'Gender', 'Gender Place'])\n",
    "delay = 5\n",
    "\n",
    "print(type(olympic[\"Bike\"]))\n",
    "\n",
    "for page in range(0,page_num):\n",
    "    i = 1\n",
    "    print(page)\n",
    "    for key in olympic:\n",
    "        rows = []\n",
    "        for r in range(1,55):\n",
    "            try:\n",
    "                rows.append(driver.find_element_by_xpath('//*[@id=\"pagedResults\"]/div[2]/table/tbody/tr[' + str(r) + ']/td[' + str(i) + ']').text)\n",
    "                #print(rows)\n",
    "            except  NoSuchElementException:\n",
    "                #print('nse')\n",
    "                break\n",
    "        if olympic[key] is None:\n",
    "            olympic[key]=rows\n",
    "        else:\n",
    "            olympic[key].append(rows)\n",
    "        i=i+1\n",
    "    print(\"im clicking\")\n",
    "    apply = driver.find_element_by_xpath('//*[@id=\"pagedResults\"]/div[1]/div[2]/ul/li[3]/a')\n",
    "    apply.click()\n",
    "    print(\"im waiting\")\n",
    "    #driver.implicitly_wait(10)\n",
    "    time.sleep(5)\n",
    "    print(\"done waiting\")\n",
    "\n",
    "       \n",
    "\n",
    "\n",
    "\n",
    "\n",
    "    \n",
    "\n",
    "\n",
    "\n",
    "\n",
    "\n",
    "print(olympic)"
   ]
  },
  {
   "cell_type": "code",
   "execution_count": null,
   "metadata": {},
   "outputs": [],
   "source": [
    "catagory = Select(driver.find_element_by_id('SelectedDivisionName'))\n",
    "catagory.select_by_visible_text('SPRINT-AGE GROUP')\n",
    "\n",
    "apply = driver.find_element_by_xpath('//*[@id=\"searchEventResults\"]/div/div/span/button')\n",
    "apply.click()"
   ]
  },
  {
   "cell_type": "code",
   "execution_count": null,
   "metadata": {},
   "outputs": [
    {
     "name": "stdout",
     "output_type": "stream",
     "text": [
      "{'Bib': ['1051', '978', '924', '1187', '943', '1103', '1146', '1138', '1218', '995', '1123', '1198', '998', '1105', '985', '1015', '990', '1020', '982', '1189', '1182', '1264', '1259', '1132', '1039', '1256', '1010', '1184', '1141', '1243', '1282', '1006', '1163', '979', '1112', '905', '1030', '1061', '946', '913', '1183', '1261', '1159', '1221', '1179', '1048', '971', '1085', '804', '1137'], 'Name': ['MANUEL HUECKEL', 'TYLER CURRAN', 'BRIAN BERGER', 'CLAY ROBBINS', 'ANDREW BUNNER', 'PHILIP LIMA', 'KEVIN NEWHOUSE', 'CALEB MONTICALVO', 'JASON SMYTH', 'BRYCE DUGGAN', 'TED MCKLVEEN', 'JASON SCHROEDL', 'EHREN ELDER', 'JAMES LINDHOLM', 'WADE DELANEY', 'ARTEM GASSAN', 'ROBERT DICK', 'RODNEY GOMEZ', 'MALCOLM DE SIEYES', 'ARIEH ROSENBAUM', 'KYLE RADICH', 'BRIAN WALL', 'NICO VANDERMEER', 'GEORGE MIRGORODSKIY', 'CHRISTINA HEPPER', 'KEVIN TROCK', 'JUSTIN FOXWORTHY', 'SAWYER RANDLES', 'ADAM MOYER', 'VLADIMIR TETELBAUM', 'JOHN WOODMAN', 'JAMIE FEND', 'HUGO PEREZ', 'JAMES DAVIDSON', 'ALEXANDRA LUZI', 'GREGORY ANDERSON', 'SUMI HACHMANN', 'JORDAN IGLESIAS', 'DENISE BUTLER', 'SHARON BARCLAY', 'NICHOLAS RAIMONDI', 'THIBAUT VANTALON', 'AMY PEARSON', 'JAMES SOMERVILLE', 'CARSTEN PULS', 'SAM HORNER', 'MICHAEL CRAMER', 'NOEL KOSIEK', 'SCOTT CUYJET', 'CORTLIN MONTICALVO'], 'Team Name': ['TEAM WY55', '', 'GOLD COUNTRY TRIATHLON CLUB', '', '', '', 'TCMTRISQUAD', '', '', '', '', '', 'OAKLAND TRIATHLON CLUB', 'TRIATHLON CLUB OF MONTEREY', '', 'SF TRI CLUB', '', '', '', 'TRI GRIT', '', '', '', '', '', '', '', '', '', '', '', 'SANTA CRUZ TRIATHLON ASSOCIATION', '', '', '', 'AVOUT RACING', 'TEEM SHEEPER', 'SAWYERS DAD', '', 'EAST BAY TRIATHLON CLUB EBTC', '', '', 'TRI GRIT', '', 'TCMTRISQUAD', '', '', 'TRI GRIT', 'TRIPLE THREATS', ''], 'City': ['SAN FRANCISCO', 'WHITE PLAINS', 'LINCOLN', 'REDWOOD CITY', 'BELMONT', 'WATSONVILLE', 'APTOS', 'DUBLIN', 'APTOS', '', 'SAN FRANCISCO', 'PORTOLA VALLEY', 'PALO ALTO', 'CARMEL', 'COSTA MESA', 'BELMONT', 'SAN ANSELMO', 'SANTA CLARA', 'NAPA', 'SAN ANSELMO', '', 'LARKFIELD-WIKIUP', '', '', 'MORGAN HILL', 'FREMONT', 'SAN JOSE', 'REDWOOD CITY', 'SAN MATEO', 'REDWOOD CITY', 'SAN FRANCISCO', 'APTOS', 'CAMPBELL', 'PORTOLA VALLEY', 'SAN FRANCISCO', 'EMERALD HILLS', 'MENLO PARK', 'CONCORD', 'MOUNTAIN VIEW', 'ALAMEDA', 'FREMONT', 'SANTA CRUZ', 'MILL VALLEY', 'REDWOOD CITY', 'SAN MATEO', 'SAN JOSE', 'LOS ALTOS', 'SAN RAFAEL', 'SAN FRANCISCO', ''], 'Start Time': ['09:35:00', '09:35:00', '09:35:00', '09:35:00', '09:40:00', '09:35:00', '09:40:00', '09:35:00', '09:35:00', '09:35:00', '09:35:00', '09:40:00', '09:35:00', '09:40:00', '09:35:00', '09:40:00', '09:40:00', '09:35:00', '09:35:00', '09:40:00', '09:35:00', '09:35:00', '09:35:00', '09:35:00', '09:45:00', '09:40:00', '09:40:00', '09:35:00', '09:40:00', '09:40:00', '09:35:00', '09:45:00', '09:40:00', '09:35:00', '09:45:00', '09:40:00', '09:45:00', '09:35:00', '09:45:00', '09:45:00', '09:35:00', '09:35:00', '09:45:00', '09:35:00', '09:40:00', '09:35:00', '09:35:00', '09:45:00', '09:40:00', '09:35:00'], 'Swim': ['00:10:11', '00:09:28', '00:09:33', '00:11:30', '00:11:46', '00:13:10', '00:11:38', '00:13:10', '00:12:23', '00:13:32', '00:13:56', '00:11:36', '00:13:53', '00:11:30', '00:11:11', '00:14:34', '00:13:54', '00:13:33', '00:14:04', '00:15:45', '00:12:13', '00:13:32', '00:10:09', '00:13:19', '00:14:00', '00:11:07', '00:15:06', '00:12:18', '00:14:48', '00:15:28', '00:12:55', '00:15:14', '00:16:41', '00:13:12', '00:12:50', '00:12:04', '00:14:16', '00:13:44', '00:12:34', '00:14:31', '00:11:02', '00:11:13', '00:13:30', '00:12:43', '00:14:05', '00:12:50', '00:14:05', '00:13:34', '00:16:30', '00:13:58'], 'T1': ['00:03:08', '00:02:59', '00:03:53', '00:03:42', '00:03:49', '00:03:42', '00:03:38', '00:03:53', '00:04:25', '00:03:11', '00:04:41', '00:04:39', '00:04:08', '00:04:22', '00:03:59', '00:03:30', '00:03:51', '00:04:38', '00:01:27', '00:04:21', '00:03:46', '00:04:41', '00:03:32', '00:04:42', '00:04:15', '00:04:09', '00:04:10', '00:05:02', '00:04:42', '00:04:32', '00:07:07', '00:04:14', '00:05:55', '00:05:22', '00:06:41', '00:04:56', '00:04:40', '00:04:23', '00:04:37', '00:04:26', '00:04:35', '00:05:29', '00:04:29', '00:07:08', '00:03:54', '00:05:13', '00:05:57', '00:04:21', '00:05:23', '00:05:37'], 'Bike': ['00:31:19', '00:31:42', '00:33:12', '00:34:03', '00:33:34', '00:32:58', '00:36:34', '00:34:21', '00:34:29', '00:34:53', '00:34:43', '00:36:54', '00:34:08', '00:36:19', '00:36:10', '00:34:59', '00:34:06', '00:34:35', '00:36:23', '00:35:10', '00:36:41', '00:37:11', '00:42:51', '00:37:57', '00:36:02', '00:38:57', '00:35:48', '00:39:46', '00:35:59', '00:35:59', '00:38:59', '00:38:08', '00:33:21', '00:37:53', '00:38:04', '00:38:47', '00:38:36', '00:39:56', '00:40:08', '00:36:13', '00:39:04', '00:42:58', '00:39:00', '00:38:14', '00:37:58', '00:39:32', '00:40:43', '00:39:03', '00:41:23', '00:38:18'], 'T2': ['00:00:44', '00:00:52', '00:01:25', '00:01:37', '00:01:06', '00:00:54', '00:01:00', '00:01:20', '00:01:13', '00:01:08', '00:01:22', '00:00:59', '00:01:09', '00:01:12', '00:01:24', '00:01:28', '00:01:27', '00:01:32', '00:01:31', '00:01:38', '00:00:39', '00:01:57', '00:00:36', '00:01:05', '00:01:20', '00:01:02', '00:01:04', '00:01:28', '00:01:24', '00:01:39', '00:01:46', '00:01:20', '00:01:57', '00:01:21', '00:01:48', '00:01:37', '00:01:11', '00:00:52', '00:00:49', '00:01:23', '00:01:20', '00:00:45', '00:01:41', '00:01:34', '00:01:00', '00:01:33', '00:01:00', '00:01:13', '00:00:59', '00:01:56'], 'Run': ['00:19:10', '00:20:14', '00:22:02', '00:19:26', '00:20:54', '00:21:01', '00:21:31', '00:22:00', '00:22:17', '00:22:24', '00:21:04', '00:21:57', '00:22:49', '00:23:41', '00:24:26', '00:23:09', '00:24:35', '00:23:47', '00:24:44', '00:21:28', '00:25:12', '00:21:14', '00:21:58', '00:22:08', '00:23:40', '00:24:16', '00:23:53', '00:21:57', '00:24:31', '00:24:00', '00:20:51', '00:22:48', '00:23:59', '00:24:05', '00:22:44', '00:25:09', '00:23:56', '00:23:51', '00:24:46', '00:26:40', '00:27:21', '00:22:59', '00:24:48', '00:23:56', '00:27:06', '00:25:06', '00:23:10', '00:27:09', '00:21:14', '00:26:03'], 'Chip Elapsed': ['01:04:34', '01:05:16', '01:10:08', '01:10:19', '01:11:12', '01:11:46', '01:14:23', '01:14:46', '01:14:49', '01:15:08', '01:15:48', '01:16:07', '01:16:10', '01:17:06', '01:17:12', '01:17:42', '01:17:56', '01:18:08', '01:18:11', '01:18:24', '01:18:33', '01:18:37', '01:19:10', '01:19:13', '01:19:20', '01:19:32', '01:20:04', '01:20:33', '01:21:26', '01:21:40', '01:21:41', '01:21:46', '01:21:54', '01:21:55', '01:22:08', '01:22:35', '01:22:40', '01:22:48', '01:22:56', '01:23:14', '01:23:23', '01:23:24', '01:23:30', '01:23:38', '01:24:05', '01:24:15', '01:24:57', '01:25:22', '01:25:31', '01:25:54'], 'Division': ['SPRINT-AGE GROUP', 'SPRINT-AGE GROUP', 'SPRINT-AGE GROUP', 'SPRINT-AGE GROUP', 'SPRINT-AGE GROUP', 'SPRINT-AGE GROUP', 'SPRINT-AGE GROUP', 'SPRINT-AGE GROUP', 'SPRINT-AGE GROUP', 'SPRINT-AGE GROUP', 'SPRINT-AGE GROUP', 'SPRINT-AGE GROUP', 'SPRINT-AGE GROUP', 'SPRINT-AGE GROUP', 'SPRINT-AGE GROUP', 'SPRINT-AGE GROUP', 'SPRINT-AGE GROUP', 'SPRINT-AGE GROUP', 'SPRINT-AGE GROUP', 'SPRINT-AGE GROUP', 'SPRINT-AGE GROUP', 'SPRINT-AGE GROUP', 'SPRINT-AGE GROUP', 'SPRINT-AGE GROUP', 'SPRINT-AGE GROUP', 'SPRINT-AGE GROUP', 'SPRINT-AGE GROUP', 'SPRINT-AGE GROUP', 'SPRINT-AGE GROUP', 'SPRINT-AGE GROUP', 'SPRINT-AGE GROUP', 'SPRINT-AGE GROUP', 'SPRINT-AGE GROUP', 'SPRINT-AGE GROUP', 'SPRINT-AGE GROUP', 'SPRINT-AGE GROUP', 'SPRINT-AGE GROUP', 'SPRINT-AGE GROUP', 'SPRINT-AGE GROUP', 'SPRINT-AGE GROUP', 'SPRINT-AGE GROUP', 'SPRINT-AGE GROUP', 'SPRINT-AGE GROUP', 'SPRINT-AGE GROUP', 'SPRINT-AGE GROUP', 'SPRINT-AGE GROUP', 'SPRINT-AGE GROUP', 'SPRINT-AGE GROUP', 'SPRINT-AGE GROUP', 'SPRINT-AGE GROUP'], 'Div Place': ['1', '2', '3', '4', '5', '6', '7', '8', '9', '10', '11', '12', '13', '14', '15', '16', '17', '18', '19', '20', '21', '22', '23', '24', '25', '26', '27', '28', '29', '30', '31', '32', '33', '34', '35', '36', '37', '38', '39', '40', '41', '42', '43', '44', '45', '46', '47', '48', '49', '50'], 'Age': ['23', '24', '25', '30', '44', '36', '42', '32', '37', '16', '29', '52', '27', '53', '33', '41', '53', '38', '39', '53', '16', '25', '13', '13', '53', '66', '50', '25', '52', '46', '22', '46', '42', '38', '30', '61', '39', '30', '34', '53', '31', '24', '47', '29', '52', '35', '29', '46', '53', '32'], 'Age Place': ['O/A', 'O/A', 'O/A', '1', '1', '1', '2', '2', '2', '1', '1', '1', '2', '2', '3', '3', '3', '3', '4', '4', '2', '3', '3', '4', 'O/A', '1', '5', '4', '6', '1', '1', 'O/A', '4', '5', 'O/A', '1', '1', '4', '1', '1', '5', '2', '1', '5', '7', '6', '6', '2', '8', '6'], 'Gender': ['M', 'M', 'M', 'M', 'M', 'M', 'M', 'M', 'M', 'M', 'M', 'M', 'M', 'M', 'M', 'M', 'M', 'M', 'M', 'M', 'M', 'M', 'M', 'M', 'F', 'M', 'M', 'M', 'M', 'M', 'M', 'F', 'M', 'M', 'F', 'M', 'F', 'M', 'F', 'F', 'M', 'M', 'F', 'M', 'M', 'M', 'M', 'F', 'M', 'M'], 'Gender Place': ['1', '2', '3', '4', '5', '6', '7', '8', '9', '10', '11', '12', '13', '14', '15', '16', '17', '18', '19', '20', '21', '22', '23', '24', '1', '25', '26', '27', '28', '29', '30', '2', '31', '32', '3', '33', '4', '34', '5', '6', '35', '36', '7', '37', '38', '39', '40', '8', '41', '42']}\n"
     ]
    }
   ],
   "source": [
    "event_dict2 = dict.fromkeys(['Bib','Name', 'Team Name', 'City', 'Start Time', 'Swim', 'T1', 'Bike', 'T2', 'Run', 'Chip Elapsed', 'Division', 'Div Place', 'Age', 'Age Place', 'Gender', 'Gender Place'])\n",
    "\n",
    "\n",
    "i = 1\n",
    "for key in event_dict2:\n",
    "    rows = []\n",
    "    for r in range(1,55):\n",
    "        try:\n",
    "            rows.append(driver.find_element_by_xpath('//*[@id=\"pagedResults\"]/div[2]/table/tbody/tr[' + str(r) + ']/td[' + str(i) + ']').text)\n",
    "            #print(rows)\n",
    "        except  NoSuchElementException:\n",
    "            #print('nse')\n",
    "            break\n",
    "    event_dict2[key]=rows\n",
    "    i=i+1\n",
    "\n",
    "\n",
    "\n",
    "\n",
    "\n",
    "print(event_dict2)"
   ]
  },
  {
   "cell_type": "code",
   "execution_count": null,
   "metadata": {},
   "outputs": [],
   "source": []
  },
  {
   "cell_type": "code",
   "execution_count": null,
   "metadata": {},
   "outputs": [],
   "source": [
    "    try:\n",
    "        myElem = WebDriverWait(driver, delay).until(EC.presence_of_element_located((By.XPATH, '//*[@id=\"pagedResults\"]/div[2]/table/thead/tr/th[1]')))\n",
    "        print (\"Page is ready!\")\n",
    "    except TimeoutException:\n",
    "        print (\"Loading took too much time!\")\n"
   ]
  }
 ],
 "metadata": {
  "interpreter": {
   "hash": "109c97d19a338056cdf4abe9c54b25f1208393da3a14093d2fe719bfd0bdff89"
  },
  "kernelspec": {
   "display_name": "Python 3.8.8 64-bit ('base': conda)",
   "language": "python",
   "name": "python3"
  },
  "language_info": {
   "codemirror_mode": {
    "name": "ipython",
    "version": 3
   },
   "file_extension": ".py",
   "mimetype": "text/x-python",
   "name": "python",
   "nbconvert_exporter": "python",
   "pygments_lexer": "ipython3",
   "version": "3.8.8"
  },
  "orig_nbformat": 4
 },
 "nbformat": 4,
 "nbformat_minor": 2
}
